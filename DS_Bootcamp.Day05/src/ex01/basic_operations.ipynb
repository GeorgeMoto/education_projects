{
 "cells": [
  {
   "metadata": {
    "ExecuteTime": {
     "end_time": "2025-06-30T10:52:03.965921Z",
     "start_time": "2025-06-30T10:52:03.405266Z"
    }
   },
   "cell_type": "code",
   "source": [
    "import pandas as pd\n",
    "\n",
    "try:\n",
    "    df = pd.read_csv('../data/feed-views.log',\n",
    "                    sep=\"\\t\",\n",
    "                    names=[\"datetime\", \"user\"])\n",
    "except FileNotFoundError as e:\n",
    "    print(\"File not found.\")\n",
    "    raise e\n",
    "\n",
    "#  Конвертируем datetime в datetime64[ns] тип\n",
    "df['datetime'] = pd.to_datetime(df['datetime'])\n",
    "\n",
    "# Извлекаем компоненты времени: year, month, day, hour, minute, second\n",
    "df['year'] = df['datetime'].dt.year\n",
    "df['month'] = df['datetime'].dt.month\n",
    "df['day'] = df['datetime'].dt.day\n",
    "df['hour'] = df['datetime'].dt.hour\n",
    "df['minute'] = df['datetime'].dt.minute\n",
    "df['second'] = df['datetime'].dt.second\n",
    "\n",
    "#  Создаем колонку daytime используя метод cut\n",
    "# Интервалы: 0-3:59 night, 4-6:59 early morning, 7-10:59 morning,\n",
    "#           11-16:59 afternoon, 17-19:59 early evening, 20-23:59 evening\n",
    "bins = [0, 4, 7, 11, 17, 20, 24]\n",
    "labels = ['night', 'early morning', 'morning', 'afternoon', 'early evening', 'evening']\n",
    "\n",
    "df['daytime'] = pd.cut(df['hour'],\n",
    "                         bins=bins,\n",
    "                         labels=labels,\n",
    "                         right=False,  # левая граница включена [0,4), [4,7), [7,11) и т.д.\n",
    "                         include_lowest=True)\n",
    "\n",
    "# Устанавливаем колонку user как индекс\n",
    "df.set_index('user', inplace=True)\n"
   ],
   "id": "cf4e96c90f8233fe",
   "outputs": [],
   "execution_count": 1
  },
  {
   "metadata": {
    "ExecuteTime": {
     "end_time": "2025-06-30T10:52:04.288513Z",
     "start_time": "2025-06-30T10:52:04.273376Z"
    }
   },
   "cell_type": "code",
   "source": [
    "  # Вычисляем количество элементов\n",
    "print(f\"Общее количество элементов: \\n{df.count()}\")"
   ],
   "id": "4c27ed7738a0baeb",
   "outputs": [
    {
     "name": "stdout",
     "output_type": "stream",
     "text": [
      "Общее количество элементов: \n",
      "datetime    1076\n",
      "year        1076\n",
      "month       1076\n",
      "day         1076\n",
      "hour        1076\n",
      "minute      1076\n",
      "second      1076\n",
      "daytime     1076\n",
      "dtype: int64\n"
     ]
    }
   ],
   "execution_count": 2
  },
  {
   "metadata": {
    "ExecuteTime": {
     "end_time": "2025-06-30T10:52:04.348832Z",
     "start_time": "2025-06-30T10:52:04.333167Z"
    }
   },
   "cell_type": "code",
   "source": [
    "# Количество элементов в каждой категории времени дня используя value_counts()\n",
    "print(f\"Распределение по времени дня:\\n{df['daytime'].value_counts()}\")"
   ],
   "id": "90bb263ba9d80b79",
   "outputs": [
    {
     "name": "stdout",
     "output_type": "stream",
     "text": [
      "Распределение по времени дня:\n",
      "daytime\n",
      "evening          509\n",
      "afternoon        252\n",
      "early evening    145\n",
      "night            129\n",
      "morning           36\n",
      "early morning      5\n",
      "Name: count, dtype: int64\n"
     ]
    }
   ],
   "execution_count": 3
  },
  {
   "metadata": {
    "ExecuteTime": {
     "end_time": "2025-06-30T10:52:04.411289Z",
     "start_time": "2025-06-30T10:52:04.395663Z"
    }
   },
   "cell_type": "code",
   "source": [
    "\n",
    "# Сортируем по hour, minute, second одновременно (ascending) - модифицируем views напрямую\n",
    "df.sort_values(['hour', 'minute', 'second'], inplace=True)\n",
    "\n",
    "# Вычисляем минимум и максимум для часов, моду для daytime категорий\n",
    "print(f\"\\nСтатистика:\")\n",
    "print(f\"Минимальный час: {df['hour'].min()}\")\n",
    "print(f\"Максимальный час: {df['hour'].max()}\")\n",
    "print(f\"Мода для daytime: {df['daytime'].mode()[0]}\")"
   ],
   "id": "6b0de8fd8c05f938",
   "outputs": [
    {
     "name": "stdout",
     "output_type": "stream",
     "text": [
      "\n",
      "Статистика:\n",
      "Минимальный час: 0\n",
      "Максимальный час: 23\n",
      "Мода для daytime: evening\n"
     ]
    }
   ],
   "execution_count": 4
  },
  {
   "metadata": {
    "ExecuteTime": {
     "end_time": "2025-06-30T10:52:04.470553Z",
     "start_time": "2025-06-30T10:52:04.454916Z"
    }
   },
   "cell_type": "code",
   "source": [
    "# Максимум часов для строк где время дня = 'night'\n",
    "night_data = df[df['daytime'] == 'night']\n",
    "if not night_data.empty:\n",
    "    print(f\"Максимальный час для night: 0{night_data['hour'].max()}:00\")"
   ],
   "id": "2fd5b0e658b7b52d",
   "outputs": [
    {
     "name": "stdout",
     "output_type": "stream",
     "text": [
      "Максимальный час для night: 03:00\n"
     ]
    }
   ],
   "execution_count": 5
  },
  {
   "metadata": {},
   "cell_type": "markdown",
   "source": "",
   "id": "29ecaf59f7f04adb"
  },
  {
   "metadata": {
    "ExecuteTime": {
     "end_time": "2025-06-30T10:52:04.539293Z",
     "start_time": "2025-06-30T10:52:04.523663Z"
    }
   },
   "cell_type": "code",
   "source": [
    "# Минимум часов для строк где время дня = 'morning' + кто посещал\n",
    "morning_data = df[df['daytime'] == 'morning']\n",
    "if not morning_data.empty:\n",
    "    morning_min_hour = morning_data['hour'].min()\n",
    "    print(f\"Минимальный час для morning: 0{morning_min_hour}:00\")\n",
    "    print(f\"Пользователи посетители в {morning_min_hour}:00: {' '.join(morning_data[morning_data['hour'] == morning_min_hour].index.tolist())}\")"
   ],
   "id": "874b03ef895d8daa",
   "outputs": [
    {
     "name": "stdout",
     "output_type": "stream",
     "text": [
      "Минимальный час для morning: 08:00\n",
      "Пользователи посетители в 8:00: alexander alexander\n"
     ]
    }
   ],
   "execution_count": 6
  },
  {
   "metadata": {
    "ExecuteTime": {
     "end_time": "2025-06-30T10:52:04.595482Z",
     "start_time": "2025-06-30T10:52:04.579869Z"
    }
   },
   "cell_type": "code",
   "source": [
    "# Вычисляем моду(самок частое значение) для hour и daytime\n",
    "print(f\"\\nМода для hour: {' '.join(map(str, df['hour'].mode().tolist()))}\")\n",
    "print(f\"Мода для daytime: {' '.join(df['daytime'].mode().tolist())}\")"
   ],
   "id": "b6e14d8211a5ca96",
   "outputs": [
    {
     "name": "stdout",
     "output_type": "stream",
     "text": [
      "\n",
      "Мода для hour: 22\n",
      "Мода для daytime: evening\n"
     ]
    }
   ],
   "execution_count": 7
  },
  {
   "metadata": {
    "ExecuteTime": {
     "end_time": "2025-06-30T10:52:04.673818Z",
     "start_time": "2025-06-30T10:52:04.642358Z"
    }
   },
   "cell_type": "code",
   "source": [
    "# 3 самых ранних и поздних часа утром используя nsmallest() и nlargest()\n",
    "if not morning_data.empty:\n",
    "    print(\"\\n3 самых ранних часа утром:\")\n",
    "    print(morning_data.nsmallest(3, 'hour')[['hour', 'datetime']])\n",
    "    print(\"\\n3 самых поздних часа утром:\")\n",
    "    print(morning_data.nlargest(3, 'hour')[['hour', 'datetime']])"
   ],
   "id": "d21101f764f8be8b",
   "outputs": [
    {
     "name": "stdout",
     "output_type": "stream",
     "text": [
      "\n",
      "3 самых ранних часа утром:\n",
      "           hour                   datetime\n",
      "user                                      \n",
      "alexander     8 2020-05-15 08:16:03.918402\n",
      "alexander     8 2020-05-15 08:35:01.471463\n",
      "alexander     9 2020-05-15 09:02:24.999438\n",
      "\n",
      "3 самых поздних часа утром:\n",
      "            hour                   datetime\n",
      "user                                       \n",
      "konstantin    10 2020-05-16 10:02:08.925840\n",
      "maxim         10 2020-05-14 10:08:04.832361\n",
      "maxim         10 2020-05-14 10:08:05.726956\n"
     ]
    }
   ],
   "execution_count": 8
  },
  {
   "metadata": {
    "ExecuteTime": {
     "end_time": "2025-06-30T10:52:04.720695Z",
     "start_time": "2025-06-30T10:52:04.705071Z"
    }
   },
   "cell_type": "code",
   "source": [
    "# используем describe() для получения базовой статистики для колонок\n",
    "hour_stats = df['hour'].describe()\n",
    "print(f\"\\nБазовая статистика для часов (describe):\")\n",
    "print(hour_stats)"
   ],
   "id": "ab0c94e291c4aa90",
   "outputs": [
    {
     "name": "stdout",
     "output_type": "stream",
     "text": [
      "\n",
      "Базовая статистика для часов (describe):\n",
      "count    1076.000000\n",
      "mean       16.249071\n",
      "std         6.955490\n",
      "min         0.000000\n",
      "25%        13.000000\n",
      "50%        19.000000\n",
      "75%        22.000000\n",
      "max        23.000000\n",
      "Name: hour, dtype: float64\n"
     ]
    }
   ],
   "execution_count": 9
  },
  {
   "metadata": {
    "ExecuteTime": {
     "end_time": "2025-06-30T10:52:04.767567Z",
     "start_time": "2025-06-30T10:52:04.751946Z"
    }
   },
   "cell_type": "code",
   "source": [
    "\n",
    "# Находим самый популярный интервал посещений - вычисляем IQR для hour\n",
    "# Извлекаем значения из результата describe() и сохраняем в переменную iqr\n",
    "iqr = hour_stats['75%'] - hour_stats['25%']"
   ],
   "id": "21d25ff5899c97ed",
   "outputs": [],
   "execution_count": 10
  },
  {
   "metadata": {
    "ExecuteTime": {
     "end_time": "2025-06-30T10:52:04.830728Z",
     "start_time": "2025-06-30T10:52:04.799448Z"
    }
   },
   "cell_type": "code",
   "source": [
    "\n",
    "print(f\"\\nИнтерквартильный размах (IQR) для часов: {iqr}\")\n",
    "print(f\"Самый популярный интервал посещений: {hour_stats['25%']} - {hour_stats['75%']} часов\")\n"
   ],
   "id": "1794a186f407a46",
   "outputs": [
    {
     "name": "stdout",
     "output_type": "stream",
     "text": [
      "\n",
      "Интерквартильный размах (IQR) для часов: 9.0\n",
      "Самый популярный интервал посещений: 13.0 - 22.0 часов\n"
     ]
    }
   ],
   "execution_count": 11
  }
 ],
 "metadata": {
  "kernelspec": {
   "display_name": "Python 3",
   "language": "python",
   "name": "python3"
  },
  "language_info": {
   "codemirror_mode": {
    "name": "ipython",
    "version": 2
   },
   "file_extension": ".py",
   "mimetype": "text/x-python",
   "name": "python",
   "nbconvert_exporter": "python",
   "pygments_lexer": "ipython2",
   "version": "2.7.6"
  }
 },
 "nbformat": 4,
 "nbformat_minor": 5
}
