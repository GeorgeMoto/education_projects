{
 "cells": [
  {
   "metadata": {
    "ExecuteTime": {
     "end_time": "2025-06-30T10:55:55.091345Z",
     "start_time": "2025-06-30T10:55:54.563971Z"
    }
   },
   "cell_type": "code",
   "source": [
    "import pandas as pd\n",
    "import numpy as np\n",
    "import json\n",
    "import random\n",
    "\n",
    "try:\n",
    "    pd.options.display.float_format = '{:.2f}'.format\n",
    "\n",
    "    with open('../ex02/auto.json', 'r') as f:\n",
    "        data = json.load(f)\n",
    "        df = pd.DataFrame(data)\n",
    "        print(\"Исходный датафрейм из JSON:\")\n",
    "        print(df.head())\n",
    "        print(f\"Размер исходного датафрейма: {df.shape}\")\n",
    "\n",
    "except FileNotFoundError as e:\n",
    "    print(\"File not found\")\n",
    "    raise e"
   ],
   "id": "b148850ca536600b",
   "outputs": [
    {
     "name": "stdout",
     "output_type": "stream",
     "text": [
      "Исходный датафрейм из JSON:\n",
      "      CarNumber  Refund   Fines    Make  Model\n",
      "0  Y163O8161RUS    2.00 3200.00    Ford  Focus\n",
      "1   E432XX77RUS    1.00 6500.00  Toyota  Camry\n",
      "2   7184TT36RUS    1.00 2100.00    Ford  Focus\n",
      "3  X582HE161RUS    2.00 2000.00    Ford  Focus\n",
      "4  92918M178RUS    1.00 5700.00    Ford  Focus\n",
      "Размер исходного датафрейма: (725, 5)\n"
     ]
    }
   ],
   "execution_count": 1
  },
  {
   "metadata": {
    "ExecuteTime": {
     "end_time": "2025-06-30T10:55:55.446051Z",
     "start_time": "2025-06-30T10:55:55.386749Z"
    }
   },
   "cell_type": "code",
   "source": [
    "# Создаем выборку из 200 новых наблюдений\n",
    "unique_cars = df[['CarNumber', 'Make', 'Model']].drop_duplicates()\n",
    "print(f\"\\nКоличество уникальных автомобилей: {len(unique_cars)}\")\n",
    "\n",
    "# Создаем выборку из 200 наблюдений с random_state=21\n",
    "np.random.seed(21)\n",
    "random.seed(21)\n",
    "\n",
    "# Для создания выборки используем существующие комбинации CarNumber, Make, Model\n",
    "sample_size = 200\n",
    "sample_indices = np.random.choice(len(unique_cars), size=sample_size, replace=True)\n",
    "sample_cars = unique_cars.iloc[sample_indices].reset_index(drop=True)\n",
    "\n",
    "# Добавляем случайные значения Refund и Fines из исходного датафрейма\n",
    "refund_values = df['Refund'].dropna().values\n",
    "fines_values = df['Fines'].dropna().values\n",
    "\n",
    "sample_refunds = np.random.choice(refund_values, size=sample_size)\n",
    "sample_fines = np.random.choice(fines_values, size=sample_size)\n",
    "\n",
    "# Создаем датафрейм выборки\n",
    "sample_df = pd.DataFrame({\n",
    "    'CarNumber': sample_cars['CarNumber'],\n",
    "    'Refund': sample_refunds,\n",
    "    'Fines': sample_fines,\n",
    "    'Make': sample_cars['Make'],\n",
    "    'Model': sample_cars['Model']\n",
    "})\n",
    "\n",
    "print(\"\\nВыборка из 200 наблюдений:\")\n",
    "print(sample_df.head())"
   ],
   "id": "c854bf9d7acb8ff9",
   "outputs": [
    {
     "name": "stdout",
     "output_type": "stream",
     "text": [
      "\n",
      "Количество уникальных автомобилей: 532\n",
      "\n",
      "Выборка из 200 наблюдений:\n",
      "      CarNumber  Refund    Fines  Make  Model\n",
      "0   T6329O50RUS    1.00 12300.00  Ford  Focus\n",
      "1   H917TC36RUS    1.00 24200.00  Ford  Focus\n",
      "2  9763HY161RUS    2.00  5800.00  Ford  Focus\n",
      "3  H003MH197RUS    2.00  2100.00  Ford  Focus\n",
      "4  O64097197RUS    2.00  2000.00  Ford  Focus\n"
     ]
    }
   ],
   "execution_count": 2
  },
  {
   "metadata": {
    "ExecuteTime": {
     "end_time": "2025-06-30T10:55:55.493509Z",
     "start_time": "2025-06-30T10:55:55.477855Z"
    }
   },
   "cell_type": "code",
   "source": [
    "# Объединяем исходный датафрейм с выборкой\n",
    "concat_rows = pd.concat([df, sample_df], ignore_index=True)\n",
    "print(f\"\\nРазмер объединенного датафрейма: {concat_rows.shape}\")\n",
    "\n",
    "# 4. Добавляем колонку Year с случайными годами от 1980 до 2019\n",
    "np.random.seed(21)\n",
    "years = np.random.randint(1980, 2020, size=len(concat_rows))\n",
    "year_series = pd.Series(years, name='Year')\n",
    "\n",
    "# Объединяем с датафреймом и называем результат 'fines'\n",
    "fines = pd.concat([concat_rows, year_series], axis=1)\n",
    "print(\"\\nДатафрейм с добавленной колонкой Year:\")\n",
    "print(fines.head())"
   ],
   "id": "3b3f1b5b3ef19dad",
   "outputs": [
    {
     "name": "stdout",
     "output_type": "stream",
     "text": [
      "\n",
      "Размер объединенного датафрейма: (925, 5)\n",
      "\n",
      "Датафрейм с добавленной колонкой Year:\n",
      "      CarNumber  Refund   Fines    Make  Model  Year\n",
      "0  Y163O8161RUS    2.00 3200.00    Ford  Focus  1989\n",
      "1   E432XX77RUS    1.00 6500.00  Toyota  Camry  1995\n",
      "2   7184TT36RUS    1.00 2100.00    Ford  Focus  1984\n",
      "3  X582HE161RUS    2.00 2000.00    Ford  Focus  2015\n",
      "4  92918M178RUS    1.00 5700.00    Ford  Focus  2014\n"
     ]
    }
   ],
   "execution_count": 3
  },
  {
   "metadata": {
    "ExecuteTime": {
     "end_time": "2025-06-30T10:55:55.563563Z",
     "start_time": "2025-06-30T10:55:55.540374Z"
    }
   },
   "cell_type": "code",
   "source": [
    "# Читаем данные о фамилиях из JSON\n",
    "with open('../../datasets/surname.json', 'r') as f:\n",
    "    surname_data = json.load(f)\n",
    "\n",
    "# Преобразуем в DataFrame и очищаем от специальных символов\n",
    "surnames_df = pd.DataFrame(surname_data[1:], columns=surname_data[0])  # Пропускаем заголовок\n",
    "surnames_list = [name.strip('\",[]') for name in surnames_df['NAME'].values]\n",
    "\n",
    "print(f\"\\nКоличество фамилий: {len(surnames_list)}\")\n",
    "print(\"Первые 10 фамилий:\", surnames_list[:10])"
   ],
   "id": "c05184c80adbb0a2",
   "outputs": [
    {
     "name": "stdout",
     "output_type": "stream",
     "text": [
      "\n",
      "Количество фамилий: 100\n",
      "Первые 10 фамилий: ['ADAMS', 'ALLEN', 'ALVAREZ', 'ANDERSON', 'BAILEY', 'BAKER', 'BENNETT', 'BROOKS', 'BROWN', 'CAMPBELL']\n"
     ]
    }
   ],
   "execution_count": 4
  },
  {
   "metadata": {
    "ExecuteTime": {
     "end_time": "2025-06-30T10:55:55.631516Z",
     "start_time": "2025-06-30T10:55:55.612757Z"
    }
   },
   "cell_type": "code",
   "source": [
    "# Создаем датафрейм owners\n",
    "unique_car_numbers = fines['CarNumber'].unique()\n",
    "num_unique_cars = len(unique_car_numbers)\n",
    "\n",
    "# Выбираем случайные фамилии с random_state=21\n",
    "random.seed(21)\n",
    "selected_surnames = random.choices(surnames_list, k=num_unique_cars)\n",
    "\n",
    "owners = pd.DataFrame({\n",
    "    'CarNumber': unique_car_numbers,\n",
    "    'SURNAME': selected_surnames\n",
    "})\n",
    "\n",
    "print(f\"\\nДатафрейм owners создан с {len(owners)} записями:\")\n",
    "print(owners.head())"
   ],
   "id": "c1664dd74a35318",
   "outputs": [
    {
     "name": "stdout",
     "output_type": "stream",
     "text": [
      "\n",
      "Датафрейм owners создан с 531 записями:\n",
      "      CarNumber  SURNAME\n",
      "0  Y163O8161RUS   COOPER\n",
      "1   E432XX77RUS    PRICE\n",
      "2   7184TT36RUS   PARKER\n",
      "3  X582HE161RUS     LONG\n",
      "4  92918M178RUS  EDWARDS\n"
     ]
    }
   ],
   "execution_count": 5
  },
  {
   "metadata": {
    "ExecuteTime": {
     "end_time": "2025-06-30T10:55:55.684818Z",
     "start_time": "2025-06-30T10:55:55.669390Z"
    }
   },
   "cell_type": "code",
   "source": [
    "additional_fines = pd.DataFrame({\n",
    "    'CarNumber': ['NEW001RUS', 'NEW002RUS', 'NEW003RUS', 'NEW004RUS', 'NEW005RUS'],\n",
    "    'Refund': [2.0, 1.5, 2.5, 1.0, 2.0],\n",
    "    'Fines': [5000.0, 3000.0, 7000.0, 2000.0, 4000.0],\n",
    "    'Make': ['BMW', 'Audi', 'Mercedes', 'Lexus', 'Volvo'],\n",
    "    'Model': ['X5', 'A4', 'C-Class', 'RX', 'XC90'],\n",
    "    'Year': [2015, 2016, 2017, 2018, 2019]\n",
    "})\n",
    "\n",
    "fines = pd.concat([fines, additional_fines], ignore_index=True)\n",
    "print(f\"\\nРазмер fines после добавления 5 записей: {fines.shape}\")"
   ],
   "id": "4bab899b389c26a6",
   "outputs": [
    {
     "name": "stdout",
     "output_type": "stream",
     "text": [
      "\n",
      "Размер fines после добавления 5 записей: (930, 6)\n"
     ]
    }
   ],
   "execution_count": 6
  },
  {
   "metadata": {
    "ExecuteTime": {
     "end_time": "2025-06-30T10:55:55.747373Z",
     "start_time": "2025-06-30T10:55:55.731907Z"
    }
   },
   "cell_type": "code",
   "source": [
    "# Удаляем последние 20 записей из owners и добавляем 3 новые\n",
    "owners = owners.iloc[:-20].copy()\n",
    "\n",
    "additional_owners = pd.DataFrame({\n",
    "    'CarNumber': ['OWNER001RUS', 'OWNER002RUS', 'OWNER003RUS'],\n",
    "    'SURNAME': ['PETROV', 'SIDOROV', 'FEDOROV']\n",
    "})\n",
    "\n",
    "owners = pd.concat([owners, additional_owners], ignore_index=True)\n",
    "print(f\"\\nРазмер owners после изменений: {owners.shape}\")"
   ],
   "id": "dbc6eca04e178600",
   "outputs": [
    {
     "name": "stdout",
     "output_type": "stream",
     "text": [
      "\n",
      "Размер owners после изменений: (514, 2)\n"
     ]
    }
   ],
   "execution_count": 7
  },
  {
   "metadata": {
    "ExecuteTime": {
     "end_time": "2025-06-30T10:55:55.841074Z",
     "start_time": "2025-06-30T10:55:55.794204Z"
    }
   },
   "cell_type": "code",
   "source": [
    "#Различные типы объединений датафреймов\n",
    "# Inner join - только номера машин, которые есть в обоих датафреймах\n",
    "\n",
    "inner_join = pd.merge(fines, owners, on='CarNumber', how='inner')\n",
    "print(f\"\\nInner join (пересечение): {inner_join.shape[0]} записей\")\n",
    "print(\"Пример записей:\")\n",
    "print(inner_join[['CarNumber', 'Make', 'Model', 'Fines', 'SURNAME']].head())\n",
    "\n",
    "# Outer join - все номера машин из обоих датафреймов\n",
    "outer_join = pd.merge(fines, owners, on='CarNumber', how='outer')\n",
    "print(f\"\\nOuter join (объединение): {outer_join.shape[0]} записей\")\n",
    "\n",
    "# Left join - только номера машин из fines\n",
    "left_join = pd.merge(fines, owners, on='CarNumber', how='left')\n",
    "print(f\"\\nLeft join (все из fines): {left_join.shape[0]} записей\")\n",
    "\n",
    "# Right join - только номера машин из owners\n",
    "right_join = pd.merge(fines, owners, on='CarNumber', how='right')\n",
    "print(f\"\\nRight join (все из owners): {right_join.shape[0]} записей\")"
   ],
   "id": "d88e42f14b58962e",
   "outputs": [
    {
     "name": "stdout",
     "output_type": "stream",
     "text": [
      "\n",
      "Inner join (пересечение): 897 записей\n",
      "Пример записей:\n",
      "      CarNumber    Make  Model   Fines  SURNAME\n",
      "0  Y163O8161RUS    Ford  Focus 3200.00   COOPER\n",
      "1   E432XX77RUS  Toyota  Camry 6500.00    PRICE\n",
      "2   7184TT36RUS    Ford  Focus 2100.00   PARKER\n",
      "3  X582HE161RUS    Ford  Focus 2000.00     LONG\n",
      "4  92918M178RUS    Ford  Focus 5700.00  EDWARDS\n",
      "\n",
      "Outer join (объединение): 933 записей\n",
      "\n",
      "Left join (все из fines): 930 записей\n",
      "\n",
      "Right join (все из owners): 900 записей\n"
     ]
    }
   ],
   "execution_count": 8
  },
  {
   "metadata": {
    "ExecuteTime": {
     "end_time": "2025-06-30T10:55:55.919196Z",
     "start_time": "2025-06-30T10:55:55.887947Z"
    }
   },
   "cell_type": "code",
   "source": [
    "# Создаем сводную таблицу\n",
    "# Создаем колонку Make_Model для сводной таблицы\n",
    "fines['Make_Model'] = fines['Make'] + ' ' + fines['Model'].fillna('Unknown')\n",
    "\n",
    "# Создаем сводную таблицу\n",
    "pivot_table = pd.pivot_table(\n",
    "    fines,\n",
    "    values='Fines',\n",
    "    index='Make_Model',\n",
    "    columns='Year',\n",
    "    aggfunc='sum'\n",
    ")\n",
    "\n",
    "print(\"Сводная таблица (сумма штрафов по моделям и годам):\")\n",
    "print(pivot_table.iloc[:10, :10])  # Показываем первые 10 строк и 10 столбцов\n",
    "\n",
    "# Показываем размеры сводной таблицы\n",
    "print(f\"\\nРазмер сводной таблицы: {pivot_table.shape}\")\n",
    "print(f\"Годы в сводной таблице: {sorted(pivot_table.columns.tolist())}\")\n",
    "\n",
    "# Показываем модели с наибольшими штрафами\n",
    "total_fines_by_model = pivot_table.sum(axis=1).sort_values(ascending=False)\n",
    "print(f\"\\nТоп-10 моделей по общей сумме штрафов:\")\n",
    "print(total_fines_by_model.head(10))"
   ],
   "id": "df7590f151059fd2",
   "outputs": [
    {
     "name": "stdout",
     "output_type": "stream",
     "text": [
      "Сводная таблица (сумма штрафов по моделям и годам):\n",
      "Year                 1980      1981      1982     1983     1984      1985  \\\n",
      "Make_Model                                                                  \n",
      "Audi                  NaN       NaN       NaN      NaN      NaN       NaN   \n",
      "Audi A4               NaN       NaN       NaN      NaN      NaN       NaN   \n",
      "BMW                   NaN       NaN       NaN      NaN      NaN       NaN   \n",
      "BMW X5                NaN       NaN       NaN      NaN      NaN       NaN   \n",
      "Ford Focus       92889.17 395483.76 166283.76 85800.00 99489.17 155178.35   \n",
      "Ford Mondeo           NaN       NaN       NaN      NaN      NaN       NaN   \n",
      "Lexus RX              NaN       NaN       NaN      NaN      NaN       NaN   \n",
      "Mercedes C-Class      NaN       NaN       NaN      NaN      NaN       NaN   \n",
      "Skoda Octavia     1900.00       NaN   6900.00 11594.59      NaN  10294.59   \n",
      "Toyota Camry     12500.00   8594.59       NaN  7200.00      NaN       NaN   \n",
      "\n",
      "Year                  1986      1987      1988     1989  \n",
      "Make_Model                                               \n",
      "Audi                   NaN       NaN       NaN      NaN  \n",
      "Audi A4                NaN       NaN       NaN      NaN  \n",
      "BMW                    NaN  52600.00       NaN      NaN  \n",
      "BMW X5                 NaN       NaN       NaN      NaN  \n",
      "Ford Focus       111694.59 146200.00  98494.59 84900.00  \n",
      "Ford Mondeo            NaN       NaN       NaN  8600.00  \n",
      "Lexus RX               NaN       NaN       NaN      NaN  \n",
      "Mercedes C-Class       NaN       NaN       NaN      NaN  \n",
      "Skoda Octavia       600.00   5200.00 180000.00 91400.00  \n",
      "Toyota Camry           NaN       NaN       NaN 22400.00  \n",
      "\n",
      "Размер сводной таблицы: (18, 40)\n",
      "Годы в сводной таблице: [1980, 1981, 1982, 1983, 1984, 1985, 1986, 1987, 1988, 1989, 1990, 1991, 1992, 1993, 1994, 1995, 1996, 1997, 1998, 1999, 2000, 2001, 2002, 2003, 2004, 2005, 2006, 2007, 2008, 2009, 2010, 2011, 2012, 2013, 2014, 2015, 2016, 2017, 2018, 2019]\n",
      "\n",
      "Топ-10 моделей по общей сумме штрафов:\n",
      "Make_Model\n",
      "Ford Focus          6001591.43\n",
      "Skoda Octavia        751962.11\n",
      "Volkswagen Golf      361694.59\n",
      "Toyota Corolla       258194.59\n",
      "Toyota Camry         189772.93\n",
      "Volkswagen Passat    141689.17\n",
      "Volkswagen Jetta     134700.00\n",
      "Ford Mondeo          110700.00\n",
      "BMW                   70694.59\n",
      "Volvo                 34600.00\n",
      "dtype: float64\n"
     ]
    }
   ],
   "execution_count": 9
  },
  {
   "metadata": {
    "ExecuteTime": {
     "end_time": "2025-06-30T10:55:56.029380Z",
     "start_time": "2025-06-30T10:55:55.998110Z"
    }
   },
   "cell_type": "code",
   "source": [
    "\n",
    "# 11. Сохраняем датафреймы в CSV файлы без индекса\n",
    "try:\n",
    "    fines.to_csv('fines.csv', index=False)\n",
    "    owners.to_csv('owners.csv', index=False)\n",
    "    print(\"Файлы успешно сохранены:\")\n",
    "    print(\"- fines.csv\")\n",
    "    print(\"- owners.csv\")\n",
    "\n",
    "except Exception as e:\n",
    "    print(\"Произошла ошибка при создании файлов\")\n",
    "    raise e"
   ],
   "id": "2ad3afb5763fc110",
   "outputs": [
    {
     "name": "stdout",
     "output_type": "stream",
     "text": [
      "Файлы успешно сохранены:\n",
      "- fines.csv\n",
      "- owners.csv\n"
     ]
    }
   ],
   "execution_count": 10
  },
  {
   "metadata": {
    "ExecuteTime": {
     "end_time": "2025-06-30T10:55:56.107746Z",
     "start_time": "2025-06-30T10:55:56.092083Z"
    }
   },
   "cell_type": "code",
   "source": [
    "# Финальная информация о датафреймах\n",
    "print(f\"Размер датафрейма fines: {fines.shape}\")\n",
    "print(f\"Размер датафрейма owners: {owners.shape}\")\n",
    "print(f\"Уникальных номеров машин в fines: {fines['CarNumber'].nunique()}\")\n",
    "print(f\"Уникальных номеров машин в owners: {owners['CarNumber'].nunique()}\")\n",
    "\n",
    "print(\"\\nПример записей из финального датафрейма fines:\")\n",
    "print(fines.tail())\n",
    "\n",
    "print(\"\\nПример записей из датафрейма owners:\")\n",
    "print(owners.tail())\n"
   ],
   "id": "ad68d6f3c00f8afa",
   "outputs": [
    {
     "name": "stdout",
     "output_type": "stream",
     "text": [
      "Размер датафрейма fines: (930, 7)\n",
      "Размер датафрейма owners: (514, 2)\n",
      "Уникальных номеров машин в fines: 536\n",
      "Уникальных номеров машин в owners: 514\n",
      "\n",
      "Пример записей из финального датафрейма fines:\n",
      "     CarNumber  Refund   Fines      Make    Model  Year        Make_Model\n",
      "925  NEW001RUS    2.00 5000.00       BMW       X5  2015            BMW X5\n",
      "926  NEW002RUS    1.50 3000.00      Audi       A4  2016           Audi A4\n",
      "927  NEW003RUS    2.50 7000.00  Mercedes  C-Class  2017  Mercedes C-Class\n",
      "928  NEW004RUS    1.00 2000.00     Lexus       RX  2018          Lexus RX\n",
      "929  NEW005RUS    2.00 4000.00     Volvo     XC90  2019        Volvo XC90\n",
      "\n",
      "Пример записей из датафрейма owners:\n",
      "        CarNumber  SURNAME\n",
      "509  O50197197RUS   MURPHY\n",
      "510  7608EE777RUS    BROWN\n",
      "511   OWNER001RUS   PETROV\n",
      "512   OWNER002RUS  SIDOROV\n",
      "513   OWNER003RUS  FEDOROV\n"
     ]
    }
   ],
   "execution_count": 11
  },
  {
   "metadata": {
    "ExecuteTime": {
     "end_time": "2025-06-30T10:55:56.213580Z",
     "start_time": "2025-06-30T10:55:56.197920Z"
    }
   },
   "cell_type": "code",
   "source": "",
   "id": "888501572be255bd",
   "outputs": [],
   "execution_count": null
  }
 ],
 "metadata": {
  "kernelspec": {
   "display_name": "Python 3",
   "language": "python",
   "name": "python3"
  },
  "language_info": {
   "codemirror_mode": {
    "name": "ipython",
    "version": 2
   },
   "file_extension": ".py",
   "mimetype": "text/x-python",
   "name": "python",
   "nbconvert_exporter": "python",
   "pygments_lexer": "ipython2",
   "version": "2.7.6"
  }
 },
 "nbformat": 4,
 "nbformat_minor": 5
}
