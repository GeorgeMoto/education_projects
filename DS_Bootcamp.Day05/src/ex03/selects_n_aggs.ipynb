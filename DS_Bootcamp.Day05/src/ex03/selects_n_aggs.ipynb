{
 "cells": [
  {
   "cell_type": "code",
   "id": "initial_id",
   "metadata": {
    "collapsed": true,
    "ExecuteTime": {
     "end_time": "2025-06-30T10:54:36.757389Z",
     "start_time": "2025-06-30T10:54:36.183817Z"
    }
   },
   "source": [
    "import pandas as pd\n",
    "import json"
   ],
   "outputs": [],
   "execution_count": 1
  },
  {
   "metadata": {
    "ExecuteTime": {
     "end_time": "2025-06-30T10:54:37.098582Z",
     "start_time": "2025-06-30T10:54:37.067552Z"
    }
   },
   "cell_type": "code",
   "source": [
    "# Загрузка JSON файла в датафрейм\n",
    "try:\n",
    "    with open('../ex02/auto.json', 'r', encoding='utf-8') as f:\n",
    "        data = json.load(f)\n",
    "except FileNotFoundError as e:\n",
    "    print(\"File not found\")\n",
    "    raise e\n",
    "df = pd.DataFrame(data)\n",
    "print(f\"Датафрейм загружен. Размер: {df.shape}\")"
   ],
   "id": "2ef3e56d51f3e3c9",
   "outputs": [
    {
     "name": "stdout",
     "output_type": "stream",
     "text": [
      "Датафрейм загружен. Размер: (725, 5)\n"
     ]
    }
   ],
   "execution_count": 2
  },
  {
   "metadata": {
    "ExecuteTime": {
     "end_time": "2025-06-30T10:54:37.177675Z",
     "start_time": "2025-06-30T10:54:37.162052Z"
    }
   },
   "cell_type": "code",
   "source": [
    "#Установка CarNumber как индексного столбца\n",
    "df.set_index('CarNumber', inplace=True)\n",
    "print(f\"Размер после установки индекса: {df.shape}\")\n",
    "print(df.info())"
   ],
   "id": "884c58ca90c3b859",
   "outputs": [
    {
     "name": "stdout",
     "output_type": "stream",
     "text": [
      "Размер после установки индекса: (725, 4)\n",
      "<class 'pandas.core.frame.DataFrame'>\n",
      "Index: 725 entries, Y163O8161RUS to H419XE197RUS\n",
      "Data columns (total 4 columns):\n",
      " #   Column  Non-Null Count  Dtype  \n",
      "---  ------  --------------  -----  \n",
      " 0   Refund  725 non-null    float64\n",
      " 1   Fines   725 non-null    float64\n",
      " 2   Make    725 non-null    object \n",
      " 3   Model   725 non-null    object \n",
      "dtypes: float64(2), object(2)\n",
      "memory usage: 28.3+ KB\n",
      "None\n"
     ]
    }
   ],
   "execution_count": 3
  },
  {
   "metadata": {
    "ExecuteTime": {
     "end_time": "2025-06-30T10:54:37.265706Z",
     "start_time": "2025-06-30T10:54:37.221207Z"
    }
   },
   "cell_type": "code",
   "source": [
    "print(\"СЕЛЕКТЫ\")\n",
    "\n",
    "print(\"\\nСтроки где штрафы больше 2,100:\")\n",
    "select_1 = df[df['Fines'] > 2100]\n",
    "print(f\"Количество строк: {len(select_1)}\\n\")\n",
    "print(select_1.head())"
   ],
   "id": "ce2b96de45012ca3",
   "outputs": [
    {
     "name": "stdout",
     "output_type": "stream",
     "text": [
      "СЕЛЕКТЫ\n",
      "\n",
      "Строки где штрафы больше 2,100:\n",
      "Количество строк: 455\n",
      "\n",
      "              Refund        Fines    Make  Model\n",
      "CarNumber                                       \n",
      "Y163O8161RUS     2.0  3200.000000    Ford  Focus\n",
      "E432XX77RUS      1.0  6500.000000  Toyota  Camry\n",
      "92918M178RUS     1.0  5700.000000    Ford  Focus\n",
      "H234YH197RUS     2.0  6000.000000    Ford  Focus\n",
      "E40577152RUS     1.0  8594.586466    Ford  Focus\n"
     ]
    }
   ],
   "execution_count": 4
  },
  {
   "metadata": {
    "ExecuteTime": {
     "end_time": "2025-06-30T10:54:37.323768Z",
     "start_time": "2025-06-30T10:54:37.299696Z"
    }
   },
   "cell_type": "code",
   "source": [
    "print(\"\\n3.2 Строки где штрафы больше 2,100 и возврат равен 2:\")\n",
    "select_2 = df[(df['Fines'] > 2100) & (df['Refund'] == 2)]\n",
    "print(f\"Количество строк: {len(select_2)}\")\n",
    "print(select_2.head())"
   ],
   "id": "ec9729074fe80473",
   "outputs": [
    {
     "name": "stdout",
     "output_type": "stream",
     "text": [
      "\n",
      "3.2 Строки где штрафы больше 2,100 и возврат равен 2:\n",
      "Количество строк: 309\n",
      "              Refund        Fines   Make    Model\n",
      "CarNumber                                        \n",
      "Y163O8161RUS     2.0  3200.000000   Ford    Focus\n",
      "H234YH197RUS     2.0  6000.000000   Ford    Focus\n",
      "707987163RUS     2.0  2200.000000   Ford    Focus\n",
      "K330T8197RUS     2.0  8200.000000  Skoda  Octavia\n",
      "M592CH197RUS     2.0  8594.586466  Skoda  Octavia\n"
     ]
    }
   ],
   "execution_count": 5
  },
  {
   "metadata": {
    "ExecuteTime": {
     "end_time": "2025-06-30T10:54:37.370605Z",
     "start_time": "2025-06-30T10:54:37.354976Z"
    }
   },
   "cell_type": "code",
   "source": [
    "print(\"\\n3.3 Строки где модели из списка ['Focus', 'Corolla']:\")\n",
    "select_3 = df[df['Model'].isin(['Focus', 'Corolla'])]\n",
    "print(f\"Количество строк: {len(select_3)}\")\n",
    "print(select_3.head())"
   ],
   "id": "11de250d5980fea7",
   "outputs": [
    {
     "name": "stdout",
     "output_type": "stream",
     "text": [
      "\n",
      "3.3 Строки где модели из списка ['Focus', 'Corolla']:\n",
      "Количество строк: 593\n",
      "              Refund   Fines  Make  Model\n",
      "CarNumber                                \n",
      "Y163O8161RUS     2.0  3200.0  Ford  Focus\n",
      "7184TT36RUS      1.0  2100.0  Ford  Focus\n",
      "X582HE161RUS     2.0  2000.0  Ford  Focus\n",
      "92918M178RUS     1.0  5700.0  Ford  Focus\n",
      "H234YH197RUS     2.0  6000.0  Ford  Focus\n"
     ]
    }
   ],
   "execution_count": 6
  },
  {
   "metadata": {
    "ExecuteTime": {
     "end_time": "2025-06-30T10:54:37.433141Z",
     "start_time": "2025-06-30T10:54:37.417507Z"
    }
   },
   "cell_type": "code",
   "source": [
    "print(\"\\nСтроки где номер машины из определенного списка:\")\n",
    "car_numbers = ['Y7689C197RUS', '92928M178RUS', '7788KT197RUS', 'H115YO163RUS', 'X758HY197RUS']\n",
    "select_4 = df[df.index.isin(car_numbers)]\n",
    "print(f\"Количество строк: {len(select_4)}\")\n",
    "print(select_4)"
   ],
   "id": "2f34bf490ce7f57a",
   "outputs": [
    {
     "name": "stdout",
     "output_type": "stream",
     "text": [
      "\n",
      "Строки где номер машины из определенного списка:\n",
      "Количество строк: 18\n",
      "              Refund          Fines  Make  Model\n",
      "CarNumber                                       \n",
      "92928M178RUS     1.0    8594.586466  Ford  Focus\n",
      "H115YO163RUS     1.0    2200.000000  Ford  Focus\n",
      "7788KT197RUS     2.0   12000.000000  Ford  Focus\n",
      "X758HY197RUS     2.0   24200.000000  Ford  Focus\n",
      "X758HY197RUS     2.0   72600.000000  Ford  Focus\n",
      "Y7689C197RUS     1.0   27000.000000  Ford  Focus\n",
      "92928M178RUS     1.0     600.000000  Ford  Focus\n",
      "H115YO163RUS     1.0    8594.586466  Ford  Focus\n",
      "H115YO163RUS     2.0    1100.000000  Ford  Focus\n",
      "7788KT197RUS     2.0    8594.586466  Ford  Focus\n",
      "7788KT197RUS     1.0   20000.000000  Ford  Focus\n",
      "X758HY197RUS     2.0  145200.000000  Ford  Focus\n",
      "92928M178RUS     1.0    1200.000000  Ford  Focus\n",
      "Y7689C197RUS     2.0    9000.000000  Ford  Focus\n",
      "Y7689C197RUS     2.0   45000.000000  Ford  Focus\n",
      "7788KT197RUS     2.0    4000.000000  Ford  Focus\n",
      "Y7689C197RUS     1.0   36000.000000  Ford  Focus\n",
      "92928M178RUS     2.0    3000.000000  Ford  Focus\n"
     ]
    }
   ],
   "execution_count": 7
  },
  {
   "metadata": {
    "ExecuteTime": {
     "end_time": "2025-06-30T10:54:37.495616Z",
     "start_time": "2025-06-30T10:54:37.479983Z"
    }
   },
   "cell_type": "code",
   "source": [
    "print(\"АГРЕГАЦИИ ПО МАРКЕ И МОДЕЛИ\")\n",
    "\n",
    "# Медиана штрафов сгруппированная по марке\n",
    "print(\"\\n4.1 Медиана штрафов сгруппированная по марке:\")\n",
    "agg_1 = df.groupby('Make')['Fines'].median().sort_values(ascending=False)\n",
    "print(agg_1)"
   ],
   "id": "9585916bc410d008",
   "outputs": [
    {
     "name": "stdout",
     "output_type": "stream",
     "text": [
      "АГРЕГАЦИИ ПО МАРКЕ И МОДЕЛИ\n",
      "\n",
      "4.1 Медиана штрафов сгруппированная по марке:\n",
      "Make\n",
      "Volvo         8500.0\n",
      "Toyota        7700.0\n",
      "BMW           6500.0\n",
      "Volkswagen    4300.0\n",
      "Audi          4200.0\n",
      "Ford          3500.0\n",
      "Skoda         3250.0\n",
      "Name: Fines, dtype: float64\n"
     ]
    }
   ],
   "execution_count": 8
  },
  {
   "metadata": {
    "ExecuteTime": {
     "end_time": "2025-06-30T10:54:37.575081Z",
     "start_time": "2025-06-30T10:54:37.543087Z"
    }
   },
   "cell_type": "code",
   "source": [
    "print(\"\\n Медиана штрафов сгруппированная по марке и модели:\")\n",
    "agg_2 = df.groupby(['Make', 'Model'])['Fines'].median().sort_values(ascending=False)\n",
    "print(agg_2)"
   ],
   "id": "c37a079022b80dad",
   "outputs": [
    {
     "name": "stdout",
     "output_type": "stream",
     "text": [
      "\n",
      " Медиана штрафов сгруппированная по марке и модели:\n",
      "Make        Model  \n",
      "Volvo                  8500.0\n",
      "Toyota      Camry      7700.0\n",
      "            Corolla    7700.0\n",
      "Ford        Mondeo     7650.0\n",
      "Volkswagen             7400.0\n",
      "BMW                    6500.0\n",
      "Volkswagen  Touareg    5800.0\n",
      "            Golf       4800.0\n",
      "Audi                   4200.0\n",
      "Ford        Focus      3500.0\n",
      "Volkswagen  Passat     3500.0\n",
      "Skoda       Octavia    3250.0\n",
      "Volkswagen  Jetta      2800.0\n",
      "Name: Fines, dtype: float64\n"
     ]
    }
   ],
   "execution_count": 9
  },
  {
   "metadata": {
    "ExecuteTime": {
     "end_time": "2025-06-30T10:54:37.653214Z",
     "start_time": "2025-06-30T10:54:37.622006Z"
    }
   },
   "cell_type": "code",
   "source": [
    "print(\"\\nКоличество штрафов сгруппированное по марке и модели:\")\n",
    "agg_3 = df.groupby(['Make', 'Model'])['Fines'].count().sort_values(ascending=False)\n",
    "print(agg_3)"
   ],
   "id": "63df3c99c9025939",
   "outputs": [
    {
     "name": "stdout",
     "output_type": "stream",
     "text": [
      "\n",
      "Количество штрафов сгруппированное по марке и модели:\n",
      "Make        Model  \n",
      "Ford        Focus      575\n",
      "Skoda       Octavia     48\n",
      "Volkswagen  Passat      22\n",
      "            Golf        20\n",
      "Toyota      Corolla     18\n",
      "            Camry       16\n",
      "Ford        Mondeo       6\n",
      "Volkswagen  Jetta        6\n",
      "            Touareg      5\n",
      "BMW                      3\n",
      "Volkswagen               3\n",
      "Volvo                    2\n",
      "Audi                     1\n",
      "Name: Fines, dtype: int64\n"
     ]
    }
   ],
   "execution_count": 10
  },
  {
   "metadata": {
    "ExecuteTime": {
     "end_time": "2025-06-30T10:54:37.769686Z",
     "start_time": "2025-06-30T10:54:37.754472Z"
    }
   },
   "cell_type": "code",
   "source": [
    "print(\"\\nМинимальные и максимальные штрафы сгруппированные по марке и модели:\")\n",
    "agg_4 = df.groupby(['Make', 'Model'])['Fines'].agg(['min', 'max']).sort_values('max', ascending=False)\n",
    "print(agg_4)"
   ],
   "id": "b26738d5ca7c9587",
   "outputs": [
    {
     "name": "stdout",
     "output_type": "stream",
     "text": [
      "\n",
      "Минимальные и максимальные штрафы сгруппированные по марке и модели:\n",
      "                       min            max\n",
      "Make       Model                         \n",
      "Ford       Focus     100.0  180000.000000\n",
      "Volkswagen Golf      200.0  168000.000000\n",
      "Skoda      Octavia   300.0  145000.000000\n",
      "Ford       Mondeo   1100.0   46200.000000\n",
      "Volkswagen Jetta     500.0   46000.000000\n",
      "Toyota     Corolla   900.0   34300.000000\n",
      "Volkswagen Passat    100.0   29700.000000\n",
      "Toyota     Camry     500.0   22400.000000\n",
      "Volvo               6800.0   10200.000000\n",
      "BMW                 3000.0    8594.586466\n",
      "Volkswagen Touareg   500.0    8594.586466\n",
      "                    1300.0    7900.000000\n",
      "Audi                4200.0    4200.000000\n"
     ]
    }
   ],
   "execution_count": 11
  },
  {
   "metadata": {
    "ExecuteTime": {
     "end_time": "2025-06-30T10:54:37.829030Z",
     "start_time": "2025-06-30T10:54:37.813519Z"
    }
   },
   "cell_type": "code",
   "source": [
    "print(\"\\nСтандартное отклонение штрафов сгруппированное по марке и модели:\")\n",
    "agg_5 = df.groupby(['Make', 'Model'])['Fines'].std().sort_values(ascending=False)\n",
    "print(agg_5)"
   ],
   "id": "eaa2248f3086985b",
   "outputs": [
    {
     "name": "stdout",
     "output_type": "stream",
     "text": [
      "\n",
      "Стандартное отклонение штрафов сгруппированное по марке и модели:\n",
      "Make        Model  \n",
      "Volkswagen  Golf       36950.839950\n",
      "Skoda       Octavia    24339.742174\n",
      "Ford        Mondeo     18987.329108\n",
      "Volkswagen  Jetta      17743.026799\n",
      "Ford        Focus      15041.269437\n",
      "Toyota      Corolla     9629.325617\n",
      "Volkswagen  Passat      6969.739135\n",
      "Toyota      Camry       6410.250654\n",
      "Volkswagen              3674.688195\n",
      "            Touareg     3461.778173\n",
      "BMW                     2826.561226\n",
      "Volvo                   2404.163056\n",
      "Audi                            NaN\n",
      "Name: Fines, dtype: float64\n"
     ]
    }
   ],
   "execution_count": 12
  },
  {
   "metadata": {
    "ExecuteTime": {
     "end_time": "2025-06-30T10:54:37.922813Z",
     "start_time": "2025-06-30T10:54:37.875988Z"
    }
   },
   "cell_type": "code",
   "source": [
    "print(\"5. АГРЕГАЦИИ ПО НОМЕРУ МАШИНЫ\")\n",
    "\n",
    "print(\"\\nНомера машин сгруппированные по количеству штрафов (по убыванию):\")\n",
    "agg_6 = df.groupby(df.index)['Fines'].count().sort_values(ascending=False)\n",
    "print(\"Топ-10 нарушителей по количеству штрафов:\")\n",
    "print(agg_6.head(10))"
   ],
   "id": "c310d641ba03e141",
   "outputs": [
    {
     "name": "stdout",
     "output_type": "stream",
     "text": [
      "5. АГРЕГАЦИИ ПО НОМЕРУ МАШИНЫ\n",
      "\n",
      "Номера машин сгруппированные по количеству штрафов (по убыванию):\n",
      "Топ-10 нарушителей по количеству штрафов:\n",
      "CarNumber\n",
      "Y7689C197RUS    4\n",
      "92928M178RUS    4\n",
      "7788KT197RUS    4\n",
      "H115YO163RUS    3\n",
      "X758HY197RUS    3\n",
      "O718MM163RUS    3\n",
      "7361C8197RUS    3\n",
      "H387TM197RUS    3\n",
      "O77997197RUS    3\n",
      "9697MO178RUS    3\n",
      "Name: Fines, dtype: int64\n"
     ]
    }
   ],
   "execution_count": 13
  },
  {
   "metadata": {
    "ExecuteTime": {
     "end_time": "2025-06-30T10:54:38.016711Z",
     "start_time": "2025-06-30T10:54:37.969765Z"
    }
   },
   "cell_type": "code",
   "source": [
    "print(\"\\nВсе строки соответствующие топ-1 номеру машины по количеству штрафов:\")\n",
    "top_1_by_count = agg_6.index[0]\n",
    "print(f\"Топ-1 нарушитель по количеству: {top_1_by_count}\")\n",
    "top_1_count_rows = df[df.index == top_1_by_count]\n",
    "print(top_1_count_rows)"
   ],
   "id": "f6b721bf75900f8f",
   "outputs": [
    {
     "name": "stdout",
     "output_type": "stream",
     "text": [
      "\n",
      "Все строки соответствующие топ-1 номеру машины по количеству штрафов:\n",
      "Топ-1 нарушитель по количеству: Y7689C197RUS\n",
      "              Refund    Fines  Make  Model\n",
      "CarNumber                                 \n",
      "Y7689C197RUS     1.0  27000.0  Ford  Focus\n",
      "Y7689C197RUS     2.0   9000.0  Ford  Focus\n",
      "Y7689C197RUS     2.0  45000.0  Ford  Focus\n",
      "Y7689C197RUS     1.0  36000.0  Ford  Focus\n"
     ]
    }
   ],
   "execution_count": 14
  },
  {
   "metadata": {
    "ExecuteTime": {
     "end_time": "2025-06-30T10:54:38.080335Z",
     "start_time": "2025-06-30T10:54:38.064866Z"
    }
   },
   "cell_type": "code",
   "source": [
    "print(\"\\nНомера машин сгруппированные по сумме штрафов (по убыванию):\")\n",
    "agg_7 = df.groupby(df.index)['Fines'].sum().sort_values(ascending=False)\n",
    "print(\"Топ-10 нарушителей по сумме штрафов:\")\n",
    "print(agg_7.head(10))"
   ],
   "id": "ecb0aaea4a0eba9",
   "outputs": [
    {
     "name": "stdout",
     "output_type": "stream",
     "text": [
      "\n",
      "Номера машин сгруппированные по сумме штрафов (по убыванию):\n",
      "Топ-10 нарушителей по сумме штрафов:\n",
      "CarNumber\n",
      "X758HY197RUS    242000.000000\n",
      "9020YC197RUS    217500.000000\n",
      "M0279X197RUS    216000.000000\n",
      "Y352O8197RUS    207200.000000\n",
      "Y778EE197RUS    192000.000000\n",
      "Y7689C197RUS    117000.000000\n",
      "Y973O8197RUS    112994.586466\n",
      "M0299X197RUS     96000.000000\n",
      "T477KX197RUS     94000.000000\n",
      "X765HY197RUS     83400.000000\n",
      "Name: Fines, dtype: float64\n"
     ]
    }
   ],
   "execution_count": 15
  },
  {
   "metadata": {
    "ExecuteTime": {
     "end_time": "2025-06-30T10:54:38.142787Z",
     "start_time": "2025-06-30T10:54:38.127367Z"
    }
   },
   "cell_type": "code",
   "source": [
    "print(\"\\nВсе строки соответствующие топ-1 номеру машины по сумме штрафов:\")\n",
    "top_1_by_sum = agg_7.index[0]\n",
    "print(f\"Топ-1 нарушитель по сумме: {top_1_by_sum}\")\n",
    "top_1_sum_rows = df[df.index == top_1_by_sum]\n",
    "print(top_1_sum_rows)"
   ],
   "id": "371e548bed4fbd5c",
   "outputs": [
    {
     "name": "stdout",
     "output_type": "stream",
     "text": [
      "\n",
      "Все строки соответствующие топ-1 номеру машины по сумме штрафов:\n",
      "Топ-1 нарушитель по сумме: X758HY197RUS\n",
      "              Refund     Fines  Make  Model\n",
      "CarNumber                                  \n",
      "X758HY197RUS     2.0   24200.0  Ford  Focus\n",
      "X758HY197RUS     2.0   72600.0  Ford  Focus\n",
      "X758HY197RUS     2.0  145200.0  Ford  Focus\n"
     ]
    }
   ],
   "execution_count": 16
  },
  {
   "metadata": {
    "ExecuteTime": {
     "end_time": "2025-06-30T10:54:38.285007Z",
     "start_time": "2025-06-30T10:54:38.203311Z"
    }
   },
   "cell_type": "code",
   "source": [
    "print(\"\\nНомера машин, которые были связаны с разными моделями:\")\n",
    "# Группируем по номеру машины и находим уникальные модели для каждого номера\n",
    "car_models = df.groupby(df.index)['Model'].nunique()\n",
    "# Находим номера машин с более чем одной моделью\n",
    "cars_with_multiple_models = car_models[car_models > 1]\n",
    "\n",
    "print(f\"Количество номеров машин с разными моделями: {len(cars_with_multiple_models)}\")\n",
    "if len(cars_with_multiple_models) > 0:\n",
    "    print(\"Номера машин с разными моделями:\")\n",
    "    print(cars_with_multiple_models)\n",
    "\n",
    "    # Покажем детали для каждого такого номера\n",
    "    print(\"\\nДетали для каждого номера машины с разными моделями:\")\n",
    "    for car_number in cars_with_multiple_models.index:\n",
    "        print(f\"\\nНомер машины: {car_number}\")\n",
    "        car_details = df[df.index == car_number][['Make', 'Model', 'Fines', 'Refund']]\n",
    "        print(car_details)\n",
    "        unique_models = car_details['Model'].unique()\n",
    "        print(f\"Уникальные модели: {unique_models}\")\n",
    "else:\n",
    "    print(\"Нет номеров машин, связанных с разными моделями\")\n",
    "\n",
    "# Дополнительная таблица с полной информацией о номерах машин и моделях\n",
    "print(\"\\nПолная таблица: номер машины -> модели\")\n",
    "car_model_summary = df.groupby(df.index).agg({\n",
    "    'Make': lambda x: ', '.join(x.unique()),\n",
    "    'Model': lambda x: ', '.join(x.unique()),\n",
    "    'Fines': ['count', 'sum', 'mean']\n",
    "}).round(2)\n",
    "\n",
    "# Упрощаем названия столбцов\n",
    "car_model_summary.columns = ['Make', 'Model', 'Count_Fines', 'Sum_Fines', 'Mean_Fines']\n",
    "print(\"Топ-10 записей:\")\n",
    "print(car_model_summary.head(10))\n"
   ],
   "id": "8acc0e645ef704a3",
   "outputs": [
    {
     "name": "stdout",
     "output_type": "stream",
     "text": [
      "\n",
      "Номера машин, которые были связаны с разными моделями:\n",
      "Количество номеров машин с разными моделями: 1\n",
      "Номера машин с разными моделями:\n",
      "CarNumber\n",
      "E316EH197RUS    2\n",
      "Name: Model, dtype: int64\n",
      "\n",
      "Детали для каждого номера машины с разными моделями:\n",
      "\n",
      "Номер машины: E316EH197RUS\n",
      "                    Make    Model   Fines  Refund\n",
      "CarNumber                                        \n",
      "E316EH197RUS  Volkswagen           1300.0     1.0\n",
      "E316EH197RUS  Volkswagen  Touareg  1300.0     1.0\n",
      "Уникальные модели: ['' 'Touareg']\n",
      "\n",
      "5.6 Полная таблица: номер машины -> модели\n",
      "Топ-10 записей:\n",
      "                    Make   Model  Count_Fines  Sum_Fines  Mean_Fines\n",
      "CarNumber                                                           \n",
      "704687163RUS        Ford   Focus            1    1400.00     1400.00\n",
      "704787163RUS        Ford   Focus            1    2800.00     2800.00\n",
      "704987163RUS        Ford   Focus            1    8594.59     8594.59\n",
      "705287163RUS        Ford   Focus            1    2000.00     2000.00\n",
      "705387163RUS        Ford   Focus            1     700.00      700.00\n",
      "705787163RUS        Ford   Focus            1     100.00      100.00\n",
      "7064C8197RUS  Volkswagen  Passat            1   12800.00    12800.00\n",
      "7065C8197RUS  Volkswagen  Passat            2   15200.00     7600.00\n",
      "7066C8197RUS  Volkswagen  Passat            2   18000.00     9000.00\n",
      "707987163RUS        Ford   Focus            2    3300.00     1650.00\n"
     ]
    }
   ],
   "execution_count": 17
  }
 ],
 "metadata": {
  "kernelspec": {
   "display_name": "Python 3",
   "language": "python",
   "name": "python3"
  },
  "language_info": {
   "codemirror_mode": {
    "name": "ipython",
    "version": 2
   },
   "file_extension": ".py",
   "mimetype": "text/x-python",
   "name": "python",
   "nbconvert_exporter": "python",
   "pygments_lexer": "ipython2",
   "version": "2.7.6"
  }
 },
 "nbformat": 4,
 "nbformat_minor": 5
}
