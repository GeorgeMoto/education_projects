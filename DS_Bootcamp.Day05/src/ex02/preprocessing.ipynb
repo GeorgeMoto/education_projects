{
 "cells": [
  {
   "metadata": {
    "ExecuteTime": {
     "end_time": "2025-06-30T10:52:54.847984Z",
     "start_time": "2025-06-30T10:52:54.330907Z"
    }
   },
   "cell_type": "code",
   "source": [
    "import pandas as pd\n",
    "import json"
   ],
   "id": "57085556cf1d4073",
   "outputs": [],
   "execution_count": 1
  },
  {
   "metadata": {
    "ExecuteTime": {
     "end_time": "2025-06-30T10:52:55.250732Z",
     "start_time": "2025-06-30T10:52:55.169334Z"
    }
   },
   "cell_type": "code",
   "source": [
    "df = pd.read_csv('../data/auto.csv', index_col='ID')\n",
    "print(f\"Исходный датафрейм загружен. Размер: {df.shape}\")\n",
    "print(df.head())"
   ],
   "id": "5e1a31de2ee32de6",
   "outputs": [
    {
     "name": "stdout",
     "output_type": "stream",
     "text": [
      "Исходный датафрейм загружен. Размер: (931, 5)\n",
      "       CarNumber  Make_n_model  Refund   Fines  History\n",
      "ID                                                     \n",
      "0   Y163O8161RUS    Ford Focus     2.0  3200.0      NaN\n",
      "1    E432XX77RUS  Toyota Camry     1.0  6500.0      NaN\n",
      "2    7184TT36RUS    Ford Focus     1.0  2100.0      NaN\n",
      "3   X582HE161RUS    Ford Focus     2.0  2000.0      NaN\n",
      "4   E34877152RUS    Ford Focus     2.0  6100.0      NaN\n"
     ]
    }
   ],
   "execution_count": 2
  },
  {
   "metadata": {
    "ExecuteTime": {
     "end_time": "2025-06-30T10:52:55.296189Z",
     "start_time": "2025-06-30T10:52:55.280774Z"
    }
   },
   "cell_type": "code",
   "source": [
    "print(\"\\nПодсчет количества наблюдений:\")\n",
    "observation_counts = df.count()\n",
    "print(observation_counts)\n",
    "print(f\"Общее количество строк: {len(df)}\")"
   ],
   "id": "7f7e3d501ebe41a1",
   "outputs": [
    {
     "name": "stdout",
     "output_type": "stream",
     "text": [
      "\n",
      "Подсчет количества наблюдений:\n",
      "CarNumber       931\n",
      "Make_n_model    931\n",
      "Refund          914\n",
      "Fines           869\n",
      "History          82\n",
      "dtype: int64\n",
      "Общее количество строк: 931\n"
     ]
    }
   ],
   "execution_count": 3
  },
  {
   "metadata": {
    "ExecuteTime": {
     "end_time": "2025-06-30T10:52:55.343105Z",
     "start_time": "2025-06-30T10:52:55.327632Z"
    }
   },
   "cell_type": "code",
   "source": [
    "#Удаление дубликатов по столбцам CarNumber, Make_n_model, Fines\n",
    "print(f\"Размер до удаления дубликатов: {df.shape}\")\n",
    "\n",
    "# Удаляем дубликаты, оставляя последние записи\n",
    "df_no_duplicates = df.drop_duplicates(subset=['CarNumber', 'Make_n_model', 'Fines'], keep='last')\n",
    "print(f\"Размер после удаления дубликатов: {df_no_duplicates.shape}\")\n",
    "\n",
    "# Проверяем количество наблюдений снова\n",
    "observation_counts_after = df_no_duplicates.count()\n",
    "print(\"Количество наблюдений после удаления дубликатов:\")\n",
    "print(observation_counts_after)"
   ],
   "id": "7bf251498ce6b878",
   "outputs": [
    {
     "name": "stdout",
     "output_type": "stream",
     "text": [
      "Размер до удаления дубликатов: (931, 5)\n",
      "Размер после удаления дубликатов: (725, 5)\n",
      "Количество наблюдений после удаления дубликатов:\n",
      "CarNumber       725\n",
      "Make_n_model    725\n",
      "Refund          713\n",
      "Fines           665\n",
      "History          65\n",
      "dtype: int64\n"
     ]
    }
   ],
   "execution_count": 4
  },
  {
   "metadata": {
    "ExecuteTime": {
     "end_time": "2025-06-30T10:52:55.389937Z",
     "start_time": "2025-06-30T10:52:55.374322Z"
    }
   },
   "cell_type": "code",
   "source": [
    "#Работа с пропущенными значениями\n",
    "#Проверяем количество пропущенных значений в каждом столбце\n",
    "print(\"Количество пропущенных значений в каждом столбце:\")\n",
    "missing_values = df_no_duplicates.isnull().sum()\n",
    "print(missing_values)"
   ],
   "id": "4883d964224d279d",
   "outputs": [
    {
     "name": "stdout",
     "output_type": "stream",
     "text": [
      "Количество пропущенных значений в каждом столбце:\n",
      "CarNumber         0\n",
      "Make_n_model      0\n",
      "Refund           12\n",
      "Fines            60\n",
      "History         660\n",
      "dtype: int64\n"
     ]
    }
   ],
   "execution_count": 5
  },
  {
   "metadata": {
    "ExecuteTime": {
     "end_time": "2025-06-30T10:52:55.445222Z",
     "start_time": "2025-06-30T10:52:55.429594Z"
    }
   },
   "cell_type": "code",
   "source": [
    "#Удаляем столбцы с более чем 500 пропущенными значениями\n",
    "print(\"\\n4.2 Удаление столбцов с более чем 500 пропущенными значениями...\\n\")\n",
    "# thresh означает минимальное количество непустых значений, которое должно быть в строке\n",
    "# Но здесь нам нужно удалить столбцы, поэтому проверим каждый столбец\n",
    "columns_to_drop = []\n",
    "for col in df_no_duplicates.columns:\n",
    "    missing_count = df_no_duplicates[col].isnull().sum()\n",
    "    if missing_count > 500:\n",
    "        columns_to_drop.append(col)\n",
    "        print(f\"Столбец '{col}' имеет {missing_count} пропущенных значений и будет удален\\n\")\n",
    "\n",
    "if columns_to_drop:\n",
    "    df_no_duplicates = df_no_duplicates.drop(columns=columns_to_drop)\n",
    "else:\n",
    "    print(\"Нет столбцов с более чем 500 пропущенными значениями\")\n",
    "\n",
    "print(\"Количество пропущенных значений после удаления столбцов:\")\n",
    "print(df_no_duplicates.isnull().sum())"
   ],
   "id": "a35bab6078d523b3",
   "outputs": [
    {
     "name": "stdout",
     "output_type": "stream",
     "text": [
      "\n",
      "4.2 Удаление столбцов с более чем 500 пропущенными значениями...\n",
      "\n",
      "Столбец 'History' имеет 660 пропущенных значений и будет удален\n",
      "\n",
      "Количество пропущенных значений после удаления столбцов:\n",
      "CarNumber        0\n",
      "Make_n_model     0\n",
      "Refund          12\n",
      "Fines           60\n",
      "dtype: int64\n"
     ]
    }
   ],
   "execution_count": 6
  },
  {
   "metadata": {
    "ExecuteTime": {
     "end_time": "2025-06-30T10:52:55.492108Z",
     "start_time": "2025-06-30T10:52:55.476496Z"
    }
   },
   "cell_type": "code",
   "source": [
    "# Заполнение пропущенных значений в столбце Refund предыдущим значением\n",
    "print(\"\\nЗаполнение пропущенных значений в столбце Refund...\")\n",
    "df_no_duplicates['Refund'] = df_no_duplicates['Refund'].ffill()\n",
    "print(\"Количество пропущенных значений после заполнения Refund:\")\n",
    "print(df_no_duplicates.isnull().sum())"
   ],
   "id": "2bb540f24c73c3c1",
   "outputs": [
    {
     "name": "stdout",
     "output_type": "stream",
     "text": [
      "\n",
      "Заполнение пропущенных значений в столбце Refund...\n",
      "Количество пропущенных значений после заполнения Refund:\n",
      "CarNumber        0\n",
      "Make_n_model     0\n",
      "Refund           0\n",
      "Fines           60\n",
      "dtype: int64\n"
     ]
    }
   ],
   "execution_count": 7
  },
  {
   "metadata": {
    "ExecuteTime": {
     "end_time": "2025-06-30T10:52:55.540293Z",
     "start_time": "2025-06-30T10:52:55.524649Z"
    }
   },
   "cell_type": "code",
   "source": [
    "# Заполнение пропущенных значений в столбце Fines средним значением\n",
    "print(\"\\n4.4 Заполнение пропущенных значений в столбце Fines средним значением...\")\n",
    "fines_mean = df_no_duplicates['Fines'].mean()\n",
    "print(f\"Среднее значение Fines: {fines_mean:.2f}\")\n",
    "df_no_duplicates['Fines'] = df_no_duplicates['Fines'].fillna(fines_mean)\n",
    "print(\"Количество пропущенных значений после заполнения Fines:\")\n",
    "print(df_no_duplicates.isnull().sum())"
   ],
   "id": "1ba5f6bdcd9d85ad",
   "outputs": [
    {
     "name": "stdout",
     "output_type": "stream",
     "text": [
      "\n",
      "4.4 Заполнение пропущенных значений в столбце Fines средним значением...\n",
      "Среднее значение Fines: 8594.59\n",
      "Количество пропущенных значений после заполнения Fines:\n",
      "CarNumber       0\n",
      "Make_n_model    0\n",
      "Refund          0\n",
      "Fines           0\n",
      "dtype: int64\n"
     ]
    }
   ],
   "execution_count": 8
  },
  {
   "metadata": {
    "ExecuteTime": {
     "end_time": "2025-06-30T10:52:55.618419Z",
     "start_time": "2025-06-30T10:52:55.571626Z"
    }
   },
   "cell_type": "code",
   "source": [
    "# Разделение и парсинг марки и модели\n",
    "print(\"\\nРазделение Make_n_model на Make и Model...\")\n",
    "\n",
    "# Функция для извлечения марки (первое слово)\n",
    "def extract_make(make_model):\n",
    "    if pd.isna(make_model):\n",
    "        return None\n",
    "    return make_model.split()[0]\n",
    "\n",
    "# Функция для извлечения модели (остальные слова)\n",
    "def extract_model(make_model):\n",
    "    if pd.isna(make_model):\n",
    "        return None\n",
    "    parts = make_model.split()\n",
    "    if len(parts) > 1:\n",
    "        return ' '.join(parts[1:])\n",
    "    else:\n",
    "        return ''\n",
    "\n",
    "# Применяем функции для создания новых столбцов\n",
    "df_no_duplicates['Make'] = df_no_duplicates['Make_n_model'].apply(extract_make)\n",
    "df_no_duplicates['Model'] = df_no_duplicates['Make_n_model'].apply(extract_model)\n",
    "\n",
    "print(\"Первые 5 строк с новыми столбцами Make и Model:\")\n",
    "print(df_no_duplicates[['Make_n_model', 'Make', 'Model']].head())\n",
    "\n",
    "# Удаляем столбец Make_n_model\n",
    "df_final = df_no_duplicates.drop('Make_n_model', axis=1)\n",
    "\n",
    "print(\"\\nФинальная структура данных:\")\n",
    "print(df_final.head())\n",
    "print(f\"\\nФинальный размер датафрейма: {df_final.shape}\")\n",
    "print(f\"Столбцы: {list(df_final.columns)}\")"
   ],
   "id": "bc5d84bd92af2062",
   "outputs": [
    {
     "name": "stdout",
     "output_type": "stream",
     "text": [
      "\n",
      "Разделение Make_n_model на Make и Model...\n",
      "Первые 5 строк с новыми столбцами Make и Model:\n",
      "    Make_n_model    Make  Model\n",
      "ID                             \n",
      "0     Ford Focus    Ford  Focus\n",
      "1   Toyota Camry  Toyota  Camry\n",
      "2     Ford Focus    Ford  Focus\n",
      "3     Ford Focus    Ford  Focus\n",
      "5     Ford Focus    Ford  Focus\n",
      "\n",
      "Финальная структура данных:\n",
      "       CarNumber  Refund   Fines    Make  Model\n",
      "ID                                             \n",
      "0   Y163O8161RUS     2.0  3200.0    Ford  Focus\n",
      "1    E432XX77RUS     1.0  6500.0  Toyota  Camry\n",
      "2    7184TT36RUS     1.0  2100.0    Ford  Focus\n",
      "3   X582HE161RUS     2.0  2000.0    Ford  Focus\n",
      "5   92918M178RUS     1.0  5700.0    Ford  Focus\n",
      "\n",
      "Финальный размер датафрейма: (725, 5)\n",
      "Столбцы: ['CarNumber', 'Refund', 'Fines', 'Make', 'Model']\n"
     ]
    }
   ],
   "execution_count": 9
  },
  {
   "metadata": {
    "ExecuteTime": {
     "end_time": "2025-06-30T10:52:55.774723Z",
     "start_time": "2025-06-30T10:52:55.665376Z"
    }
   },
   "cell_type": "code",
   "source": [
    "# Сохранение в JSON файл\n",
    "print(\"\\nСохранение в JSON файл...\")\n",
    "\n",
    "# Подготавливаем данные для JSON (сбрасываем индекс, чтобы не включать ID)\n",
    "df_for_json = df_final.reset_index(drop=True)\n",
    "\n",
    "# Создаем список словарей\n",
    "json_data = []\n",
    "for _, row in df_for_json.iterrows():\n",
    "    record = {\n",
    "        \"CarNumber\": row['CarNumber'],\n",
    "        \"Refund\": float(row['Refund']) if pd.notna(row['Refund']) else None,\n",
    "        \"Fines\": float(row['Fines']) if pd.notna(row['Fines']) else None,\n",
    "        \"Make\": row['Make'],\n",
    "        \"Model\": row['Model']\n",
    "    }\n",
    "    # Удаляем History если он есть\n",
    "    if 'History' in row.index and pd.notna(row['History']):\n",
    "        record[\"History\"] = row['History']\n",
    "    json_data.append(record)\n",
    "\n",
    "# Сохраняем в JSON файл\n",
    "with open('auto.json', 'w', encoding='utf-8') as f:\n",
    "    json.dump(json_data, f, ensure_ascii=False, indent=2)\n",
    "\n",
    "print(\"Данные успешно сохранены в auto.json\")\n",
    "print(f\"Количество записей в JSON: {len(json_data)}\")\n",
    "\n",
    "# Показываем первые 2 записи в формате JSON для проверки\n",
    "print(\"\\nПример первых 2 записей в JSON формате:\")\n",
    "print(json.dumps(json_data[:2], ensure_ascii=False, indent=2))"
   ],
   "id": "e04853e48e1a259d",
   "outputs": [
    {
     "name": "stdout",
     "output_type": "stream",
     "text": [
      "\n",
      "Сохранение в JSON файл...\n",
      "Данные успешно сохранены в auto.json\n",
      "Количество записей в JSON: 725\n",
      "\n",
      "Пример первых 2 записей в JSON формате:\n",
      "[\n",
      "  {\n",
      "    \"CarNumber\": \"Y163O8161RUS\",\n",
      "    \"Refund\": 2.0,\n",
      "    \"Fines\": 3200.0,\n",
      "    \"Make\": \"Ford\",\n",
      "    \"Model\": \"Focus\"\n",
      "  },\n",
      "  {\n",
      "    \"CarNumber\": \"E432XX77RUS\",\n",
      "    \"Refund\": 1.0,\n",
      "    \"Fines\": 6500.0,\n",
      "    \"Make\": \"Toyota\",\n",
      "    \"Model\": \"Camry\"\n",
      "  }\n",
      "]\n"
     ]
    }
   ],
   "execution_count": 10
  },
  {
   "metadata": {},
   "cell_type": "code",
   "outputs": [],
   "execution_count": null,
   "source": "print(df_no_duplicates['Fines'] = df_no_duplicates['Fines'].fillna(fines_mean))",
   "id": "b97d779ce614951"
  }
 ],
 "metadata": {
  "kernelspec": {
   "display_name": "Python 3",
   "language": "python",
   "name": "python3"
  },
  "language_info": {
   "codemirror_mode": {
    "name": "ipython",
    "version": 2
   },
   "file_extension": ".py",
   "mimetype": "text/x-python",
   "name": "python",
   "nbconvert_exporter": "python",
   "pygments_lexer": "ipython2",
   "version": "2.7.6"
  }
 },
 "nbformat": 4,
 "nbformat_minor": 5
}
