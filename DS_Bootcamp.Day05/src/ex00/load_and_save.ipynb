{
 "cells": [
  {
   "metadata": {
    "ExecuteTime": {
     "end_time": "2025-07-01T13:53:28.380564Z",
     "start_time": "2025-07-01T13:53:27.723005Z"
    }
   },
   "cell_type": "code",
   "source": [
    "import pandas as pd\n",
    "\n",
    "def data_exctractor():\n",
    "    try:\n",
    "        # Исправленное чтение файла\n",
    "        df = pd.read_csv('../data/feed-views.log',\n",
    "                         sep=\"\\t\",\n",
    "                         skiprows=[2, 3],  # Пропускаем строки с индексами 2 и 3\n",
    "                         skipfooter=2,  # Пропускаем последние 2 строки\n",
    "                         names=[\"datetime\", \"user\"],  # Присваиваем имена столбцам\n",
    "                         index_col=\"datetime\",  # Используем datetime как индекс\n",
    "                         engine='python')  # Нужен для skipfooter\n",
    "\n",
    "        # Переименовываем индекс\n",
    "        df.index.name = \"date_time\"\n",
    "\n",
    "        # Сохраняем с ';' как разделителем (индекс включается автоматически)\n",
    "        df.to_csv('feed-views-semicolon.log', sep=\";\")\n",
    "\n",
    "        print(df.columns[0])\n",
    "        print(df.head().to_string(header=False))\n",
    "        print(df.columns[0])\n",
    "        print(df.tail().to_string(header=False))\n",
    "\n",
    "        # print(df.head())\n",
    "        # print(df.tail())\n",
    "\n",
    "    except FileNotFoundError:\n",
    "        print('File not found.')"
   ],
   "id": "7c6c0484e8df6a4",
   "outputs": [],
   "execution_count": 1
  },
  {
   "metadata": {
    "ExecuteTime": {
     "end_time": "2025-07-01T13:53:28.783928Z",
     "start_time": "2025-07-01T13:53:28.756779Z"
    }
   },
   "cell_type": "code",
   "source": "data_exctractor()",
   "id": "13b9e1bcc3c1ab91",
   "outputs": [
    {
     "name": "stdout",
     "output_type": "stream",
     "text": [
      "user\n",
      "date_time                         \n",
      "2020-04-17 12:01:08.463179   artem\n",
      "2020-04-17 12:01:23.743946   artem\n",
      "2020-04-17 12:35:52.735016   artem\n",
      "2020-04-17 12:36:21.401412  oksana\n",
      "2020-04-17 12:36:22.023355  oksana\n",
      "user\n",
      "date_time                            \n",
      "2020-05-21 16:36:40.915488  ekaterina\n",
      "2020-05-21 17:49:36.429237      maxim\n",
      "2020-05-21 18:45:20.441142  valentina\n",
      "2020-05-21 23:03:06.457819      maxim\n",
      "2020-05-21 23:23:49.995349      pavel\n"
     ]
    }
   ],
   "execution_count": 2
  }
 ],
 "metadata": {
  "kernelspec": {
   "display_name": "Python 3",
   "language": "python",
   "name": "python3"
  },
  "language_info": {
   "codemirror_mode": {
    "name": "ipython",
    "version": 2
   },
   "file_extension": ".py",
   "mimetype": "text/x-python",
   "name": "python",
   "nbconvert_exporter": "python",
   "pygments_lexer": "ipython2",
   "version": "2.7.6"
  }
 },
 "nbformat": 4,
 "nbformat_minor": 5
}
