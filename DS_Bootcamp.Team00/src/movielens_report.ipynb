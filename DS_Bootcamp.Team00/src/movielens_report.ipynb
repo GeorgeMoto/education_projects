{
 "cells": [
  {
   "cell_type": "markdown",
   "id": "44a865d8ec2eff80",
   "metadata": {},
   "source": [
    "# Аналитика MovieLens: История кино 90-х через призму данных\n",
    "\n",
    "## Введение\n",
    "\n",
    "Добро пожаловать в наше путешествие по датасету MovieLens! Этот отчет исследует захватывающий мир кинематографа 1990-х годов через призму пользовательских рейтингов, метаданных фильмов и тегов сообщества.\n",
    "\n",
    "Наша история следует за тремя главными героями:\n",
    "- **Фильмы**: Сами картины и их характеристики\n",
    "- **Пользователи**: Люди, которые смотрели и оценивали эти фильмы\n",
    "- **Сообщество**: Коллективная мудрость, выраженная через теги\n",
    "\n",
    "Давайте узнаем, что сделало 90-е такой особенной эпохой для кинематографа! 🎬"
   ]
  },
  {
   "cell_type": "code",
   "id": "c32848c08e3102d9",
   "metadata": {
    "ExecuteTime": {
     "end_time": "2025-06-07T12:23:46.008151Z",
     "start_time": "2025-06-07T12:23:45.644646Z"
    }
   },
   "source": [
    "# Импортируем наш модуль анализа\n",
    "%timeit from movielens_analysis import Movies, Ratings, Tags, Links\n",
    "from movielens_analysis import Movies, Ratings, Tags, Links\n",
    "\n",
    "print(\"Модуль анализа MovieLens успешно загружен!\")"
   ],
   "outputs": [
    {
     "name": "stdout",
     "output_type": "stream",
     "text": [
      "The slowest run took 10.75 times longer than the fastest. This could mean that an intermediate result is being cached.\n",
      "2.16 μs ± 2.64 μs per loop (mean ± std. dev. of 7 runs, 1 loop each)\n",
      "Модуль анализа MovieLens успешно загружен!\n"
     ]
    }
   ],
   "execution_count": 1
  },
  {
   "metadata": {},
   "cell_type": "markdown",
   "source": [
    "## Глава 1: Золотая эра кинематографа - Анализ фильмов\n",
    "\n",
    "Первая глава исследует сами фильмы. Какие годы были наиболее продуктивными? Какие жанры доминировали на экранах?"
   ],
   "id": "704260fe8dc7d879"
  },
  {
   "cell_type": "code",
   "id": "db536be4d44335ab",
   "metadata": {
    "ExecuteTime": {
     "end_time": "2025-06-07T12:23:48.381499Z",
     "start_time": "2025-06-07T12:23:46.043629Z"
    }
   },
   "source": [
    "# Инициализируем анализатор фильмов\n",
    "%timeit movies = Movies(\"movies.csv\")\n",
    "movies = Movies(\"movies.csv\")\n",
    "print(f\"🎬 Загружено {len(movies.data)} фильмов для анализа\")"
   ],
   "outputs": [
    {
     "name": "stdout",
     "output_type": "stream",
     "text": [
      "2.88 ms ± 262 μs per loop (mean ± std. dev. of 7 runs, 100 loops each)\n",
      "🎬 Загружено 1000 фильмов для анализа\n"
     ]
    }
   ],
   "execution_count": 2
  },
  {
   "metadata": {
    "ExecuteTime": {
     "end_time": "2025-06-07T12:23:58.727950Z",
     "start_time": "2025-06-07T12:23:49.167089Z"
    }
   },
   "cell_type": "code",
   "source": [
    "# Пиковые годы: Когда кинематограф процветал\n",
    "%timeit release_years = movies.dist_by_release()\n",
    "release_years = movies.dist_by_release()\n",
    "\n",
    "print(\"🏆 ТОП-10 САМЫХ ПРОДУКТИВНЫХ ГОДОВ:\")\n",
    "for i, (year, count) in enumerate(list(release_years.items())[:10], 1):\n",
    "    print(f\"{i:2d}. {year} год: вышло {count:3d} фильмов\")\n",
    "\n",
    "print(f\"\\n📈 Инсайт: {list(release_years.keys())[0]} год был самым продуктивным с {list(release_years.values())[0]} фильмами!\")"
   ],
   "id": "d78f389b0be9132d",
   "outputs": [
    {
     "name": "stdout",
     "output_type": "stream",
     "text": [
      "1.16 ms ± 83.5 μs per loop (mean ± std. dev. of 7 runs, 1,000 loops each)\n",
      "🏆 ТОП-10 САМЫХ ПРОДУКТИВНЫХ ГОДОВ:\n",
      " 1. 1995 год: вышло 224 фильмов\n",
      " 2. 1994 год: вышло 184 фильмов\n",
      " 3. 1996 год: вышло 181 фильмов\n",
      " 4. 1993 год: вышло 101 фильмов\n",
      " 5. 1992 год: вышло  23 фильмов\n",
      " 6. 1990 год: вышло  15 фильмов\n",
      " 7. 1991 год: вышло  15 фильмов\n",
      " 8. 1989 год: вышло  14 фильмов\n",
      " 9. 1986 год: вышло   9 фильмов\n",
      "10. 1982 год: вышло   8 фильмов\n",
      "\n",
      "📈 Инсайт: 1995 год был самым продуктивным с 224 фильмами!\n"
     ]
    }
   ],
   "execution_count": 3
  },
  {
   "cell_type": "code",
   "id": "88766370c0e2236c",
   "metadata": {
    "ExecuteTime": {
     "end_time": "2025-06-07T12:24:04.542187Z",
     "start_time": "2025-06-07T12:23:58.797740Z"
    }
   },
   "source": [
    "# Война жанров: Какие истории покорили сердца?\n",
    "%timeit genres_dist = movies.dist_by_genres()\n",
    "genres_dist = movies.dist_by_genres()\n",
    "\n",
    "print(\"🎭 РЕЙТИНГ ПОПУЛЯРНОСТИ ЖАНРОВ:\")\n",
    "genre_names = {\n",
    "    'Drama': 'Драма',\n",
    "    'Comedy': 'Комедия',\n",
    "    'Romance': 'Романтика',\n",
    "    'Thriller': 'Триллер',\n",
    "    'Action': 'Боевик',\n",
    "    'Horror': 'Ужасы',\n",
    "    'Adventure': 'Приключения',\n",
    "    'Crime': 'Криминал'\n",
    "}\n",
    "\n",
    "for i, (genre, count) in enumerate(list(genres_dist.items())[:8], 1):\n",
    "    ru_genre = genre_names.get(genre, genre)\n",
    "    print(f\"{i}. {ru_genre}: {count} фильмов\")\n",
    "\n",
    "top_genre = list(genres_dist.keys())[0]\n",
    "top_count = list(genres_dist.values())[0]\n",
    "ru_top_genre = genre_names.get(top_genre, top_genre)\n",
    "print(f\"\\n🎪 Сюжетный инсайт: {ru_top_genre} доминировала с {top_count} фильмами - люди жаждали эмоциональных повествований!\")"
   ],
   "outputs": [
    {
     "name": "stdout",
     "output_type": "stream",
     "text": [
      "707 μs ± 15.5 μs per loop (mean ± std. dev. of 7 runs, 1,000 loops each)\n",
      "🎭 РЕЙТИНГ ПОПУЛЯРНОСТИ ЖАНРОВ:\n",
      "1. Драма: 507 фильмов\n",
      "2. Комедия: 365 фильмов\n",
      "3. Романтика: 208 фильмов\n",
      "4. Триллер: 179 фильмов\n",
      "5. Боевик: 158 фильмов\n",
      "6. Приключения: 126 фильмов\n",
      "7. Криминал: 122 фильмов\n",
      "8. Children: 100 фильмов\n",
      "\n",
      "🎪 Сюжетный инсайт: Драма доминировала с 507 фильмами - люди жаждали эмоциональных повествований!\n"
     ]
    }
   ],
   "execution_count": 4
  },
  {
   "cell_type": "code",
   "id": "8c581a2eccffaf41",
   "metadata": {
    "ExecuteTime": {
     "end_time": "2025-06-07T12:24:09.207332Z",
     "start_time": "2025-06-07T12:24:04.575107Z"
    }
   },
   "source": [
    "# Мастера многожанровости: Фильмы, не поддающиеся категоризации\n",
    "%timeit complex_movies = movies.most_genres(5)\n",
    "complex_movies = movies.most_genres(5)\n",
    "\n",
    "print(\"🌟 ФИЛЬМЫ, ПРЕВЗОШЕДШИЕ ЖАНРОВЫЕ ГРАНИЦЫ:\")\n",
    "for i, (title, genre_count) in enumerate(complex_movies.items(), 1):\n",
    "    print(f\"{i}. {title}: {genre_count} жанров\")\n",
    "\n",
    "print(\"\\n🎨 Творческий инсайт: 90-е породили фильмы, которые отказывались помещаться в одну категорию!\")"
   ],
   "outputs": [
    {
     "name": "stdout",
     "output_type": "stream",
     "text": [
      "577 μs ± 124 μs per loop (mean ± std. dev. of 7 runs, 1,000 loops each)\n",
      "🌟 ФИЛЬМЫ, ПРЕВЗОШЕДШИЕ ЖАНРОВЫЕ ГРАНИЦЫ:\n",
      "1. Strange Days (1995): 6 жанров\n",
      "2. Lion King, The (1994): 6 жанров\n",
      "3. Getaway, The (1994): 6 жанров\n",
      "4. Super Mario Bros. (1993): 6 жанров\n",
      "5. Beauty and the Beast (1991): 6 жанров\n",
      "\n",
      "🎨 Творческий инсайт: 90-е породили фильмы, которые отказывались помещаться в одну категорию!\n"
     ]
    }
   ],
   "execution_count": 5
  },
  {
   "cell_type": "markdown",
   "id": "bbdc0f92d0903016",
   "metadata": {},
   "source": [
    "## Глава 2: Голос аудитории - Анализ рейтингов\n",
    "\n",
    "Теперь обратимся к сердцу нашей истории: как аудитория отреагировала на эти фильмы? Когда люди были наиболее активны в оценке картин?"
   ]
  },
  {
   "cell_type": "code",
   "id": "8408ad643faa8c48",
   "metadata": {
    "ExecuteTime": {
     "end_time": "2025-06-07T12:24:11.490221Z",
     "start_time": "2025-06-07T12:24:09.257067Z"
    }
   },
   "source": [
    "# Инициализируем анализатор рейтингов\n",
    "%timeit ratings = Ratings(\"ratings.csv\")\n",
    "ratings = Ratings(\"ratings.csv\")\n",
    "print(f\"⭐ Загружено {len(ratings.data)} рейтингов от страстных киноманов\")"
   ],
   "outputs": [
    {
     "name": "stdout",
     "output_type": "stream",
     "text": [
      "26.8 ms ± 2.14 ms per loop (mean ± std. dev. of 7 runs, 10 loops each)\n",
      "⭐ Загружено 1000 рейтингов от страстных киноманов\n"
     ]
    }
   ],
   "execution_count": 6
  },
  {
   "cell_type": "code",
   "id": "c4c2c411b90a836",
   "metadata": {
    "ExecuteTime": {
     "end_time": "2025-06-07T12:24:16.166398Z",
     "start_time": "2025-06-07T12:24:11.540187Z"
    }
   },
   "source": [
    "# Временная линия рейтингов: Когда люди высказывались?\n",
    "%timeit rating_years = ratings.movies_instance.dist_by_year()\n",
    "rating_years = ratings.movies_instance.dist_by_year()\n",
    "\n",
    "print(\"📅 КОГДА АУДИТОРИЯ БЫЛА НАИБОЛЕЕ АКТИВНОЙ:\")\n",
    "for year, count in rating_years.items():\n",
    "    print(f\"{year} год: было выставлено {count:3d} рейтингов {'█' * (count // 20)}\")\n",
    "\n",
    "peak_year = max(rating_years.keys(), key=lambda x: rating_years[x])\n",
    "print(f\"\\n🗣️ Инсайт сообщества: {peak_year} год - когда киноманы были наиболее активны в выражении мнений!\")"
   ],
   "outputs": [
    {
     "name": "stdout",
     "output_type": "stream",
     "text": [
      "565 μs ± 23.1 μs per loop (mean ± std. dev. of 7 runs, 1,000 loops each)\n",
      "📅 КОГДА АУДИТОРИЯ БЫЛА НАИБОЛЕЕ АКТИВНОЙ:\n",
      "1996 год: было выставлено 358 рейтингов █████████████████\n",
      "1999 год: было выставлено  82 рейтингов ████\n",
      "2000 год: было выставлено 296 рейтингов ██████████████\n",
      "2001 год: было выставлено  70 рейтингов ███\n",
      "2005 год: было выставлено 121 рейтингов ██████\n",
      "2006 год: было выставлено   4 рейтингов \n",
      "2007 год: было выставлено   1 рейтингов \n",
      "2011 год: было выставлено  39 рейтингов █\n",
      "2015 год: было выставлено  29 рейтингов █\n",
      "\n",
      "🗣️ Инсайт сообщества: 1996 год - когда киноманы были наиболее активны в выражении мнений!\n"
     ]
    }
   ],
   "execution_count": 7
  },
  {
   "metadata": {
    "ExecuteTime": {
     "end_time": "2025-06-07T12:24:31.723787Z",
     "start_time": "2025-06-07T12:24:16.214397Z"
    }
   },
   "cell_type": "code",
   "source": [
    "# Спектр настроений: Насколько щедры были критики?\n",
    "%timeit rating_dist = ratings.movies_instance.dist_by_rating()\n",
    "rating_dist = ratings.movies_instance.dist_by_rating()\n",
    "\n",
    "print(\"💫 ОБЩАЯ КАРТИНА РЕЙТИНГОВ:\")\n",
    "for rating, count in rating_dist.items():\n",
    "    stars = '⭐' * int(rating)\n",
    "    print(f\"{rating}★ {stars}: {count:2d} раз\")\n",
    "\n",
    "print(\"\\n😊 Люди были в целом позитивны - негативные оценки встречались редко!\")"
   ],
   "id": "9c827131ce7bb012",
   "outputs": [
    {
     "name": "stdout",
     "output_type": "stream",
     "text": [
      "189 μs ± 1.41 μs per loop (mean ± std. dev. of 7 runs, 10,000 loops each)\n",
      "💫 ОБЩАЯ КАРТИНА РЕЙТИНГОВ:\n",
      "0.5★ : 24 раз\n",
      "1.0★ ⭐: 39 раз\n",
      "1.5★ ⭐: 11 раз\n",
      "2.0★ ⭐⭐: 57 раз\n",
      "2.5★ ⭐⭐:  7 раз\n",
      "3.0★ ⭐⭐⭐: 253 раз\n",
      "3.5★ ⭐⭐⭐: 17 раз\n",
      "4.0★ ⭐⭐⭐⭐: 292 раз\n",
      "4.5★ ⭐⭐⭐⭐: 33 раз\n",
      "5.0★ ⭐⭐⭐⭐⭐: 267 раз\n",
      "\n",
      "😊 Люди были в целом позитивны - негативные оценки встречались редко!\n"
     ]
    }
   ],
   "execution_count": 8
  },
  {
   "metadata": {
    "ExecuteTime": {
     "end_time": "2025-06-07T12:24:34.830540Z",
     "start_time": "2025-06-07T12:24:31.788899Z"
    }
   },
   "cell_type": "code",
   "source": [
    "# Фавориты толпы: Самые обсуждаемые фильмы\n",
    "%timeit popular_by_count = ratings.movies_instance.top_by_num_of_ratings(7)\n",
    "popular_by_count = ratings.movies_instance.top_by_num_of_ratings(7)\n",
    "\n",
    "print(\"🔥 САМЫЕ ОБСУЖДАЕМЫЕ ФИЛЬМЫ:\")\n",
    "for i, (title, count) in enumerate(popular_by_count.items(), 1):\n",
    "    print(f\"{i}. {title}: {count} рейтинга было присвоено\")\n",
    "\n",
    "print(\"\\n💬 Эти фильмы вызвали больше всего разговоров в сообществе!\")"
   ],
   "id": "6aaceed170d697a8",
   "outputs": [
    {
     "name": "stdout",
     "output_type": "stream",
     "text": [
      "369 μs ± 30.1 μs per loop (mean ± std. dev. of 7 runs, 1,000 loops each)\n",
      "🔥 САМЫЕ ОБСУЖДАЕМЫЕ ФИЛЬМЫ:\n",
      "1. Usual Suspects, The (1995): 4 рейтинга было присвоено\n",
      "2. Pulp Fiction (1994): 4 рейтинга было присвоено\n",
      "3. Fugitive, The (1993): 4 рейтинга было присвоено\n",
      "4. Schindler's List (1993): 4 рейтинга было присвоено\n",
      "5. Batman (1989): 4 рейтинга было присвоено\n",
      "6. Silence of the Lambs, The (1991): 4 рейтинга было присвоено\n",
      "7. Fargo (1996): 4 рейтинга было присвоено\n",
      "\n",
      "💬 Эти фильмы вызвали больше всего разговоров в сообществе!\n"
     ]
    }
   ],
   "execution_count": 9
  },
  {
   "metadata": {
    "ExecuteTime": {
     "end_time": "2025-06-07T12:24:43.197007Z",
     "start_time": "2025-06-07T12:24:34.879607Z"
    }
   },
   "cell_type": "code",
   "source": [
    "# Чемпионы качества: Фильмы с высшими рейтингами\n",
    "%timeit top_rated = ratings.movies_instance.top_by_ratings(7, 'average')\n",
    "top_rated = ratings.movies_instance.top_by_ratings(7, 'average')\n",
    "\n",
    "print(\"👑 ШЕДЕВРЫ С ВЫСШИМИ РЕЙТИНГАМИ:\")\n",
    "for i, (title, avg_rating) in enumerate(top_rated.items(), 1):\n",
    "    print(f\"{i}. {title}: {avg_rating}★\")\n",
    "\n",
    "print(\"\\n🏆 Эти фильмы достигли почти идеального удовлетворения аудитории!\")"
   ],
   "id": "40b31ad8cf4be4f9",
   "outputs": [
    {
     "name": "stdout",
     "output_type": "stream",
     "text": [
      "1.02 ms ± 37.5 μs per loop (mean ± std. dev. of 7 runs, 1,000 loops each)\n",
      "👑 ШЕДЕВРЫ С ВЫСШИМИ РЕЙТИНГАМИ:\n",
      "1. Bottle Rocket (1996): 5.0★\n",
      "2. Canadian Bacon (1995): 5.0★\n",
      "3. Star Wars: Episode IV - A New Hope (1977): 5.0★\n",
      "4. James and the Giant Peach (1996): 5.0★\n",
      "5. Wizard of Oz, The (1939): 5.0★\n",
      "6. Citizen Kane (1941): 5.0★\n",
      "7. Adventures of Robin Hood, The (1938): 5.0★\n",
      "\n",
      "🏆 Эти фильмы достигли почти идеального удовлетворения аудитории!\n"
     ]
    }
   ],
   "execution_count": 10
  },
  {
   "metadata": {
    "ExecuteTime": {
     "end_time": "2025-06-07T12:24:48.484456Z",
     "start_time": "2025-06-07T12:24:43.262695Z"
    }
   },
   "cell_type": "code",
   "source": [
    "# Спорная классика: Фильмы, разделившие мнения\n",
    "%timeit controversial = ratings.movies_instance.top_controversial(5)\n",
    "controversial = ratings.movies_instance.top_controversial(5)\n",
    "\n",
    "print(\"⚡ САМЫЕ СПОРНЫЕ ФИЛЬМЫ:\")\n",
    "for i, (title, variance) in enumerate(controversial.items(), 1):\n",
    "    print(f\"{i}. {title}: {variance} дисперсия\")\n",
    "\n",
    "print(\"\\n🤔 Некоторые великие фильмы вызывали страстные дебаты!\")"
   ],
   "id": "1f86b2019cad1aab",
   "outputs": [
    {
     "name": "stdout",
     "output_type": "stream",
     "text": [
      "6.37 ms ± 475 μs per loop (mean ± std. dev. of 7 runs, 100 loops each)\n",
      "⚡ САМЫЕ СПОРНЫЕ ФИЛЬМЫ:\n",
      "1. Bambi (1942): 10.12 дисперсия\n",
      "2. Rescuers, The (1977): 10.12 дисперсия\n",
      "3. My Fair Lady (1964): 10.12 дисперсия\n",
      "4. Matrix, The (1999): 8.0 дисперсия\n",
      "5. Good Will Hunting (1997): 6.12 дисперсия\n",
      "\n",
      "🤔 Некоторые великие фильмы вызывали страстные дебаты!\n"
     ]
    }
   ],
   "execution_count": 11
  },
  {
   "metadata": {},
   "cell_type": "markdown",
   "source": "### История с точки зрения людей: Понимание интересов пользователей",
   "id": "3b0f01f3e996eff6"
  },
  {
   "metadata": {
    "ExecuteTime": {
     "end_time": "2025-06-07T12:24:58.926161Z",
     "start_time": "2025-06-07T12:24:48.533470Z"
    }
   },
   "cell_type": "code",
   "source": [
    "# Паттерны вовлечённости пользователей\n",
    "%timeit user_activity = ratings.users_instance.dist_by_num_of_ratings()\n",
    "user_activity = ratings.users_instance.dist_by_num_of_ratings()\n",
    "\n",
    "print(\"👥 ПАТТЕРНЫ ВОВЛЕЧЁННОСТИ ПОЛЬЗОВАТЕЛЕЙ:\")\n",
    "for rating_count, user_count in list(user_activity.items())[:8]:\n",
    "    print(f\"{user_count} пользователь оценили ровно {rating_count} фильмов\")\n",
    "\n",
    "print(\"\\n🎯 Большинство были случайными оценщиками, но некоторые - истинно страстными!\")"
   ],
   "id": "6d1881f9a61f3cbe",
   "outputs": [
    {
     "name": "stdout",
     "output_type": "stream",
     "text": [
      "129 μs ± 8.55 μs per loop (mean ± std. dev. of 7 runs, 10,000 loops each)\n",
      "👥 ПАТТЕРНЫ ВОВЛЕЧЁННОСТИ ПОЛЬЗОВАТЕЛЕЙ:\n",
      "1 пользователь оценили ровно 29 фильмов\n",
      "1 пользователь оценили ровно 39 фильмов\n",
      "1 пользователь оценили ровно 44 фильмов\n",
      "1 пользователь оценили ровно 126 фильмов\n",
      "1 пользователь оценили ровно 216 фильмов\n",
      "1 пользователь оценили ровно 232 фильмов\n",
      "1 пользователь оценили ровно 314 фильмов\n",
      "\n",
      "🎯 Большинство были случайными оценщиками, но некоторые - истинно страстными!\n"
     ]
    }
   ],
   "execution_count": 12
  },
  {
   "metadata": {
    "ExecuteTime": {
     "end_time": "2025-06-07T12:25:12.920880Z",
     "start_time": "2025-06-07T12:24:58.995787Z"
    }
   },
   "cell_type": "code",
   "source": [
    "# Философия рейтингов: Щедрость пользователей\n",
    "%timeit user_ratings_dist = ratings.users_instance.dist_by_ratings('average')\n",
    "user_ratings_dist = ratings.users_instance.dist_by_ratings('average')\n",
    "\n",
    "print(\"🎭 ЛИЧНОСТИ ПОЛЬЗОВАТЕЛЕЙ ПО РЕЙТИНГАМ:\")\n",
    "for avg_rating, user_count in list(user_ratings_dist.items())[:10]:\n",
    "    print(f\"{user_count} пользователей в среднем ставят {avg_rating}★ за фильм\")\n",
    "\n",
    "print(\"\\n😊 Сообщество было склонно к оптимизму в своих оценках!\")"
   ],
   "id": "5dcc92754fe94b4f",
   "outputs": [
    {
     "name": "stdout",
     "output_type": "stream",
     "text": [
      "172 μs ± 7.26 μs per loop (mean ± std. dev. of 7 runs, 10,000 loops each)\n",
      "🎭 ЛИЧНОСТИ ПОЛЬЗОВАТЕЛЕЙ ПО РЕЙТИНГАМ:\n",
      "1 пользователей в среднем ставят 2.4★ за фильм\n",
      "1 пользователей в среднем ставят 3.3★ за фильм\n",
      "1 пользователей в среднем ставят 3.5★ за фильм\n",
      "2 пользователей в среднем ставят 3.6★ за фильм\n",
      "1 пользователей в среднем ставят 3.9★ за фильм\n",
      "1 пользователей в среднем ставят 4.4★ за фильм\n",
      "\n",
      "😊 Сообщество было склонно к оптимизму в своих оценках!\n"
     ]
    }
   ],
   "execution_count": 13
  },
  {
   "metadata": {
    "ExecuteTime": {
     "end_time": "2025-06-07T12:25:15.305750Z",
     "start_time": "2025-06-07T12:25:12.953765Z"
    }
   },
   "cell_type": "code",
   "source": [
    "# Дикие карты: Самые непредсказуемые пользователи\n",
    "%timeit unpredictable_users = ratings.users_instance.top_variance(5)\n",
    "unpredictable_users = ratings.users_instance.top_variance(5)\n",
    "\n",
    "print(\"🎲 САМЫЕ НЕПРЕДСКАЗУЕМЫЕ ОЦЕНЩИКИ:\")\n",
    "for i, (user_id, variance) in enumerate(unpredictable_users.items(), 1):\n",
    "    print(f\"{i}. Пользователь {user_id}: {variance} дисперсия рейтингов\")\n",
    "\n",
    "print(\"\\n🌪️ Инсайт непредсказуемости: Некоторые пользователи любят сюрпризы - они оценивают по всему спектру!\")"
   ],
   "id": "1a5e4ae99d1521eb",
   "outputs": [
    {
     "name": "stdout",
     "output_type": "stream",
     "text": [
      "2.84 ms ± 59.4 μs per loop (mean ± std. dev. of 7 runs, 100 loops each)\n",
      "🎲 САМЫЕ НЕПРЕДСКАЗУЕМЫЕ ОЦЕНЩИКИ:\n",
      "1. Пользователь 3: 4.37 дисперсия рейтингов\n",
      "2. Пользователь 4: 1.73 дисперсия рейтингов\n",
      "3. Пользователь 7: 1.67 дисперсия рейтингов\n",
      "4. Пользователь 5: 0.98 дисперсия рейтингов\n",
      "5. Пользователь 6: 0.72 дисперсия рейтингов\n",
      "\n",
      "🌪️ Инсайт непредсказуемости: Некоторые пользователи любят сюрпризы - они оценивают по всему спектру!\n"
     ]
    }
   ],
   "execution_count": 14
  },
  {
   "metadata": {},
   "cell_type": "markdown",
   "source": [
    "## Глава 3: Мудрость толпы - Анализ тегов\n",
    "\n",
    "Теги представляют коллективное сознание киноманов. Какие темы и концепции сообщество считало наиболее важными?"
   ],
   "id": "507e3db55273f8f5"
  },
  {
   "metadata": {
    "ExecuteTime": {
     "end_time": "2025-06-07T12:25:17.707307Z",
     "start_time": "2025-06-07T12:25:15.339197Z"
    }
   },
   "cell_type": "code",
   "source": [
    "# Инициализируем анализатор тегов\n",
    "%timeit tags = Tags(\"tags.csv\")\n",
    "tags = Tags(\"tags.csv\")\n",
    "print(f\"🏷️ Анализируем {len(tags.data)} тегов сообщества - голос киноманов!\")"
   ],
   "id": "60d75cf8cd3fe592",
   "outputs": [
    {
     "name": "stdout",
     "output_type": "stream",
     "text": [
      "2.87 ms ± 221 μs per loop (mean ± std. dev. of 7 runs, 100 loops each)\n",
      "🏷️ Анализируем 1000 тегов сообщества - голос киноманов!\n"
     ]
    }
   ],
   "execution_count": 15
  },
  {
   "metadata": {
    "ExecuteTime": {
     "end_time": "2025-06-07T12:25:19.458241Z",
     "start_time": "2025-06-07T12:25:17.741308Z"
    }
   },
   "cell_type": "code",
   "source": [
    "# Популярные концепции: Что важнее всего?\n",
    "%timeit popular_tags = tags.most_popular(10)\n",
    "popular_tags = tags.most_popular(10)\n",
    "\n",
    "print(\"🔥 САМЫЕ ВАЖНЫЕ КОНЦЕПЦИИ В КИНЕМАТОГРАФЕ:\")\n",
    "\n",
    "for i, (tag, count) in enumerate(popular_tags.items(), 1):\n",
    "    print(f\"{i:2d}. Тэг <{tag}>: упомянут {count} раз\")\n",
    "\n",
    "top_tag = list(popular_tags.keys())[0]\n",
    "\n",
    "print(f\"\\n😄 Инсайт сообщества: '{top_tag}' - это то, что наше сообщество ценит больше всего в фильмах!\")"
   ],
   "id": "4198c4538ede9914",
   "outputs": [
    {
     "name": "stdout",
     "output_type": "stream",
     "text": [
      "204 μs ± 9.73 μs per loop (mean ± std. dev. of 7 runs, 1,000 loops each)\n",
      "🔥 САМЫЕ ВАЖНЫЕ КОНЦЕПЦИИ В КИНЕМАТОГРАФЕ:\n",
      " 1. Тэг <funny>: упомянут 15 раз\n",
      " 2. Тэг <sci-fi>: упомянут 14 раз\n",
      " 3. Тэг <twist ending>: упомянут 12 раз\n",
      " 4. Тэг <dark comedy>: упомянут 12 раз\n",
      " 5. Тэг <atmospheric>: упомянут 10 раз\n",
      " 6. Тэг <superhero>: упомянут 10 раз\n",
      " 7. Тэг <comedy>: упомянут 10 раз\n",
      " 8. Тэг <action>: упомянут 10 раз\n",
      " 9. Тэг <suspense>: упомянут 10 раз\n",
      "10. Тэг <Leonardo DiCaprio>: упомянут 9 раз\n",
      "\n",
      "😄 Инсайт сообщества: 'funny' - это то, что наше сообщество ценит больше всего в фильмах!\n"
     ]
    }
   ],
   "execution_count": 16
  },
  {
   "metadata": {
    "ExecuteTime": {
     "end_time": "2025-06-07T12:25:22.118525Z",
     "start_time": "2025-06-07T12:25:19.492001Z"
    }
   },
   "cell_type": "code",
   "source": [
    "# Рассказчики: Самые подробные теги\n",
    "%timeit detailed_tags = tags.most_words(5)\n",
    "detailed_tags = tags.most_words(5)\n",
    "\n",
    "print(\"📚 САМЫЕ ПОДРОБНЫЕ ОТЗЫВЫ СООБЩЕСТВА:\")\n",
    "for i, (tag, word_count) in enumerate(detailed_tags.items(), 1):\n",
    "    print(f\"{i}. ({word_count} слов) '{tag[:80]}{'...' if len(tag) > 80 else ''}'\")\n",
    "\n",
    "print(\"\\n✍️ Инсайт страсти: Некоторые участники сообщества пишут мини-рецензии в виде тегов!\")"
   ],
   "id": "92312ab442754c24",
   "outputs": [
    {
     "name": "stdout",
     "output_type": "stream",
     "text": [
      "318 μs ± 7.41 μs per loop (mean ± std. dev. of 7 runs, 1,000 loops each)\n",
      "📚 САМЫЕ ПОДРОБНЫЕ ОТЗЫВЫ СООБЩЕСТВА:\n",
      "1. (16 слов) 'Something for everyone in this one... saw it without and plan on seeing it with ...'\n",
      "2. (10 слов) 'the catholic church is the most corrupt organization in history'\n",
      "3. (6 слов) 'Oscar (Best Music - Original Score)'\n",
      "4. (5 слов) 'Everything you want is here'\n",
      "5. (5 слов) 'based on a true story'\n",
      "\n",
      "✍️ Инсайт страсти: Некоторые участники сообщества пишут мини-рецензии в виде тегов!\n"
     ]
    }
   ],
   "execution_count": 17
  },
  {
   "metadata": {
    "ExecuteTime": {
     "end_time": "2025-06-07T12:25:34.855713Z",
     "start_time": "2025-06-07T12:25:22.152904Z"
    }
   },
   "cell_type": "code",
   "source": [
    "# Самые длинные тэги: Чемпионы по символам\n",
    "%timeit longest_tags = tags.longest(5)\n",
    "longest_tags = tags.longest(5)\n",
    "\n",
    "print(\"📏 САМЫЕ ДЛИННЫЕ ТЭГИ СООБЩЕСТВА:\")\n",
    "for i, tag in enumerate(longest_tags, 1):\n",
    "    print(f\"{i}. ({len(tag)} символов) '{tag[:80]}{'...' if len(tag) > 80 else ''}'\")\n",
    "\n",
    "print(\"\\n📝 Инсайт выражения: Когда фильмы трогают людей, им есть что сказать!\")"
   ],
   "id": "70ae68a1cc80b5c7",
   "outputs": [
    {
     "name": "stdout",
     "output_type": "stream",
     "text": [
      "157 μs ± 8.11 μs per loop (mean ± std. dev. of 7 runs, 10,000 loops each)\n",
      "📏 САМЫЕ ДЛИННЫЕ ТЭГИ СООБЩЕСТВА:\n",
      "1. (85 символов) 'Something for everyone in this one... saw it without and plan on seeing it with ...'\n",
      "2. (63 символов) 'the catholic church is the most corrupt organization in history'\n",
      "3. (36 символов) 'audience intelligence underestimated'\n",
      "4. (35 символов) 'Oscar (Best Music - Original Score)'\n",
      "5. (28 символов) 'assassin-in-training (scene)'\n",
      "\n",
      "📝 Инсайт выражения: Когда фильмы трогают людей, им есть что сказать!\n"
     ]
    }
   ],
   "execution_count": 18
  },
  {
   "metadata": {
    "ExecuteTime": {
     "end_time": "2025-06-07T12:25:39.346091Z",
     "start_time": "2025-06-07T12:25:34.889814Z"
    }
   },
   "cell_type": "code",
   "source": [
    "# Теги одновременно длинные И подробные\n",
    "%timeit epic_tags = tags.most_words_and_longest(10)\n",
    "epic_tags = tags.most_words_and_longest(10)\n",
    "\n",
    "print(\"🌟 ТЕГИ ОДНОВРЕМЕННО ДЛИННЫЕ И ПОДРОБНЫЕ:\")\n",
    "if epic_tags:\n",
    "    for i, tag in enumerate(epic_tags, 1):\n",
    "        print(f\"{i}. '{tag[:100]}{'...' if len(tag) > 100 else ''}'\")\n",
    "else:\n",
    "    print(\"Нет тегов, которые были бы одновременно в топе подробных и длинных\")\n",
    "\n",
    "print(f\"\\n🎪 {len(epic_tags)} тегов достигли величия и по количеству слов, и по длине!\")"
   ],
   "id": "ba1b03b65393175c",
   "outputs": [
    {
     "name": "stdout",
     "output_type": "stream",
     "text": [
      "551 μs ± 46.1 μs per loop (mean ± std. dev. of 7 runs, 1,000 loops each)\n",
      "🌟 ТЕГИ ОДНОВРЕМЕННО ДЛИННЫЕ И ПОДРОБНЫЕ:\n",
      "1. 'Everything you want is here'\n",
      "2. 'the catholic church is the most corrupt organization in history'\n",
      "3. 'Something for everyone in this one... saw it without and plan on seeing it with kids!'\n",
      "4. 'Oscar (Best Music - Original Score)'\n",
      "\n",
      "🎪 4 тегов достигли величия и по количеству слов, и по длине!\n"
     ]
    }
   ],
   "execution_count": 19
  },
  {
   "metadata": {
    "ExecuteTime": {
     "end_time": "2025-06-07T12:25:41.025643Z",
     "start_time": "2025-06-07T12:25:39.380087Z"
    }
   },
   "cell_type": "code",
   "source": [
    "# Исследование комедии: Охотники за юмором\n",
    "%timeit funny_tags = tags.tags_with(\"funny\")\n",
    "funny_tags = tags.tags_with(\"funny\")\n",
    "\n",
    "print(\"😂 ВСЕ СПОСОБЫ ОПИСАНИЯ ЮМОРА:\")\n",
    "for i, tag in enumerate(funny_tags[:10], 1):\n",
    "    print(f\"{i:2d}. '{tag}'\")\n",
    "\n",
    "print(f\"\\n🤣 Инсайт юмора: {len(funny_tags)} разных способов описать комедию показывает богатство юмора!\")"
   ],
   "id": "8f53d596ca57f22c",
   "outputs": [
    {
     "name": "stdout",
     "output_type": "stream",
     "text": [
      "200 μs ± 6.44 μs per loop (mean ± std. dev. of 7 runs, 1,000 loops each)\n",
      "😂 ВСЕ СПОСОБЫ ОПИСАНИЯ ЮМОРА:\n",
      " 1. 'funny'\n",
      " 2. 'stupid but funny'\n",
      " 3. 'very funny'\n",
      "\n",
      "🤣 Инсайт юмора: 3 разных способов описать комедию показывает богатство юмора!\n"
     ]
    }
   ],
   "execution_count": 20
  },
  {
   "metadata": {
    "ExecuteTime": {
     "end_time": "2025-06-07T12:25:42.869956Z",
     "start_time": "2025-06-07T12:25:41.059586Z"
    }
   },
   "cell_type": "code",
   "source": [
    "# Исследование научной фантастики: Искатели будущего\n",
    "%timeit scifi_tags = tags.tags_with(\"sci\")\n",
    "scifi_tags = tags.tags_with(\"sci\")\n",
    "\n",
    "print(\"🚀 ЯЗЫК СООБЩЕСТВА НАУЧНОЙ ФАНТАСТИКИ:\")\n",
    "for i, tag in enumerate(scifi_tags[:8], 1):\n",
    "    print(f\"{i}. '{tag}'\")\n",
    "\n",
    "print(f\"\\n🌌 Инсайт будущего: {len(scifi_tags)} тегов, связанных с научной фантастикой, показывают увлечение завтрашним днём!\")"
   ],
   "id": "c47afb0eb25fd98c",
   "outputs": [
    {
     "name": "stdout",
     "output_type": "stream",
     "text": [
      "208 μs ± 9.34 μs per loop (mean ± std. dev. of 7 runs, 1,000 loops each)\n",
      "🚀 ЯЗЫК СООБЩЕСТВА НАУЧНОЙ ФАНТАСТИКИ:\n",
      "1. 'Sci-Fi'\n",
      "2. 'classic sci-fi'\n",
      "3. 'mad scientist'\n",
      "4. 'sci-fi'\n",
      "5. 'science fiction'\n",
      "6. 'scifi'\n",
      "7. 'scifi cult'\n",
      "8. 'sexy female scientist'\n",
      "\n",
      "🌌 Инсайт будущего: 8 тегов, связанных с научной фантастикой, показывают увлечение завтрашним днём!\n"
     ]
    }
   ],
   "execution_count": 21
  },
  {
   "metadata": {},
   "cell_type": "markdown",
   "source": [
    "## Глава 4: Связанная вселенная - Анализ связей\n",
    "\n",
    "Наша финальная глава исследует связи между нашим датасетом и более широкой киновселенной через ссылки IMDB."
   ],
   "id": "413501a2113fc1af"
  },
  {
   "metadata": {
    "ExecuteTime": {
     "end_time": "2025-06-07T12:25:45.162313Z",
     "start_time": "2025-06-07T12:25:42.886892Z"
    }
   },
   "cell_type": "code",
   "source": [
    "# Инициализируем анализатор связей\n",
    "%timeit links = Links(\"links.csv\")\n",
    "links = Links(\"links.csv\")\n",
    "print(f\"🔗 Подключены к {len(links.data)} фильмам в более широкой киновселенной!\")"
   ],
   "id": "cb699d28e24e71e0",
   "outputs": [
    {
     "name": "stdout",
     "output_type": "stream",
     "text": [
      "28.2 ms ± 6.55 ms per loop (mean ± std. dev. of 7 runs, 10 loops each)\n",
      "🔗 Подключены к 10 фильмам в более широкой киновселенной!\n"
     ]
    }
   ],
   "execution_count": 22
  },
  {
   "metadata": {
    "ExecuteTime": {
     "end_time": "2025-06-07T12:25:45.194141Z",
     "start_time": "2025-06-07T12:25:45.180215Z"
    }
   },
   "cell_type": "code",
   "source": [
    "# Вспомогательный блок для очистки кэша\n",
    "\n",
    "# print(\"🗑️ Очищаем кэш IMDB...\")\n",
    "# print(f\"Размер кэша до очистки: {links.cache_size()}\")\n",
    "# links.clear_cache()\n",
    "# print(f\"✅ Кэш очищен! Размер кэша: {links.cache_size()}\")"
   ],
   "id": "8dad54a9a8fa99ef",
   "outputs": [],
   "execution_count": 23
  },
  {
   "metadata": {
    "jupyter": {
     "is_executing": true
    },
    "ExecuteTime": {
     "start_time": "2025-06-07T12:25:45.212142Z"
    }
   },
   "cell_type": "code",
   "source": [
    "# Пример извлечения данных IMDB\n",
    "%timeit sample_imdb = links.get_imdb([1, 2, 3, 4, 5], [\"Director\", \"Budget\", \"Runtime\"])\n",
    "sample_imdb = links.get_imdb([1, 2, 3, 4, 5], [\"Director\", \"Budget\", \"Runtime\"])\n",
    "\n",
    "print(\"🎬 ПРИМЕР ИНФОРМАЦИИ О ФИЛЬМАХ С IMDB:\")\n",
    "print(\"ID фильма | Режиссёр        | Бюджет     | Длительность\")\n",
    "print(\"-\" * 55)\n",
    "for row in sample_imdb:\n",
    "    print(f\"{row[0]:9d} | {str(row[1])[:15]:15s} | {str(row[2])[:10]:10s} | {str(row[3])[:7]}\")"
   ],
   "id": "aaf79c8d0e0c4f99",
   "outputs": [],
   "execution_count": null
  },
  {
   "metadata": {
    "ExecuteTime": {
     "end_time": "2025-05-30T12:24:19.665926Z",
     "start_time": "2025-05-30T12:18:01.631397Z"
    }
   },
   "cell_type": "code",
   "source": [
    "# Мастера-режиссёры: Кто создал больше всего?\n",
    "%timeit top_directors = links.top_directors(5)\n",
    "top_directors = links.top_directors(5)\n",
    "\n",
    "print(\"🎯 САМЫЕ ПЛОДОВИТЫЕ РЕЖИССЁРЫ В НАШЕМ ДАТАСЕТЕ:\")\n",
    "for i, (director, count) in enumerate(top_directors.items(), 1):\n",
    "    print(f\"{i}. {director}: {count} фильмов\")\n",
    "\n",
    "print(\"\\n🎭 Инсайт авторов: Эти режиссёры сформировали кинематографический ландшафт нашего датасета!\")"
   ],
   "id": "c49e4df174a095ac",
   "outputs": [
    {
     "name": "stdout",
     "output_type": "stream",
     "text": [
      "149 μs ± 77.8 μs per loop (mean ± std. dev. of 7 runs, 1 loop each)\n",
      "🎯 САМЫЕ ПЛОДОВИТЫЕ РЕЖИССЁРЫ В НАШЕМ ДАТАСЕТЕ:\n",
      "1. Martin Scorsese: 2 фильмов\n",
      "2. Ang Lee: 2 фильмов\n",
      "3. Mike Figgis: 2 фильмов\n",
      "4. John N. Smith: 2 фильмов\n",
      "5. Robert Rodriguez: 2 фильмов\n",
      "\n",
      "🎭 Инсайт авторов: Эти режиссёры сформировали кинематографический ландшафт нашего датасета!\n"
     ]
    }
   ],
   "execution_count": 43
  },
  {
   "metadata": {
    "ExecuteTime": {
     "end_time": "2025-05-30T12:24:28.295202Z",
     "start_time": "2025-05-30T12:24:19.748065Z"
    }
   },
   "cell_type": "code",
   "source": [
    "# Большие бюджетные зрелища: Деньги на экране\n",
    "%timeit expensive_movies = links.most_expensive(6)\n",
    "expensive_movies = links.most_expensive(6)\n",
    "\n",
    "print(\"💰 БЛОКБАСТЕРЫ С САМЫМ БОЛЬШИМ БЮДЖЕТОМ:\")\n",
    "for i, (title, budget) in enumerate(expensive_movies.items(), 1):\n",
    "    print(f\"{i}. {title}: ${budget:,}\")\n",
    "\n",
    "print(\"\\n🎪 Инсайт зрелищности: Большие бюджеты стремились к большим впечатлениям в кино 90-х!\")"
   ],
   "id": "4ba6c24d81679fcc",
   "outputs": [
    {
     "name": "stdout",
     "output_type": "stream",
     "text": [
      "104 μs ± 1.39 μs per loop (mean ± std. dev. of 7 runs, 10,000 loops each)\n",
      "💰 БЛОКБАСТЕРЫ С САМЫМ БОЛЬШИМ БЮДЖЕТОМ:\n",
      "1. Waterworld (1995): $175,000,000\n",
      "2. Batman Forever (1995): $100,000,000\n",
      "3. Cutthroat Island (1995): $98,000,000\n",
      "4. Die Hard: With a Vengeance (1995): $90,000,000\n",
      "5. Judge Dredd (1995): $90,000,000\n",
      "6. Braveheart (1995): $72,000,000\n",
      "\n",
      "🎪 Инсайт зрелищности: Большие бюджеты стремились к большим впечатлениям в кино 90-х!\n"
     ]
    }
   ],
   "execution_count": 44
  },
  {
   "metadata": {
    "ExecuteTime": {
     "end_time": "2025-05-30T12:24:38.009782Z",
     "start_time": "2025-05-30T12:24:28.329085Z"
    }
   },
   "cell_type": "code",
   "source": [
    "# Марафонские фильмы: Самые длинные переживания\n",
    "%timeit longest_movies = links.longest(6)\n",
    "longest_movies = links.longest(6)\n",
    "\n",
    "print(\"⏰ САМЫЕ ДЛИННЫЕ КИНЕОПУТЕШЕСТВИЯ:\")\n",
    "for i, (title, runtime) in enumerate(longest_movies.items(), 1):\n",
    "    hours = runtime // 60\n",
    "    minutes = runtime % 60\n",
    "    print(f\"{i}. {title}: {hours}ч {minutes}м ({runtime} минут)\")\n",
    "\n",
    "print(\"\\n⌛ Эпический инсайт: Некоторые истории требовали большого времени для правильной истории!\")"
   ],
   "id": "d8f4166f24ba8373",
   "outputs": [
    {
     "name": "stdout",
     "output_type": "stream",
     "text": [
      "119 μs ± 1.5 μs per loop (mean ± std. dev. of 7 runs, 10,000 loops each)\n",
      "⏰ САМЫЕ ДЛИННЫЕ КИНЕОПУТЕШЕСТВИЯ:\n",
      "1. Nixon (1995): 3ч 12м (192 минут)\n",
      "2. Casino (1995): 2ч 58м (178 минут)\n",
      "3. Braveheart (1995): 2ч 58м (178 минут)\n",
      "4. Misérables, Les (1995): 2ч 55м (175 минут)\n",
      "5. Heat (1995): 2ч 50м (170 минут)\n",
      "6. Strange Days (1995): 2ч 25м (145 минут)\n",
      "\n",
      "⌛ Эпический инсайт: Некоторые истории требовали большого времени для правильной истории!\n"
     ]
    }
   ],
   "execution_count": 45
  },
  {
   "metadata": {
    "ExecuteTime": {
     "end_time": "2025-05-30T12:24:47.122095Z",
     "start_time": "2025-05-30T12:24:38.042595Z"
    }
   },
   "cell_type": "code",
   "source": [
    "# Чемпионы прибыли: Лучшая отдача от инвестиций\n",
    "%timeit profitable_movies = links.most_profitable(6)\n",
    "profitable_movies = links.most_profitable(6)\n",
    "\n",
    "print(\"📈 САМЫЕ ПРИБЫЛЬНЫЕ ФИЛЬМЫ:\")\n",
    "for i, (title, profit) in enumerate(profitable_movies.items(), 1):\n",
    "    print(f\"{i}. {title}: ${profit:,} прибыль\")\n",
    "\n",
    "print(\"\\n💎 Инсайт успеха: Лучшие фильмы оказали как художественное, так и финансовое влияние!\")"
   ],
   "id": "cec5c4d4bedc7339",
   "outputs": [
    {
     "name": "stdout",
     "output_type": "stream",
     "text": [
      "112 μs ± 1.2 μs per loop (mean ± std. dev. of 7 runs, 10,000 loops each)\n",
      "📈 САМЫЕ ПРИБЫЛЬНЫЕ ФИЛЬМЫ:\n",
      "1. Toy Story (1995): $364,436,586 прибыль\n",
      "2. Apollo 13 (1995): $303,237,933 прибыль\n",
      "3. Seven (a.k.a. Se7en) (1995): $295,981,827 прибыль\n",
      "4. GoldenEye (1995): $292,194,034 прибыль\n",
      "5. Pocahontas (1995): $291,079,773 прибыль\n",
      "6. Die Hard: With a Vengeance (1995): $276,101,666 прибыль\n",
      "\n",
      "💎 Инсайт успеха: Лучшие фильмы оказали как художественное, так и финансовое влияние!\n"
     ]
    }
   ],
   "execution_count": 46
  },
  {
   "metadata": {
    "ExecuteTime": {
     "end_time": "2025-05-30T12:24:48.774132Z",
     "start_time": "2025-05-30T12:24:47.156170Z"
    }
   },
   "cell_type": "code",
   "source": [
    "# Премиум-переживания: Стоимость за минуту\n",
    "%timeit cost_per_minute = links.top_cost_per_minute(6)\n",
    "cost_per_minute = links.top_cost_per_minute(6)\n",
    "\n",
    "print(\"💸 САМЫЕ ДОРОГИЕ ФИЛЬМЫ ЗА МИНУТУ:\")\n",
    "for i, (title, cost) in enumerate(cost_per_minute.items(), 1):\n",
    "    print(f\"{i}. {title}: ${cost:,.2f} за минуту\")\n",
    "\n",
    "print(\"\\n⚡ Некоторые фильмы стоили невероятно дорого в производстве за каждую минуту!\")\n",
    "\n",
    "# Общая статистика датасета\n",
    "print(\"\\n\" + \"=\" * 60)\n",
    "print(\"📊 ОБЩАЯ СТАТИСТИКА НАШЕГО АНАЛИЗА\")\n",
    "print(\"=\" * 60)\n",
    "print(f\"🎬 Всего фильмов проанализировано: {len(movies.data)}\")\n",
    "print(f\"⭐ Всего рейтингов обработано: {len(ratings.data)}\")\n",
    "print(f\"🏷️ Всего тегов изучено: {len(tags.data)}\")\n",
    "print(f\"🔗 Всего ссылок исследовано: {len(links.data)}\")\n",
    "print(\"\\n🎯 Все данные обработаны успешно!\")"
   ],
   "id": "224be668400f45d8",
   "outputs": [
    {
     "name": "stdout",
     "output_type": "stream",
     "text": [
      "195 μs ± 4.24 μs per loop (mean ± std. dev. of 7 runs, 1,000 loops each)\n",
      "💸 САМЫЕ ДОРОГИЕ ФИЛЬМЫ ЗА МИНУТУ:\n",
      "1. Waterworld (1995): $1,296,296.30 за минуту\n",
      "2. Judge Dredd (1995): $937,500.00 за минуту\n",
      "3. Batman Forever (1995): $826,446.28 за минуту\n",
      "4. Cutthroat Island (1995): $790,322.58 за минуту\n",
      "5. Die Hard: With a Vengeance (1995): $703,125.00 за минуту\n",
      "6. Pocahontas (1995): $679,012.35 за минуту\n",
      "\n",
      "⚡ Некоторые фильмы стоили невероятно дорого в производстве за каждую минуту!\n",
      "\n",
      "============================================================\n",
      "📊 ОБЩАЯ СТАТИСТИКА НАШЕГО АНАЛИЗА\n",
      "============================================================\n",
      "🎬 Всего фильмов проанализировано: 1000\n",
      "⭐ Всего рейтингов обработано: 1000\n",
      "🏷️ Всего тегов изучено: 1000\n",
      "🔗 Всего ссылок исследовано: 200\n",
      "\n",
      "🎯 Все данные обработаны успешно!\n"
     ]
    }
   ],
   "execution_count": 47
  },
  {
   "metadata": {},
   "cell_type": "markdown",
   "source": [
    "## Эпилог: История кино 90-х\n",
    "\n",
    "### Что мы обнаружили\n",
    "\n",
    "Наше путешествие по датасету MovieLens раскрывает богатую палитру кинематографа 1990-х годов:\n",
    "\n",
    "**🎬 Фильмы**: 1995 год стал золотым годом, а драма и комедия покорили сердца аудитории. Фильмы становились более сложными, многие охватывали несколько жанров.\n",
    "\n",
    "**⭐ Аудитория**: Киноманы были в целом оптимистичны, низкие оценки встречались редко. Сообщество было страстным, но разнообразным - одни пользователи оценивали по всему спектру, другие были более последовательными.\n",
    "\n",
    "**🏷️ Сообщество**: Юмор (\"funny\") был самым ценным качеством, показывая, что развлечение было ключевым. Сообщество создавало всё - от простых тегов до подробных мини-рецензий, демонстрируя глубокую вовлечённость.\n",
    "\n",
    "**🔗 Индустрия**: Режиссёры строили свои фильмографии, большие бюджеты создавали зрелища, а некоторые фильмы достигли идеального баланса художественного и коммерческого успеха.\n",
    "\n",
    "### Общая картина\n",
    "\n",
    "Эти данные рассказывают историю трансформационного десятилетия в кинематографе - когда фильмы стали более разнообразными, аудитория более вовлечённой, а сообщество начало формировать основы того, что стало современной культурой обсуждения фильмов.\n",
    "\n",
    "1990-е были не только о самих фильмах, но и о рождении партисипативной кинокультуры, которая продолжает процветать и сегодня.\n",
    "\n",
    "### Финальные выводы\n",
    "\n",
    "📈 **Тренды эпохи**: Золотой год 1995, доминирование драмы, рост многожанровых фильмов\n",
    "\n",
    "😊 **Характер аудитории**: Оптимистичная, вовлечённая, разнообразная в своих предпочтениях\n",
    "\n",
    "🎭 **Ценности сообщества**: Юмор превыше всего, глубокие обсуждения, страстная вовлечённость\n",
    "\n",
    "💼 **Индустриальная эволюция**: Баланс искусства и коммерции, эксперименты с бюджетами и жанрами\n",
    "\n",
    "---\n",
    "\n",
    "*\"В конце концов, мы не просто смотрим фильмы - мы их проживаем, обсуждаем и делаем частью нашей общей культурной истории.\"* 🎭\n",
    "\n",
    "---\n",
    "\n",
    "*Отчет создан в рамках изучения аналитики данных и рассказывания историй через данные.*"
   ],
   "id": "5d68b3bbe6ae1656"
  }
 ],
 "metadata": {
  "kernelspec": {
   "display_name": "Python 3 (ipykernel)",
   "language": "python",
   "name": "python3"
  },
  "language_info": {
   "codemirror_mode": {
    "name": "ipython",
    "version": 3
   },
   "file_extension": ".py",
   "mimetype": "text/x-python",
   "name": "python",
   "nbconvert_exporter": "python",
   "pygments_lexer": "ipython3",
   "version": "3.10.0"
  }
 },
 "nbformat": 4,
 "nbformat_minor": 5
}
