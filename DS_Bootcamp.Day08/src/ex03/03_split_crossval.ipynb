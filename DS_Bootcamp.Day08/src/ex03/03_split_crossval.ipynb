{
 "cells": [
  {
   "cell_type": "markdown",
   "metadata": {},
   "source": [
    "# Day 08. Exercise 03\n",
    "# Overfitting"
   ]
  },
  {
   "cell_type": "markdown",
   "metadata": {},
   "source": [
    "## 0. Imports"
   ]
  },
  {
   "cell_type": "code",
   "metadata": {
    "ExecuteTime": {
     "end_time": "2025-08-04T09:57:56.594653Z",
     "start_time": "2025-08-04T09:57:56.544544Z"
    }
   },
   "source": [
    "import pandas as pd\n",
    "import matplotlib.pyplot as plt\n",
    "from sklearn.model_selection import train_test_split, cross_val_score\n",
    "from sklearn.linear_model import LogisticRegression\n",
    "from sklearn.svm import SVC\n",
    "from sklearn.tree import DecisionTreeClassifier\n",
    "from sklearn.ensemble import RandomForestClassifier\n",
    "from sklearn.metrics import accuracy_score\n",
    "import joblib"
   ],
   "outputs": [],
   "execution_count": 23
  },
  {
   "cell_type": "markdown",
   "metadata": {},
   "source": [
    "## 1. Preprocessing"
   ]
  },
  {
   "cell_type": "markdown",
   "metadata": {},
   "source": [
    "1. Read the file `dayofweek.csv` to a dataframe.\n",
    "2. Using `train_test_split` with parameters `test_size=0.2`, `random_state=21` get `X_train`, `y_train`, `X_test`, `y_test`.\n",
    "3. Using, for example, `value_counts()` to check if the distribution of classes is similar in train and test.\n",
    "4. Use the additional parameter `stratify=` and check the distribution again, now it should be more or less similar in both datasets."
   ]
  },
  {
   "cell_type": "code",
   "metadata": {
    "ExecuteTime": {
     "end_time": "2025-08-04T09:57:56.792327Z",
     "start_time": "2025-08-04T09:57:56.632067Z"
    }
   },
   "source": [
    "# 1. Читаем файл\n",
    "try:\n",
    "    df = pd.read_csv('../data/dayofweek.csv')\n",
    "except FileNotFoundError as e:\n",
    "    print(\"File not found\")\n",
    "    raise e\n",
    "\n",
    "print(f\"Размер данных: {df.shape}\")"
   ],
   "outputs": [
    {
     "name": "stdout",
     "output_type": "stream",
     "text": [
      "Размер данных: (1686, 44)\n"
     ]
    }
   ],
   "execution_count": 24
  },
  {
   "metadata": {
    "ExecuteTime": {
     "end_time": "2025-08-04T09:57:57.467332Z",
     "start_time": "2025-08-04T09:57:57.328268Z"
    }
   },
   "cell_type": "code",
   "source": [
    "# Подготовка X и y\n",
    "X = df.drop('dayofweek', axis=1)\n",
    "y = df['dayofweek']\n",
    "\n",
    "# print(f\"\\nРаспределение классов в полном фрейме:\")\n",
    "# print(y.value_counts().sort_index())"
   ],
   "outputs": [],
   "execution_count": 25
  },
  {
   "cell_type": "code",
   "metadata": {
    "ExecuteTime": {
     "end_time": "2025-08-04T09:57:57.781229Z",
     "start_time": "2025-08-04T09:57:57.701719Z"
    }
   },
   "source": [
    "X_train, X_test, y_train, y_test = train_test_split(\n",
    "    X, y, test_size=0.2, random_state=21\n",
    ")\n",
    "\n",
    "print(\"Не используем  стратификацию (stratify):\")\n",
    "print(f\"Train размер: {X_train.shape}\")\n",
    "print(f\"Test размер: {X_test.shape}\")"
   ],
   "outputs": [
    {
     "name": "stdout",
     "output_type": "stream",
     "text": [
      "Не используем  стратификацию (stratify):\n",
      "Train размер: (1348, 43)\n",
      "Test размер: (338, 43)\n"
     ]
    }
   ],
   "execution_count": 26
  },
  {
   "cell_type": "code",
   "metadata": {
    "ExecuteTime": {
     "end_time": "2025-08-04T09:57:58.111321Z",
     "start_time": "2025-08-04T09:57:58.077614Z"
    }
   },
   "source": [
    "# Проверяем распределение классов\n",
    "print(f\"\\nРаспределение в Train:\")\n",
    "y_train.value_counts(normalize=True).sort_index()\n",
    "\n",
    "print(f\"\\nРаспределение в Test:\")\n",
    "y_test.value_counts(normalize=True).sort_index()"
   ],
   "outputs": [
    {
     "name": "stdout",
     "output_type": "stream",
     "text": [
      "\n",
      "Распределение в Train:\n",
      "\n",
      "Распределение в Test:\n"
     ]
    },
    {
     "data": {
      "text/plain": [
       "0    0.091716\n",
       "1    0.153846\n",
       "2    0.071006\n",
       "3    0.245562\n",
       "4    0.071006\n",
       "5    0.162722\n",
       "6    0.204142\n",
       "Name: dayofweek, dtype: float64"
      ]
     },
     "execution_count": 27,
     "metadata": {},
     "output_type": "execute_result"
    }
   ],
   "execution_count": 27
  },
  {
   "cell_type": "code",
   "metadata": {
    "ExecuteTime": {
     "end_time": "2025-08-04T09:57:58.658150Z",
     "start_time": "2025-08-04T09:57:58.572405Z"
    }
   },
   "source": [
    "# 4. Train/test split С stratify\n",
    "X_train, X_test, y_train, y_test = train_test_split(\n",
    "    X, y, test_size=0.2, random_state=21, stratify=y\n",
    ")\n",
    "\n",
    "print(\"Используем стратификацию\")\n",
    "print(f\"Train размер: {X_train.shape}\")\n",
    "print(f\"Test размер: {X_test.shape}\")\n",
    "\n",
    "print(f\"\\nРаспределение в Train:\")\n",
    "print(y_train.value_counts(normalize=True).sort_index() * 100)\n",
    "\n",
    "print(f\"\\nРаспределение в Test:\")\n",
    "print(y_test.value_counts(normalize=True).sort_index() * 100)"
   ],
   "outputs": [
    {
     "name": "stdout",
     "output_type": "stream",
     "text": [
      "Используем стратификацию\n",
      "Train размер: (1348, 43)\n",
      "Test размер: (338, 43)\n",
      "\n",
      "Распределение в Train:\n",
      "0     8.086053\n",
      "1    16.246291\n",
      "2     8.827893\n",
      "3    23.442136\n",
      "4     6.157270\n",
      "5    16.097923\n",
      "6    21.142433\n",
      "Name: dayofweek, dtype: float64\n",
      "\n",
      "Распределение в Test:\n",
      "0     7.988166\n",
      "1    16.272189\n",
      "2     8.875740\n",
      "3    23.668639\n",
      "4     6.213018\n",
      "5    15.976331\n",
      "6    21.005917\n",
      "Name: dayofweek, dtype: float64\n"
     ]
    }
   ],
   "execution_count": 28
  },
  {
   "cell_type": "markdown",
   "metadata": {},
   "source": [
    "## 2. Baseline models"
   ]
  },
  {
   "cell_type": "markdown",
   "metadata": {},
   "source": [
    "1. Train exactly the same baseline models from the previous exercise and calculate the accuracies using the test dataset with stratification.\n",
    "2. Did all the models show the similar values of the metric? Which one has the largest difference comparing the current exercise and the previous? Put the answer to the markdown cell in the end of the section."
   ]
  },
  {
   "cell_type": "markdown",
   "metadata": {},
   "source": [
    "### a. Logreg"
   ]
  },
  {
   "cell_type": "code",
   "metadata": {
    "ExecuteTime": {
     "end_time": "2025-08-04T09:58:01.277233Z",
     "start_time": "2025-08-04T09:57:59.137202Z"
    }
   },
   "source": [
    "logreg = LogisticRegression(random_state=21, fit_intercept=False, max_iter=1000, solver='lbfgs')\n",
    "logreg.fit(X_train, y_train)\n",
    "\n",
    "# Оценка на train и test\n",
    "train_acc_logreg = logreg.score(X_train, y_train)\n",
    "test_acc_logreg = logreg.score(X_test, y_test)\n",
    "\n",
    "print(f\"\\nLogistic Regression:\")\n",
    "print(f\"Train Accuracy: {train_acc_logreg:.4f}\")\n",
    "print(f\"Test Accuracy: {test_acc_logreg:.4f}\")\n",
    "print(f\"Разница (переобучение): {train_acc_logreg - test_acc_logreg:.4f}\")\n"
   ],
   "outputs": [
    {
     "name": "stdout",
     "output_type": "stream",
     "text": [
      "\n",
      "Logistic Regression:\n",
      "Train Accuracy: 0.6447\n",
      "Test Accuracy: 0.6272\n",
      "Разница (переобучение): 0.0174\n"
     ]
    }
   ],
   "execution_count": 29
  },
  {
   "cell_type": "code",
   "metadata": {
    "ExecuteTime": {
     "end_time": "2025-08-04T09:58:02.139376Z",
     "start_time": "2025-08-04T09:58:02.069696Z"
    }
   },
   "source": [
    "results = {\n",
    "    'Model': [],\n",
    "    'Train Accuracy': [],\n",
    "    'Test Accuracy': [],\n",
    "    'Overfitting': []\n",
    "}\n",
    "\n",
    "results['Model'].append('Logistic Regression')\n",
    "results['Train Accuracy'].append(train_acc_logreg)\n",
    "results['Test Accuracy'].append(test_acc_logreg)\n",
    "results['Overfitting'].append(train_acc_logreg - test_acc_logreg)"
   ],
   "outputs": [],
   "execution_count": 30
  },
  {
   "cell_type": "markdown",
   "metadata": {},
   "source": [
    "### b. SVM"
   ]
  },
  {
   "cell_type": "code",
   "metadata": {
    "ExecuteTime": {
     "end_time": "2025-08-04T09:58:06.934171Z",
     "start_time": "2025-08-04T09:58:02.416445Z"
    }
   },
   "source": [
    "svm = SVC(kernel='linear', probability=True, random_state=21)\n",
    "svm.fit(X_train, y_train)\n",
    "\n",
    "train_acc_svm = svm.score(X_train, y_train)\n",
    "test_acc_svm = svm.score(X_test, y_test)\n",
    "\n",
    "print(f\"\\nSVM (linear):\")\n",
    "print(f\"Train Accuracy: {train_acc_svm:.4f}\")\n",
    "print(f\"Test Accuracy: {test_acc_svm:.4f}\")\n",
    "print(f\"Разница (переобучение): {train_acc_svm - test_acc_svm:.4f}\")\n",
    "\n",
    "results['Model'].append('SVM (linear)')\n",
    "results['Train Accuracy'].append(train_acc_svm)\n",
    "results['Test Accuracy'].append(test_acc_svm)\n",
    "results['Overfitting'].append(train_acc_svm - test_acc_svm)"
   ],
   "outputs": [
    {
     "name": "stdout",
     "output_type": "stream",
     "text": [
      "\n",
      "SVM (linear):\n",
      "Train Accuracy: 0.6892\n",
      "Test Accuracy: 0.7160\n",
      "Разница (переобучение): -0.0268\n"
     ]
    }
   ],
   "execution_count": 31
  },
  {
   "cell_type": "markdown",
   "metadata": {},
   "source": [
    "### c. Decision tree"
   ]
  },
  {
   "cell_type": "code",
   "metadata": {
    "ExecuteTime": {
     "end_time": "2025-08-04T09:58:07.105828Z",
     "start_time": "2025-08-04T09:58:07.077924Z"
    }
   },
   "source": [
    "dt = DecisionTreeClassifier(max_depth=4, random_state=21)\n",
    "dt.fit(X_train, y_train)\n",
    "\n",
    "train_acc_dt = dt.score(X_train, y_train)\n",
    "test_acc_dt = dt.score(X_test, y_test)\n",
    "\n",
    "print(f\"\\nDecision Tree (max_depth=4):\")\n",
    "print(f\"Train Accuracy: {train_acc_dt}\")\n",
    "print(f\"Test Accuracy: {test_acc_dt:.4f}\")\n",
    "print(f\"Разница (переобучение): {train_acc_dt - test_acc_dt:.4f}\")\n",
    "\n",
    "results['Model'].append('Decision Tree')\n",
    "results['Train Accuracy'].append(train_acc_dt)\n",
    "results['Test Accuracy'].append(test_acc_dt)\n",
    "results['Overfitting'].append(train_acc_dt - test_acc_dt)"
   ],
   "outputs": [
    {
     "name": "stdout",
     "output_type": "stream",
     "text": [
      "\n",
      "Decision Tree (max_depth=4):\n",
      "Train Accuracy: 0.5326409495548962\n",
      "Test Accuracy: 0.5296\n",
      "Разница (переобучение): 0.0031\n"
     ]
    }
   ],
   "execution_count": 32
  },
  {
   "cell_type": "markdown",
   "metadata": {},
   "source": [
    "### d. Random forest"
   ]
  },
  {
   "cell_type": "code",
   "metadata": {
    "ExecuteTime": {
     "end_time": "2025-08-04T09:58:09.794563Z",
     "start_time": "2025-08-04T09:58:07.502731Z"
    }
   },
   "source": [
    "rf = RandomForestClassifier(n_estimators=100, max_depth=25, random_state=21)\n",
    "rf.fit(X_train, y_train)\n",
    "\n",
    "train_acc_rf = rf.score(X_train, y_train)\n",
    "test_acc_rf = rf.score(X_test, y_test)\n",
    "\n",
    "print(f\"\\nRandom Forest:\")\n",
    "print(f\"Train Accuracy: {train_acc_rf:.4f}\")\n",
    "print(f\"Test Accuracy: {test_acc_rf}\")\n",
    "print(f\"Разница (переобучение): {train_acc_rf - test_acc_rf:.4f}\")\n",
    "\n",
    "results['Model'].append('Random Forest')\n",
    "results['Train Accuracy'].append(train_acc_rf)\n",
    "results['Test Accuracy'].append(test_acc_rf)\n",
    "results['Overfitting'].append(train_acc_rf - test_acc_rf)"
   ],
   "outputs": [
    {
     "name": "stdout",
     "output_type": "stream",
     "text": [
      "\n",
      "Random Forest:\n",
      "Train Accuracy: 1.0000\n",
      "Test Accuracy: 0.9319526627218935\n",
      "Разница (переобучение): 0.0680\n"
     ]
    }
   ],
   "execution_count": 33
  },
  {
   "metadata": {
    "ExecuteTime": {
     "end_time": "2025-08-04T09:58:10.160658Z",
     "start_time": "2025-08-04T09:58:10.059755Z"
    }
   },
   "cell_type": "code",
   "source": [
    "results_df = pd.DataFrame(results)\n",
    "max_overfit_idx = results_df['Overfitting'].idxmax()\n",
    "max_overfit_model = results_df.loc[max_overfit_idx, 'Model']\n",
    "\n",
    "print(\"Результаты:\")\n",
    "print(results_df)\n",
    "print(f\"\\nМодель с наибольшим переобучением: {max_overfit_model}\")\n",
    "print(f\"Разница между train и test: {results_df.loc[max_overfit_idx, 'Overfitting']:.4f}\")"
   ],
   "outputs": [
    {
     "name": "stdout",
     "output_type": "stream",
     "text": [
      "Результаты:\n",
      "                 Model  Train Accuracy  Test Accuracy  Overfitting\n",
      "0  Logistic Regression        0.644659       0.627219     0.017440\n",
      "1         SVM (linear)        0.689169       0.715976    -0.026807\n",
      "2        Decision Tree        0.532641       0.529586     0.003055\n",
      "3        Random Forest        1.000000       0.931953     0.068047\n",
      "\n",
      "Модель с наибольшим переобучением: Random Forest\n",
      "Разница между train и test: 0.0680\n"
     ]
    }
   ],
   "execution_count": 34
  },
  {
   "cell_type": "markdown",
   "metadata": {},
   "source": "## Модель с наибольшей разницей между train и test данными Random forest: со значением 0.0680 т.е. \"c\""
  },
  {
   "cell_type": "markdown",
   "metadata": {},
   "source": [
    "## 3. Crossvalidation"
   ]
  },
  {
   "cell_type": "markdown",
   "metadata": {},
   "source": [
    "We could play with parameters of the model trying to achive a better accuracy on the test dataset, but it is a bad practice. It leads us again to overfitting. Test dataset is only for checking quality of a final model.\n",
    "\n",
    "But there is another way of solving the problem – crossvalidation. It does not use test dataset, but creates one more split of train dataset. Again, there are different ways of doing it, but the common thing is that there is a validation dataset that is used for hyperparameters optimization."
   ]
  },
  {
   "cell_type": "markdown",
   "metadata": {},
   "source": [
    "1. Using `cross_val_score` with `cv=10` calculate the mean accuracy and standard deviation for every model that you used before (logreg with `solver='liblinear'`, SVC, decision tree, random forest)."
   ]
  },
  {
   "cell_type": "markdown",
   "metadata": {},
   "source": [
    "### a. Logreg"
   ]
  },
  {
   "cell_type": "code",
   "metadata": {
    "ExecuteTime": {
     "end_time": "2025-08-04T09:58:13.318740Z",
     "start_time": "2025-08-04T09:58:10.504234Z"
    }
   },
   "source": [
    "logreg_cv = LogisticRegression(random_state=21, fit_intercept=False,\n",
    "                                max_iter=1000, solver='lbfgs')\n",
    "scores_logreg = cross_val_score(logreg_cv, X_train, y_train, cv=10, scoring='accuracy')\n",
    "\n",
    "print(f\"\\nLogistic Regression CV:\")\n",
    "print(f\"Mean accuracy: {scores_logreg.mean():.4f}\")\n",
    "print(f\"Std deviation: {scores_logreg.std():.4f}\")"
   ],
   "outputs": [
    {
     "name": "stdout",
     "output_type": "stream",
     "text": [
      "\n",
      "Logistic Regression CV:\n",
      "Mean accuracy: 0.6016\n",
      "Std deviation: 0.0294\n"
     ]
    }
   ],
   "execution_count": 35
  },
  {
   "cell_type": "markdown",
   "metadata": {},
   "source": [
    "### b. SVM"
   ]
  },
  {
   "cell_type": "code",
   "metadata": {
    "ExecuteTime": {
     "end_time": "2025-08-04T09:58:16.592205Z",
     "start_time": "2025-08-04T09:58:13.617921Z"
    }
   },
   "source": [
    "svm_cv = SVC(kernel='linear', random_state=21)\n",
    "scores_svm = cross_val_score(svm_cv, X_train, y_train, cv=10, scoring='accuracy')\n",
    "\n",
    "print(f\"\\nSVM (linear) CV:\")\n",
    "print(f\"Mean accuracy: {scores_svm.mean():.4f}\")\n",
    "print(f\"Std deviation: {scores_svm.std():.4f}\")"
   ],
   "outputs": [
    {
     "name": "stdout",
     "output_type": "stream",
     "text": [
      "\n",
      "SVM (linear) CV:\n",
      "Mean accuracy: 0.6587\n",
      "Std deviation: 0.0436\n"
     ]
    }
   ],
   "execution_count": 36
  },
  {
   "cell_type": "markdown",
   "metadata": {},
   "source": [
    "### c. Decision tree"
   ]
  },
  {
   "cell_type": "code",
   "metadata": {
    "ExecuteTime": {
     "end_time": "2025-08-04T09:58:17.176871Z",
     "start_time": "2025-08-04T09:58:16.929771Z"
    }
   },
   "source": [
    "dt_cv = DecisionTreeClassifier(max_depth=4, random_state=21)\n",
    "scores_dt = cross_val_score(dt_cv, X_train, y_train, cv=10, scoring='accuracy')\n",
    "\n",
    "print(f\"\\nDecision Tree CV:\")\n",
    "print(f\"Mean accuracy: {scores_dt.mean():.4f}\")\n",
    "print(f\"Std deviation: {scores_dt.std():.4f}\")"
   ],
   "outputs": [
    {
     "name": "stdout",
     "output_type": "stream",
     "text": [
      "\n",
      "Decision Tree CV:\n",
      "Mean accuracy: 0.5089\n",
      "Std deviation: 0.0319\n"
     ]
    }
   ],
   "execution_count": 37
  },
  {
   "cell_type": "markdown",
   "metadata": {},
   "source": [
    "### d. Random forest"
   ]
  },
  {
   "cell_type": "code",
   "metadata": {
    "ExecuteTime": {
     "end_time": "2025-08-04T09:58:25.704914Z",
     "start_time": "2025-08-04T09:58:17.390074Z"
    }
   },
   "source": [
    "rf_cv = RandomForestClassifier(n_estimators=100, max_depth=25, random_state=21)\n",
    "scores_rf = cross_val_score(rf_cv, X_train, y_train, cv=10, scoring='accuracy')\n",
    "\n",
    "print(f\"\\nRandom Forest CV:\")\n",
    "print(f\"Mean accuracy: {scores_rf.mean():.4f}\")\n",
    "print(f\"Std deviation: {scores_rf.std():.4f}\")"
   ],
   "outputs": [
    {
     "name": "stdout",
     "output_type": "stream",
     "text": [
      "\n",
      "Random Forest CV:\n",
      "Mean accuracy: 0.9117\n",
      "Std deviation: 0.0174\n"
     ]
    }
   ],
   "execution_count": 38
  },
  {
   "cell_type": "markdown",
   "metadata": {},
   "source": [
    "## 4. Optimization"
   ]
  },
  {
   "cell_type": "markdown",
   "metadata": {},
   "source": [
    "1. Choose the best model and play a little bit with the parameters on cross-validation, find a good enough parameter or a combination of the parameters.\n",
    "2. Calculate the accuracy for the final model on the test dataset.\n",
    "3. Draw a plot that displays the top-10 most  important features for that model.\n",
    "4. Save the model using `joblib`.\n",
    "5. Load the model, make predictions for the test dataset and calculate the accuracy."
   ]
  },
  {
   "cell_type": "code",
   "metadata": {
    "ExecuteTime": {
     "end_time": "2025-08-04T09:58:25.977076Z",
     "start_time": "2025-08-04T09:58:25.956939Z"
    }
   },
   "source": [
    "cv_results = {\n",
    "    'Logistic Regression': (scores_logreg.mean(), scores_logreg.std()),\n",
    "    'SVM (linear)': (scores_svm.mean(), scores_svm.std()),\n",
    "    'Decision Tree': (scores_dt.mean(), scores_dt.std()),\n",
    "    'Random Forest': (scores_rf.mean(), scores_rf.std())\n",
    "}"
   ],
   "outputs": [],
   "execution_count": 39
  },
  {
   "cell_type": "code",
   "metadata": {
    "ExecuteTime": {
     "end_time": "2025-08-04T09:58:26.169582Z",
     "start_time": "2025-08-04T09:58:26.142791Z"
    }
   },
   "source": [
    "best_model_name = max(cv_results.keys(), key=lambda k: cv_results[k][0])\n",
    "print(f\"Лучшая модель по CV: {best_model_name}\")\n",
    "print(f\"CV accuracy: {cv_results[best_model_name][0]:.4f} +- {cv_results[best_model_name][1]:.4f}\")\n"
   ],
   "outputs": [
    {
     "name": "stdout",
     "output_type": "stream",
     "text": [
      "Лучшая модель по CV: Random Forest\n",
      "CV accuracy: 0.9117 +- 0.0174\n"
     ]
    }
   ],
   "execution_count": 40
  },
  {
   "cell_type": "code",
   "metadata": {
    "ExecuteTime": {
     "end_time": "2025-08-04T09:58:43.811636Z",
     "start_time": "2025-08-04T09:58:26.372700Z"
    }
   },
   "source": [
    "param_combinations = [\n",
    "    {'n_estimators': 50, 'max_depth': 10, 'min_samples_split': 5},\n",
    "    {'n_estimators': 100, 'max_depth': 15, 'min_samples_split': 2},\n",
    "    {'n_estimators': 100, 'max_depth': 20, 'min_samples_split': 5},\n",
    "    {'n_estimators': 150, 'max_depth': 15, 'min_samples_split': 2},\n",
    "    {'n_estimators': 200, 'max_depth': 10, 'min_samples_split': 5},\n",
    "]\n",
    "\n",
    "best_score = 0\n",
    "best_params = {}\n",
    "\n",
    "for params in param_combinations:\n",
    "    model = RandomForestClassifier(random_state=21, **params)\n",
    "    scores = cross_val_score(model, X_train, y_train, cv=5, scoring='accuracy')\n",
    "    mean_score = scores.mean()\n",
    "\n",
    "    print(f\"Params: {params}\")\n",
    "    print(f\"CV Score: {mean_score:.4f}\")\n",
    "\n",
    "    if mean_score > best_score:\n",
    "        best_score = mean_score\n",
    "        best_params = params\n",
    "\n",
    "print(f\"\\nЛучшие параметры: {best_params}\")\n",
    "print(f\"Лучший CV score: {best_score:.4f}\")"
   ],
   "outputs": [
    {
     "name": "stdout",
     "output_type": "stream",
     "text": [
      "Params: {'n_estimators': 50, 'max_depth': 10, 'min_samples_split': 5}\n",
      "CV Score: 0.7915\n",
      "Params: {'n_estimators': 100, 'max_depth': 15, 'min_samples_split': 2}\n",
      "CV Score: 0.8813\n",
      "Params: {'n_estimators': 100, 'max_depth': 20, 'min_samples_split': 5}\n",
      "CV Score: 0.8857\n",
      "Params: {'n_estimators': 150, 'max_depth': 15, 'min_samples_split': 2}\n",
      "CV Score: 0.8842\n",
      "Params: {'n_estimators': 200, 'max_depth': 10, 'min_samples_split': 5}\n",
      "CV Score: 0.7893\n",
      "\n",
      "Лучшие параметры: {'n_estimators': 100, 'max_depth': 20, 'min_samples_split': 5}\n",
      "Лучший CV score: 0.8857\n"
     ]
    }
   ],
   "execution_count": 41
  },
  {
   "cell_type": "code",
   "metadata": {
    "ExecuteTime": {
     "end_time": "2025-08-04T09:58:44.532376Z",
     "start_time": "2025-08-04T09:58:44.000451Z"
    }
   },
   "source": [
    "final_model = RandomForestClassifier(random_state=21, **best_params)\n",
    "final_model.fit(X_train, y_train)\n",
    "\n",
    "# Финальная оценка\n",
    "final_test_accuracy = final_model.score(X_test, y_test)\n",
    "print(f\"\\nФинальная точность на тесте: {final_test_accuracy:.4f}\")"
   ],
   "outputs": [
    {
     "name": "stdout",
     "output_type": "stream",
     "text": [
      "\n",
      "Финальная точность на тесте: 0.9172\n"
     ]
    }
   ],
   "execution_count": 42
  },
  {
   "cell_type": "code",
   "metadata": {
    "ExecuteTime": {
     "end_time": "2025-08-04T09:58:45.361342Z",
     "start_time": "2025-08-04T09:58:44.683705Z"
    }
   },
   "source": [
    "# Получение названий признаков\n",
    "feature_names = X.columns.tolist()\n",
    "\n",
    "# Создание DataFrame с важностями признаков\n",
    "importance_df = pd.DataFrame({\n",
    "    'feature': feature_names,\n",
    "    'importance': final_model.feature_importances_\n",
    "})\n",
    "\n",
    "# Выбор топ-10 наиболее важных признаков\n",
    "top_n = 10\n",
    "top_features = importance_df.nlargest(top_n, 'importance')\n",
    "\n",
    "# Построение графика важности признаков\n",
    "plt.figure(figsize=(10, 6))\n",
    "plt.barh(top_features['feature'], top_features['importance'])\n",
    "plt.xlabel('Importance')\n",
    "plt.ylabel('Feature')\n",
    "plt.title(\"Final Model - Top 10 Features\")\n",
    "plt.tight_layout()\n",
    "plt.show()\n"
   ],
   "outputs": [
    {
     "data": {
      "text/plain": [
       "<Figure size 1000x600 with 1 Axes>"
      ],
      "image/png": "[encoded data removed]"
     },
     "metadata": {},
     "output_type": "display_data"
    }
   ],
   "execution_count": 43
  },
  {
   "cell_type": "code",
   "metadata": {
    "ExecuteTime": {
     "end_time": "2025-08-04T09:58:46.116887Z",
     "start_time": "2025-08-04T09:58:45.660063Z"
    }
   },
   "source": [
    "try :\n",
    "    model_filename = 'dayofweek_final_model.pkl'\n",
    "    joblib.dump(final_model, model_filename)\n",
    "    print(f\"\\nМодель сохранена в файл: {model_filename}\")\n",
    "except FileNotFoundError as e:\n",
    "    print(f\"Cannot create file {model_filename}\")\n",
    "    raise e\n",
    "\n",
    "# Загрузка и проверка\n",
    "loaded_model = joblib.load(model_filename)\n",
    "loaded_predictions = loaded_model.predict(X_test)\n",
    "loaded_accuracy = accuracy_score(y_test, loaded_predictions)\n",
    "\n",
    "print(f\"\\nПроверка загруженной модели:\")\n",
    "print(f\"Точность составляет: {loaded_accuracy:.4f}\")\n"
   ],
   "outputs": [
    {
     "name": "stdout",
     "output_type": "stream",
     "text": [
      "\n",
      "Модель сохранена в файл: dayofweek_final_model.pkl\n",
      "\n",
      "Проверка загруженной модели:\n",
      "Точность составляет: 0.9172\n"
     ]
    }
   ],
   "execution_count": 44
  }
 ],
 "metadata": {
  "kernelspec": {
   "display_name": "Python 3.7 (venv)",
   "language": "python",
   "name": "python37_venv"
  },
  "language_info": {
   "codemirror_mode": {
    "name": "ipython",
    "version": 3
   },
   "file_extension": ".py",
   "mimetype": "text/x-python",
   "name": "python",
   "nbconvert_exporter": "python",
   "pygments_lexer": "ipython3",
   "version": "3.7.7"
  }
 },
 "nbformat": 4,
 "nbformat_minor": 4
}
