{
 "cells": [
  {
   "cell_type": "markdown",
   "metadata": {},
   "source": [
    "# Day 08. Exercise 04\n",
    "# Regression"
   ]
  },
  {
   "cell_type": "markdown",
   "metadata": {},
   "source": [
    "## 0. Imports"
   ]
  },
  {
   "metadata": {
    "ExecuteTime": {
     "end_time": "2025-08-04T10:02:10.759805Z",
     "start_time": "2025-08-04T10:02:06.621979Z"
    }
   },
   "cell_type": "code",
   "source": [
    "import pandas as pd\n",
    "import numpy as np\n",
    "import matplotlib.pyplot as plt\n",
    "from sklearn.model_selection import train_test_split, KFold, cross_val_predict, GridSearchCV\n",
    "from sklearn.linear_model import LinearRegression\n",
    "from sklearn.tree import DecisionTreeRegressor\n",
    "from sklearn.ensemble import RandomForestRegressor\n",
    "from sklearn.metrics import mean_squared_error\n",
    "from sklearn.preprocessing import OneHotEncoder, StandardScaler"
   ],
   "outputs": [],
   "execution_count": 1
  },
  {
   "cell_type": "markdown",
   "metadata": {},
   "source": [
    "## 1. Preprocessing"
   ]
  },
  {
   "cell_type": "markdown",
   "metadata": {},
   "source": "1. Read the file [`checker_regression.csv`](https://drive.google.com/file"
  },
  {
   "metadata": {},
   "cell_type": "markdown",
   "source": [
    "/d/1L8auBzJEghWFewznhhFpcrqxW4GqcfRY/view?usp=sharing).\n",
    "2. Fill the missing values in it with `0`.\n",
    "3. Make a split of your dataset on train and test with parameters `test_size=0.2`."
   ]
  },
  {
   "cell_type": "code",
   "metadata": {
    "ExecuteTime": {
     "end_time": "2025-08-04T10:02:11.143873Z",
     "start_time": "2025-08-04T10:02:11.088472Z"
    }
   },
   "source": [
    "try:\n",
    "    df = pd.read_csv('../data/checker_regression.csv')\n",
    "except FileNotFoundError as e:\n",
    "    print('File not found')\n",
    "    raise e\n",
    "\n",
    "print(\"Исходный фрейм:\")\n",
    "print(df.head())\n",
    "# print(f\"\\nИнформация о данных: {df.info()}\")"
   ],
   "outputs": [
    {
     "name": "stdout",
     "output_type": "stream",
     "text": [
      "Исходный фрейм:\n",
      "      uid  num_commits  pageviews  AVG(diff)\n",
      "0  user_1           62       28.0        NaN\n",
      "1  user_1           62       28.0        NaN\n",
      "2  user_1           62       28.0        NaN\n",
      "3  user_1           62       28.0        NaN\n",
      "4  user_1           62       28.0        NaN\n"
     ]
    }
   ],
   "execution_count": 2
  },
  {
   "cell_type": "code",
   "metadata": {
    "ExecuteTime": {
     "end_time": "2025-08-04T10:02:11.321719Z",
     "start_time": "2025-08-04T10:02:11.267752Z"
    }
   },
   "source": [
    "df = df.fillna(0)\n",
    "df.drop_duplicates(keep='first', inplace=True)\n",
    "print(f\"\\nПосле заполнения\")\n",
    "print(df.isnull().sum())\n",
    "\n",
    "print(df.info())\n"
   ],
   "outputs": [
    {
     "name": "stdout",
     "output_type": "stream",
     "text": [
      "\n",
      "После заполнения\n",
      "uid            0\n",
      "num_commits    0\n",
      "pageviews      0\n",
      "AVG(diff)      0\n",
      "dtype: int64\n",
      "<class 'pandas.core.frame.DataFrame'>\n",
      "Int64Index: 29 entries, 0 to 76\n",
      "Data columns (total 4 columns):\n",
      " #   Column       Non-Null Count  Dtype  \n",
      "---  ------       --------------  -----  \n",
      " 0   uid          29 non-null     object \n",
      " 1   num_commits  29 non-null     int64  \n",
      " 2   pageviews    29 non-null     float64\n",
      " 3   AVG(diff)    29 non-null     float64\n",
      "dtypes: float64(2), int64(1), object(1)\n",
      "memory usage: 1.1+ KB\n",
      "None\n"
     ]
    }
   ],
   "execution_count": 3
  },
  {
   "cell_type": "code",
   "metadata": {
    "ExecuteTime": {
     "end_time": "2025-08-04T10:02:11.459097Z",
     "start_time": "2025-08-04T10:02:11.419336Z"
    }
   },
   "source": [
    "X = df[['num_commits', 'pageviews']]\n",
    "y = df['AVG(diff)']\n",
    "print(df.info())"
   ],
   "outputs": [
    {
     "name": "stdout",
     "output_type": "stream",
     "text": [
      "<class 'pandas.core.frame.DataFrame'>\n",
      "Int64Index: 29 entries, 0 to 76\n",
      "Data columns (total 4 columns):\n",
      " #   Column       Non-Null Count  Dtype  \n",
      "---  ------       --------------  -----  \n",
      " 0   uid          29 non-null     object \n",
      " 1   num_commits  29 non-null     int64  \n",
      " 2   pageviews    29 non-null     float64\n",
      " 3   AVG(diff)    29 non-null     float64\n",
      "dtypes: float64(2), int64(1), object(1)\n",
      "memory usage: 1.1+ KB\n",
      "None\n"
     ]
    }
   ],
   "execution_count": 4
  },
  {
   "cell_type": "code",
   "metadata": {
    "ExecuteTime": {
     "end_time": "2025-08-04T10:02:11.585002Z",
     "start_time": "2025-08-04T10:02:11.549197Z"
    }
   },
   "source": [
    "train_df, test_df = train_test_split(df, test_size=0.2)\n",
    "\n",
    "print(f\"\\nTrain размер: {train_df.shape}\")\n",
    "print(f\"Test размер: {test_df.shape}\")\n"
   ],
   "outputs": [
    {
     "name": "stdout",
     "output_type": "stream",
     "text": [
      "\n",
      "Train размер: (23, 4)\n",
      "Test размер: (6, 4)\n"
     ]
    }
   ],
   "execution_count": 5
  },
  {
   "cell_type": "markdown",
   "metadata": {},
   "source": [
    "## 2. Crossvalidation"
   ]
  },
  {
   "cell_type": "markdown",
   "metadata": {},
   "source": [
    "1. Write a function `crossval` that takes as arguments: `n_splits` for `KFold()`, `X`, `y`, model instantiated class with the parameters of the model (keep in mind: `random_state=21`) and returns for a given model class a result like this:\n",
    "\n",
    "```\n",
    "train -  2696.4496895424836   |   test -  1589.9979527104958\n",
    "train -  2660.957874001452   |   test -  2075.102636027137\n",
    "train -  2847.315529246795   |   test -  320.911928168403\n",
    "train -  2500.7691099659237   |   test -  4132.461382030178\n",
    "train -  2643.927917295123   |   test -  2237.8140952197878\n",
    "train -  2396.295678819444   |   test -  4509.650064742476\n",
    "train -  2003.402267924976   |   test -  8403.491474908551\n",
    "train -  2531.876094212613   |   test -  3135.944102735099\n",
    "train -  2683.1795186023123   |   test -  1796.01426292594\n",
    "train -  2537.1192483996338   |   test -  3439.29824116941\n",
    "Average RMSE on crossval is 3164.0686140637476\n",
    "```\n",
    "\n",
    "2. Run the function for `LinearRegression`, `DecisionTreeRegressor`, `RandomForestRegressor`. You may choose the parameters by yourself, but find the good enough for you."
   ]
  },
  {
   "cell_type": "code",
   "metadata": {
    "ExecuteTime": {
     "end_time": "2025-08-04T10:02:11.789229Z",
     "start_time": "2025-08-04T10:02:11.753729Z"
    }
   },
   "source": [
    "def crossval(n_splits, X, y, model):\n",
    "    kf = KFold(n_splits=n_splits, shuffle=True, random_state=21)\n",
    "    test_rmse_scores = []\n",
    "\n",
    "    for train_index, test_index in kf.split(X):\n",
    "        X_train, X_test = X.iloc[train_index], X.iloc[test_index]\n",
    "        y_train, y_test = y.iloc[train_index], y.iloc[test_index]\n",
    "\n",
    "        model.fit(X_train, y_train)\n",
    "\n",
    "        y_train_pred = model.predict(X_train)\n",
    "        y_test_pred = model.predict(X_test)\n",
    "\n",
    "        train_rmse = np.sqrt(mean_squared_error(y_train, y_train_pred))\n",
    "        test_rmse = np.sqrt(mean_squared_error(y_test, y_test_pred))\n",
    "        test_rmse_scores.append(test_rmse)\n",
    "\n",
    "        print(f\"train - {train_rmse} | test - {test_rmse}\")\n",
    "\n",
    "    avg_rmse = np.mean(test_rmse_scores)\n",
    "    print(f\"Average RMSE on crossval is {avg_rmse}\")"
   ],
   "outputs": [],
   "execution_count": 6
  },
  {
   "cell_type": "code",
   "metadata": {
    "ExecuteTime": {
     "end_time": "2025-08-04T10:02:16.635258Z",
     "start_time": "2025-08-04T10:02:11.929673Z"
    }
   },
   "source": [
    "print(\"LINEAR REGRESSION\")\n",
    "print(f\"Количество признаков: {train_df.shape[1]}\")\n",
    "print(f\"Количество примеров: {train_df.shape[0]}\")\n",
    "lr = LinearRegression()\n",
    "lr_rmse = crossval(10, X, y, lr)\n",
    "print(\"_______________________________\\n\")\n",
    "\n",
    "print(\"DECISION TREE REGRESSOR\")\n",
    "dt = DecisionTreeRegressor(max_depth=5, random_state=21)\n",
    "dt_rmse = crossval(10, X, y, dt)\n",
    "print(\"_______________________________\\n\")\n",
    "\n",
    "print(\"RANDOM FOREST REGRESSOR\")\n",
    "rf = RandomForestRegressor(n_estimators=100, max_depth=10, random_state=21)\n",
    "rf_rmse = crossval(10, X, y, rf)\n",
    "print(\"_______________________________\")"
   ],
   "outputs": [
    {
     "name": "stdout",
     "output_type": "stream",
     "text": [
      "LINEAR REGRESSION\n",
      "Количество признаков: 4\n",
      "Количество примеров: 23\n",
      "train - 61.35327112662008 | test - 57.85614740884658\n",
      "train - 62.5462335194863 | test - 44.71218893425673\n",
      "train - 61.14556371253599 | test - 83.19897138394585\n",
      "train - 58.416728626194235 | test - 79.399015977114\n",
      "train - 60.11026827841826 | test - 68.756146189296\n",
      "train - 60.619323028395335 | test - 65.92296908962915\n",
      "train - 61.72075104991357 | test - 61.800360553015715\n",
      "train - 62.60680682836641 | test - 46.68994292992783\n",
      "train - 55.58034321272078 | test - 99.08124434288634\n",
      "train - 61.577932451061805 | test - 53.24118830442656\n",
      "Average RMSE on crossval is 66.06581751133447\n",
      "_______________________________\n",
      "\n",
      "DECISION TREE REGRESSOR\n",
      "train - 19.51853504928291 | test - 120.62116123233534\n",
      "train - 13.810879405644846 | test - 79.5333147061541\n",
      "train - 24.668873948365416 | test - 0.0\n",
      "train - 24.61110834249758 | test - 78.98656472722058\n",
      "train - 7.999221716949913 | test - 96.70180443756715\n",
      "train - 15.988261168504463 | test - 53.91636704579294\n",
      "train - 24.668873948365416 | test - 0.0\n",
      "train - 20.545808925984808 | test - 56.383024650598514\n",
      "train - 23.16474904441225 | test - 114.38661254547942\n",
      "train - 22.13969671838106 | test - 40.58792924010783\n",
      "Average RMSE on crossval is 64.1116778585256\n",
      "_______________________________\n",
      "\n",
      "RANDOM FOREST REGRESSOR\n",
      "train - 20.920695939881494 | test - 97.50335139862099\n",
      "train - 22.513709875327706 | test - 78.01690371916807\n",
      "train - 26.45753874793136 | test - 20.678674351271315\n",
      "train - 24.801579078915356 | test - 56.688591592495406\n",
      "train - 22.400454654459477 | test - 77.74492463343996\n",
      "train - 23.84950304426348 | test - 53.93331786876579\n",
      "train - 24.960042347292443 | test - 8.141221739804578\n",
      "train - 24.33125738694806 | test - 57.41679402832187\n",
      "train - 21.748562307626617 | test - 91.24344940546369\n",
      "train - 26.400345641306533 | test - 32.155805517822095\n",
      "Average RMSE on crossval is 57.35230342551737\n",
      "_______________________________\n"
     ]
    }
   ],
   "execution_count": 7
  },
  {
   "metadata": {},
   "cell_type": "markdown",
   "source": "## 3. Predictions and evaluation"
  },
  {
   "cell_type": "markdown",
   "metadata": {},
   "source": [
    "1. Make predictions for the test dataset using each of the three models with the finalized parameters.\n",
    "2. Draw a plot for each of the models where the `x-axis` is the actual average difference and the `y-axis` is the prediction made by a model.\n",
    "3. How would plot look like in the ideal case? Put the answer to the markdown cell in the end of the section."
   ]
  },
  {
   "metadata": {
    "ExecuteTime": {
     "end_time": "2025-08-04T10:02:16.756676Z",
     "start_time": "2025-08-04T10:02:16.738056Z"
    }
   },
   "cell_type": "code",
   "source": "X_train, X_test, y_train, y_test = train_test_split(X, y, test_size=0.2, random_state=21)",
   "outputs": [],
   "execution_count": 8
  },
  {
   "metadata": {
    "ExecuteTime": {
     "end_time": "2025-08-04T10:02:16.857524Z",
     "start_time": "2025-08-04T10:02:16.838396Z"
    }
   },
   "cell_type": "code",
   "source": [
    "def plotting(model):\n",
    "    kf = KFold(n_splits=5, shuffle=True, random_state=21)\n",
    "    y_pred = cross_val_predict(model, X, y, cv=kf)\n",
    "\n",
    "    plt.scatter(y, y_pred, alpha=0.5)\n",
    "    plt.xlabel('Actual Average Difference')\n",
    "    plt.ylabel('Predicted Average Difference')\n",
    "    plt.grid(True)\n",
    "    plt.show()"
   ],
   "outputs": [],
   "execution_count": 9
  },
  {
   "cell_type": "code",
   "metadata": {
    "ExecuteTime": {
     "end_time": "2025-08-04T10:02:16.951287Z",
     "start_time": "2025-08-04T10:02:16.933761Z"
    }
   },
   "source": [
    "def best_model(model, param_grid):\n",
    "    grid_search = GridSearchCV(model, param_grid, cv=5)\n",
    "    grid_search.fit(X, y)\n",
    "    return grid_search.best_estimator_"
   ],
   "outputs": [],
   "execution_count": 10
  },
  {
   "cell_type": "code",
   "metadata": {
    "ExecuteTime": {
     "end_time": "2025-08-04T10:02:17.470521Z",
     "start_time": "2025-08-04T10:02:17.018717Z"
    }
   },
   "source": [
    "lr = LinearRegression()\n",
    "plotting(lr)"
   ],
   "outputs": [
    {
     "data": {
      "text/plain": [
       "<Figure size 640x480 with 1 Axes>"
      ],
      "image/png": "[encoded data removed]"
     },
     "metadata": {},
     "output_type": "display_data"
    }
   ],
   "execution_count": 11
  },
  {
   "cell_type": "code",
   "metadata": {
    "ExecuteTime": {
     "end_time": "2025-08-04T10:02:19.255934Z",
     "start_time": "2025-08-04T10:02:17.580975Z"
    }
   },
   "source": [
    "param_grid = {\n",
    "    'max_depth': [i for i in range(1, 11)]\n",
    "}\n",
    "model = DecisionTreeRegressor(\n",
    "    random_state=21\n",
    ")\n",
    "tree_model = best_model(model, param_grid)\n",
    "\n",
    "plotting(tree_model)"
   ],
   "outputs": [
    {
     "data": {
      "text/plain": [
       "<Figure size 640x480 with 1 Axes>"
      ],
      "image/png": "[encoded data removed]"
     },
     "metadata": {},
     "output_type": "display_data"
    }
   ],
   "execution_count": 12
  },
  {
   "metadata": {},
   "cell_type": "markdown",
   "source": ""
  },
  {
   "metadata": {
    "ExecuteTime": {
     "end_time": "2025-08-04T10:03:08.749937Z",
     "start_time": "2025-08-04T10:02:19.398740Z"
    }
   },
   "cell_type": "code",
   "source": [
    "param_grid = {\n",
    "    'max_depth': [i for i in range(15, 40, 5)],\n",
    "    'n_estimators': [i for i in range(75, 151, 25)]\n",
    "}\n",
    "model = RandomForestRegressor(\n",
    "    random_state=21,\n",
    ")\n",
    "rf_model = best_model(model, param_grid)\n",
    "\n",
    "plotting(rf_model)"
   ],
   "outputs": [
    {
     "data": {
      "text/plain": [
       "<Figure size 640x480 with 1 Axes>"
      ],
      "image/png": "[encoded data removed]"
     },
     "metadata": {},
     "output_type": "display_data"
    }
   ],
   "execution_count": 13
  },
  {
   "metadata": {},
   "cell_type": "markdown",
   "source": "**Вопроc:** Как должен выглядеть идеальный график?? **Ответ:** Диагональ"
  }
 ],
 "metadata": {
  "kernelspec": {
   "display_name": "Python 3.7 (venv)",
   "language": "python",
   "name": "python37_venv"
  },
  "language_info": {
   "codemirror_mode": {
    "name": "ipython",
    "version": 3
   },
   "file_extension": ".py",
   "mimetype": "text/x-python",
   "name": "python",
   "nbconvert_exporter": "python",
   "pygments_lexer": "ipython3",
   "version": "3.7.7"
  }
 },
 "nbformat": 4,
 "nbformat_minor": 4
}
