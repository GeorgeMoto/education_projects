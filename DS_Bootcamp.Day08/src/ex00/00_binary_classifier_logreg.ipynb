{
 "cells": [
  {
   "cell_type": "markdown",
   "metadata": {},
   "source": [
    "# Day 08. Exercise 00\n",
    "# Binary classifier. Logistic regression"
   ]
  },
  {
   "cell_type": "markdown",
   "metadata": {},
   "source": [
    "## 0. Imports"
   ]
  },
  {
   "cell_type": "code",
   "metadata": {
    "ExecuteTime": {
     "end_time": "2025-08-04T09:51:11.938151Z",
     "start_time": "2025-08-04T09:51:02.486169Z"
    }
   },
   "source": [
    "import pandas as pd\n",
    "import matplotlib.pyplot as plt\n",
    "from sklearn.linear_model import LogisticRegression\n",
    "from sklearn.metrics import accuracy_score\n",
    "import sys\n",
    "print(sys.version)"
   ],
   "outputs": [
    {
     "name": "stdout",
     "output_type": "stream",
     "text": [
      "3.7.9 (tags/v3.7.9:13c94747c7, Aug 17 2020, 18:58:18) [MSC v.1900 64 bit (AMD64)]\n"
     ]
    }
   ],
   "execution_count": 1
  },
  {
   "cell_type": "markdown",
   "metadata": {},
   "source": [
    "## 1. Preprocessing"
   ]
  },
  {
   "cell_type": "markdown",
   "metadata": {},
   "source": [
    "- Get the data from the file [`checker-timestamp.csv`](https://drive.google.com/file/d/1pooM4cITtG249msX3GK_6W0eEiblzAf5/view?usp=sharing).\n",
    "\n",
    "\n",
    "- Create a dataframe `df` with the columns: `date`, `am`, `pm`, `target`, where `date` is the date of the day, `am` is the number of the commits during the day before midday (integer), `pm` is the number of commits during the day after midday (integer), `target` is weekend/working_day."
   ]
  },
  {
   "cell_type": "code",
   "metadata": {
    "ExecuteTime": {
     "end_time": "2025-08-04T09:51:12.173243Z",
     "start_time": "2025-08-04T09:51:12.113277Z"
    }
   },
   "source": [
    "try:\n",
    "    df_raw = pd.read_csv('../data/checker_timestamp.csv')\n",
    "except FileNotFoundError as e:\n",
    "    print(\"File not found\")\n",
    "    raise e"
   ],
   "outputs": [],
   "execution_count": 2
  },
  {
   "cell_type": "code",
   "metadata": {
    "ExecuteTime": {
     "end_time": "2025-08-04T09:51:12.223009Z",
     "start_time": "2025-08-04T09:51:12.203413Z"
    }
   },
   "source": "df_raw['timestamp'] = pd.to_datetime(df_raw['timestamp'])",
   "outputs": [],
   "execution_count": 3
  },
  {
   "cell_type": "code",
   "metadata": {
    "ExecuteTime": {
     "end_time": "2025-08-04T09:51:12.278275Z",
     "start_time": "2025-08-04T09:51:12.247552Z"
    }
   },
   "source": [
    "df_raw['date'] = df_raw['timestamp'].dt.date\n",
    "df_raw['hour'] = df_raw['timestamp'].dt.hour\n",
    "# print(df_raw)"
   ],
   "outputs": [],
   "execution_count": 4
  },
  {
   "cell_type": "code",
   "metadata": {
    "ExecuteTime": {
     "end_time": "2025-08-04T09:51:12.348070Z",
     "start_time": "2025-08-04T09:51:12.317307Z"
    }
   },
   "source": [
    "df_raw['is_am'] = df_raw['hour'] < 12\n",
    "# print(df_raw)"
   ],
   "outputs": [],
   "execution_count": 5
  },
  {
   "cell_type": "code",
   "metadata": {
    "ExecuteTime": {
     "end_time": "2025-08-04T09:51:12.418027Z",
     "start_time": "2025-08-04T09:51:12.398061Z"
    }
   },
   "source": [
    "# Группировка по дате и подсчет коммитов AM/PM\n",
    "grouped = df_raw.groupby(['date', 'is_am']).size().unstack(fill_value=0)\n",
    "grouped.columns = ['pm', 'am']  # False - PM, True - AM\n",
    "grouped = grouped[['am', 'pm']]  # Переставляем в нужном порядке\n",
    "# print(grouped)"
   ],
   "outputs": [],
   "execution_count": 6
  },
  {
   "cell_type": "code",
   "metadata": {
    "ExecuteTime": {
     "end_time": "2025-08-04T09:51:12.466014Z",
     "start_time": "2025-08-04T09:51:12.448398Z"
    }
   },
   "source": [
    "# Создание (выходной/рабочий день)\n",
    "grouped['weekday'] = pd.to_datetime(grouped.index).weekday\n",
    "grouped['target'] = grouped['weekday'].apply(lambda x: 'weekend' if x >= 5 else 'working_day')"
   ],
   "outputs": [],
   "execution_count": 7
  },
  {
   "cell_type": "code",
   "metadata": {
    "ExecuteTime": {
     "end_time": "2025-08-04T09:51:12.521383Z",
     "start_time": "2025-08-04T09:51:12.497787Z"
    }
   },
   "source": [
    "# Создание финального датафрейма\n",
    "df = pd.DataFrame({\n",
    "    'date': grouped.index,\n",
    "    'am': grouped['am'].values,\n",
    "    'pm': grouped['pm'].values,\n",
    "    'target': grouped['target'].values\n",
    "})\n",
    "print(df)"
   ],
   "outputs": [
    {
     "name": "stdout",
     "output_type": "stream",
     "text": [
      "          date  am   pm       target\n",
      "0   2020-04-17  21    2  working_day\n",
      "1   2020-04-18   1   68      weekend\n",
      "2   2020-04-19  18   15      weekend\n",
      "3   2020-04-20   2   23  working_day\n",
      "4   2020-04-21   0   25  working_day\n",
      "5   2020-04-22   0   28  working_day\n",
      "6   2020-04-23  10   33  working_day\n",
      "7   2020-04-24   2   14  working_day\n",
      "8   2020-04-25  30   74      weekend\n",
      "9   2020-04-26  28  233      weekend\n",
      "10  2020-04-27   4    2  working_day\n",
      "11  2020-04-28   4    1  working_day\n",
      "12  2020-04-29   0   17  working_day\n",
      "13  2020-04-30  13   40  working_day\n",
      "14  2020-05-01   8   52  working_day\n",
      "15  2020-05-02  91  151      weekend\n",
      "16  2020-05-03  47  133      weekend\n",
      "17  2020-05-04  11   26  working_day\n",
      "18  2020-05-05  81   58  working_day\n",
      "19  2020-05-06   2    0  working_day\n",
      "20  2020-05-07  14   38  working_day\n",
      "21  2020-05-08   3   84  working_day\n",
      "22  2020-05-09   0   86      weekend\n",
      "23  2020-05-10  10  133      weekend\n",
      "24  2020-05-11   3  183  working_day\n",
      "25  2020-05-12  56  267  working_day\n",
      "26  2020-05-13   6  205  working_day\n",
      "27  2020-05-14  66  509  working_day\n",
      "28  2020-05-15  10    0  working_day\n",
      "29  2020-05-16   0    4      weekend\n",
      "30  2020-05-17   2   46      weekend\n",
      "31  2020-05-18   0    3  working_day\n",
      "32  2020-05-19  20   14  working_day\n",
      "33  2020-05-20   7   21  working_day\n",
      "34  2020-05-21   1   48  working_day\n"
     ]
    }
   ],
   "execution_count": 8
  },
  {
   "cell_type": "code",
   "metadata": {
    "ExecuteTime": {
     "end_time": "2025-08-04T09:51:12.577388Z",
     "start_time": "2025-08-04T09:51:12.558107Z"
    }
   },
   "source": [
    "print(\"Первые 5 строк датафрейма и иформация по нему:\")\n",
    "print(df.head(5))\n",
    "print(df.info())"
   ],
   "outputs": [
    {
     "name": "stdout",
     "output_type": "stream",
     "text": [
      "Первые 5 строк датафрейма и иформация по нему:\n",
      "         date  am  pm       target\n",
      "0  2020-04-17  21   2  working_day\n",
      "1  2020-04-18   1  68      weekend\n",
      "2  2020-04-19  18  15      weekend\n",
      "3  2020-04-20   2  23  working_day\n",
      "4  2020-04-21   0  25  working_day\n",
      "<class 'pandas.core.frame.DataFrame'>\n",
      "RangeIndex: 35 entries, 0 to 34\n",
      "Data columns (total 4 columns):\n",
      " #   Column  Non-Null Count  Dtype \n",
      "---  ------  --------------  ----- \n",
      " 0   date    35 non-null     object\n",
      " 1   am      35 non-null     int64 \n",
      " 2   pm      35 non-null     int64 \n",
      " 3   target  35 non-null     object\n",
      "dtypes: int64(2), object(2)\n",
      "memory usage: 1.2+ KB\n",
      "None\n"
     ]
    }
   ],
   "execution_count": 9
  },
  {
   "cell_type": "markdown",
   "metadata": {},
   "source": [
    "## 2. Exploratory analysis"
   ]
  },
  {
   "cell_type": "markdown",
   "metadata": {},
   "source": [
    "- Create a plot where `x` is am, `y` is pm, each dot is a day, working days and weekends must have different colors.\n",
    "\n",
    "\n",
    "- By looking at the graph do you think it will be easy to classify the days having those two features? Put your answer in the markdown cell in the end of that sectioin: \"yes, it is easy\" or \"no, it is not easy\"."
   ]
  },
  {
   "cell_type": "code",
   "metadata": {
    "ExecuteTime": {
     "end_time": "2025-08-05T06:09:59.391601Z",
     "start_time": "2025-08-05T06:09:59.055684Z"
    }
   },
   "source": [
    "plt.figure(figsize=(10, 8))\n",
    "\n",
    "# Разделение данных по типу дня\n",
    "working_days = df[df['target'] == 'working_day']\n",
    "weekends = df[df['target'] == 'weekend']\n",
    "\n",
    "# Построение точек\n",
    "plt.scatter(working_days['am'], working_days['pm'],\n",
    "           color='blue', label='Working days', alpha=0.6, s=50)\n",
    "plt.scatter(weekends['am'], weekends['pm'],\n",
    "           color='red', label='Weekends', alpha=0.6, s=50)\n",
    "\n",
    "plt.xlabel('AM (commits before midday)', fontsize=12)\n",
    "plt.ylabel('PM (commits after midday)', fontsize=12)\n",
    "plt.title('Distribution of commits: AM vs PM', fontsize=14)\n",
    "plt.legend()\n",
    "plt.grid(True, alpha=0.3)\n",
    "plt.show()"
   ],
   "outputs": [
    {
     "data": {
      "text/plain": [
       "<Figure size 1000x800 with 1 Axes>"
      ],
      "image/png": "[encoded data removed]"
     },
     "metadata": {},
     "output_type": "display_data"
    }
   ],
   "execution_count": 19
  },
  {
   "cell_type": "markdown",
   "metadata": {},
   "source": "**Ответ:** Нет, это сложно"
  },
  {
   "cell_type": "markdown",
   "metadata": {},
   "source": [
    "## 3. Logistic regression"
   ]
  },
  {
   "cell_type": "markdown",
   "metadata": {},
   "source": [
    "- Train logistic regression on your data using `am` and `pm`, parameters are: `random state=21`, `fit_intercept=False`.\n",
    "\n",
    "\n",
    "- Make predictions for every day of your dataset and add them to your dataframe with the column name `predict`.\n",
    "\n",
    "\n",
    "- Save the dataframe into a file in the subfolder of the day `data` with the name `am_pm.csv`.\n",
    "\n",
    "\n",
    "- Draw another plot like you did before, but the color should be taken from the `predict`.\n",
    "\n",
    "\n",
    "- By looking at the graph do you think if it made good predictions? Put your answer in the markdown cell in the end of that section: \"yes, it is good\"; \"no, it is not good\"."
   ]
  },
  {
   "cell_type": "code",
   "metadata": {
    "ExecuteTime": {
     "end_time": "2025-08-04T09:51:13.017144Z",
     "start_time": "2025-08-04T09:51:13.007627Z"
    }
   },
   "source": [
    "x = df[['am', 'pm']].values\n",
    "y = df['target'].values\n",
    "# print(x, y)"
   ],
   "outputs": [],
   "execution_count": 11
  },
  {
   "cell_type": "code",
   "metadata": {
    "ExecuteTime": {
     "end_time": "2025-08-04T09:51:13.108408Z",
     "start_time": "2025-08-04T09:51:13.078198Z"
    }
   },
   "source": [
    "y_binary = (y == 'weekend').astype(int)\n",
    "# print(y_binary)"
   ],
   "outputs": [],
   "execution_count": 12
  },
  {
   "cell_type": "code",
   "metadata": {
    "ExecuteTime": {
     "end_time": "2025-08-04T09:51:13.166892Z",
     "start_time": "2025-08-04T09:51:13.148131Z"
    }
   },
   "source": [
    "model = LogisticRegression(random_state=21, fit_intercept=False)\n",
    "model.fit(x, y_binary)"
   ],
   "outputs": [
    {
     "data": {
      "text/plain": [
       "LogisticRegression(fit_intercept=False, random_state=21)"
      ]
     },
     "execution_count": 13,
     "metadata": {},
     "output_type": "execute_result"
    }
   ],
   "execution_count": 13
  },
  {
   "cell_type": "code",
   "metadata": {
    "ExecuteTime": {
     "end_time": "2025-08-04T09:51:13.228114Z",
     "start_time": "2025-08-04T09:51:13.208239Z"
    }
   },
   "source": [
    "predictions_binary = model.predict(x)\n",
    "predictions = ['weekend' if pred == 1 else 'working_day' for pred in predictions_binary]\n"
   ],
   "outputs": [],
   "execution_count": 14
  },
  {
   "cell_type": "code",
   "metadata": {
    "ExecuteTime": {
     "end_time": "2025-08-04T09:51:13.308204Z",
     "start_time": "2025-08-04T09:51:13.293394Z"
    }
   },
   "source": "df['predict'] = predictions",
   "outputs": [],
   "execution_count": 15
  },
  {
   "cell_type": "code",
   "metadata": {
    "ExecuteTime": {
     "end_time": "2025-08-04T09:51:13.402952Z",
     "start_time": "2025-08-04T09:51:13.373348Z"
    }
   },
   "source": [
    "try:\n",
    "    df.to_csv('../data/am_pm.csv', index=False)\n",
    "    print(\"\\nДатафрейм сохранен в 'data/am_pm.csv'\")\n",
    "except FileExistsError as e:\n",
    "    print(\"Cannot write to file 'data/am_pm.csv'\")\n",
    "    raise e"
   ],
   "outputs": [
    {
     "name": "stdout",
     "output_type": "stream",
     "text": [
      "\n",
      "Датафрейм сохранен в 'data/am_pm.csv'\n"
     ]
    }
   ],
   "execution_count": 16
  },
  {
   "cell_type": "code",
   "metadata": {
    "ExecuteTime": {
     "end_time": "2025-08-04T09:51:13.909271Z",
     "start_time": "2025-08-04T09:51:13.498256Z"
    }
   },
   "source": [
    "predicted_working = df[df['predict'] == 'working_day']\n",
    "predicted_weekend = df[df['predict'] == 'weekend']\n",
    "\n",
    "# Построение точек\n",
    "plt.scatter(predicted_working['am'], predicted_working['pm'],\n",
    "           color='blue', label='Predicted working days', alpha=0.6, s=50)\n",
    "plt.scatter(predicted_weekend['am'], predicted_weekend['pm'],\n",
    "           color='red', label='Predicted weekends', alpha=0.6, s=50)\n",
    "\n",
    "plt.xlabel('AM (commits before midday)', fontsize=12)\n",
    "plt.ylabel('PM (commits after midday)', fontsize=12)\n",
    "plt.title('Predictions: AM vs PM', fontsize=14)\n",
    "plt.legend()\n",
    "plt.grid(True, alpha=0.3)\n",
    "plt.show()\n",
    "\n",
    "# print(f\"\\nКоэффициенты модели: {model.coef_}\")"
   ],
   "outputs": [
    {
     "data": {
      "text/plain": [
       "<Figure size 640x480 with 1 Axes>"
      ],
      "image/png": "[encoded data removed]"
     },
     "metadata": {},
     "output_type": "display_data"
    }
   ],
   "execution_count": 17
  },
  {
   "cell_type": "markdown",
   "metadata": {},
   "source": "**Ответ:** Нет, это плохой подход"
  },
  {
   "cell_type": "markdown",
   "metadata": {},
   "source": [
    "## 4. Evaluation"
   ]
  },
  {
   "cell_type": "markdown",
   "metadata": {},
   "source": [
    "- Calculate `accuracy` for your predictions.\n",
    "\n",
    "\n",
    "- Calculate `accuracy` for the naive case when each of your prediction is the value of your most popular class of the day.\n",
    "\n",
    "\n",
    "- Comparing the accuracies do you think that the classifier made good predictions? Put your answer in the markdown cell in the end of the secion: \"yes, it is good\"; \"no, it is not good\"."
   ]
  },
  {
   "cell_type": "code",
   "metadata": {
    "ExecuteTime": {
     "end_time": "2025-08-04T09:51:14.008234Z",
     "start_time": "2025-08-04T09:51:13.978390Z"
    }
   },
   "source": [
    "accuracy_model = accuracy_score(df['target'], df['predict'])\n",
    "print(f\"Accuracy модели: {accuracy_model}\")\n",
    "\n",
    "# Расчет accuracy для наивного случая (всегда предсказываем самый популярный класс)\n",
    "most_popular_class = df['target'].value_counts().index[0]\n",
    "naive_predictions = [most_popular_class] * len(df)\n",
    "accuracy_naive = accuracy_score(df['target'], naive_predictions)\n",
    "print(f\"Accuracy наивного классификатора: {accuracy_naive}\")\n",
    "\n",
    "\n",
    "print(f\"\\nУлучшение по сравнению с наивным подходом: {accuracy_model - accuracy_naive:.4f}\")\n",
    "print(f\"Относительное улучшение: {((accuracy_model - accuracy_naive) / accuracy_naive * 100):.2f}%\")"
   ],
   "outputs": [
    {
     "name": "stdout",
     "output_type": "stream",
     "text": [
      "Accuracy модели: 0.6285714285714286\n",
      "Accuracy наивного классификатора: 0.7142857142857143\n",
      "\n",
      "Улучшение по сравнению с наивным подходом: -0.0857\n",
      "Относительное улучшение: -12.00%\n"
     ]
    }
   ],
   "execution_count": 18
  },
  {
   "metadata": {},
   "cell_type": "markdown",
   "source": "**Ответ:** Нет, это плохой подход"
  }
 ],
 "metadata": {
  "kernelspec": {
   "display_name": "Python 3.7 (venv)",
   "language": "python",
   "name": "python37_venv"
  },
  "language_info": {
   "codemirror_mode": {
    "name": "ipython",
    "version": 3
   },
   "file_extension": ".py",
   "mimetype": "text/x-python",
   "name": "python",
   "nbconvert_exporter": "python",
   "pygments_lexer": "ipython3",
   "version": "3.7.7"
  }
 },
 "nbformat": 4,
 "nbformat_minor": 4
}
