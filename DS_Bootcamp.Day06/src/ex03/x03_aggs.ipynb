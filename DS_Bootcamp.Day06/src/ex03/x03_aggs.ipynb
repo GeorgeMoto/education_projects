{
 "cells": [
  {
   "cell_type": "code",
   "id": "initial_id",
   "metadata": {
    "collapsed": true,
    "ExecuteTime": {
     "end_time": "2025-07-23T07:48:54.023841Z",
     "start_time": "2025-07-23T07:48:53.161227Z"
    }
   },
   "source": [
    "import pandas as pd\n",
    "import sqlite3"
   ],
   "outputs": [],
   "execution_count": 1
  },
  {
   "metadata": {
    "ExecuteTime": {
     "end_time": "2025-07-23T07:48:54.590416Z",
     "start_time": "2025-07-23T07:48:54.577643Z"
    }
   },
   "cell_type": "code",
   "source": [
    "try:\n",
    "    connection = sqlite3.connect(\"../data/checking-logs.sqlite\")\n",
    "    print(\"Successfully connected to database\")\n",
    "except FileNotFoundError as e:\n",
    "    print(\"File not found\")\n",
    "    raise e"
   ],
   "id": "b8b552c85326d2dd",
   "outputs": [
    {
     "name": "stdout",
     "output_type": "stream",
     "text": [
      "Successfully connected to database\n"
     ]
    }
   ],
   "execution_count": 2
  },
  {
   "metadata": {
    "ExecuteTime": {
     "end_time": "2025-07-23T07:48:54.748896Z",
     "start_time": "2025-07-23T07:48:54.716630Z"
    }
   },
   "cell_type": "code",
   "source": [
    "qwery = \"\"\"\n",
    "    SELECT\n",
    "        uid,\n",
    "        MIN((d.deadlines - STRFTIME('%s', ts.first_commit_ts)) / 3600.0) as min_delta_hours\n",
    "    FROM test ts\n",
    "    JOIN deadlines d ON ts.labname = d.labs\n",
    "    WHERE ts.labname != 'project1'\n",
    "    GROUP BY uid\n",
    "    ORDER BY min_delta_hours ASC\n",
    "    LIMIT 1\n",
    "        \"\"\"\n",
    "df_min = pd.read_sql(qwery, connection)\n",
    "\n",
    "print(\"Minimal deltahours\")\n",
    "print(df_min)"
   ],
   "id": "beb9d47beef02600",
   "outputs": [
    {
     "name": "stdout",
     "output_type": "stream",
     "text": [
      "Minimal deltahours\n",
      "       uid  min_delta_hours\n",
      "0  user_25           2.8675\n"
     ]
    }
   ],
   "execution_count": 3
  },
  {
   "metadata": {
    "ExecuteTime": {
     "end_time": "2025-07-23T07:48:54.839142Z",
     "start_time": "2025-07-23T07:48:54.816891Z"
    }
   },
   "cell_type": "code",
   "source": [
    "qwery = \"\"\"\n",
    "    SELECT\n",
    "        uid,\n",
    "        MAX((d.deadlines - STRFTIME('%s', ts.first_commit_ts)) / 3600.0) as max_delta_hours\n",
    "    FROM test ts\n",
    "    JOIN deadlines d ON ts.labname = d.labs\n",
    "    WHERE ts.labname != 'project1'\n",
    "    GROUP BY uid\n",
    "    ORDER BY max_delta_hours ASC\n",
    "    LIMIT 1\n",
    "        \"\"\"\n",
    "df_max = pd.read_sql(qwery, connection)\n",
    "\n",
    "print(\"Maximum delta hours\")\n",
    "print(df_max)"
   ],
   "id": "41d1196f4dd8b89b",
   "outputs": [
    {
     "name": "stdout",
     "output_type": "stream",
     "text": [
      "Maximum delta hours\n",
      "       uid  max_delta_hours\n",
      "0  user_18        10.973611\n"
     ]
    }
   ],
   "execution_count": 4
  },
  {
   "metadata": {
    "ExecuteTime": {
     "end_time": "2025-07-23T07:48:54.943951Z",
     "start_time": "2025-07-23T07:48:54.908723Z"
    }
   },
   "cell_type": "code",
   "source": [
    "query_avg = \"\"\"\n",
    "SELECT AVG((julianday(deadline_dt) - julianday(first_commit_ts)) * 24) as avg_delta_hours\n",
    "FROM (\n",
    "    SELECT\n",
    "        t.uid,\n",
    "        t.labname,\n",
    "        t.first_commit_ts,\n",
    "        datetime(d.deadlines, 'unixepoch') as deadline_dt\n",
    "    FROM test t\n",
    "    JOIN deadlines d ON t.labname = d.labs\n",
    "    WHERE t.labname != 'project1'\n",
    ")\n",
    "\"\"\"\n",
    "\n",
    "df_avg = pd.read_sql_query(query_avg, connection)\n",
    "print(f\"\\nAverage delta (df_avg):\")\n",
    "print(df_avg)"
   ],
   "id": "4ab2efb14c262ab5",
   "outputs": [
    {
     "name": "stdout",
     "output_type": "stream",
     "text": [
      "\n",
      "Average delta (df_avg):\n",
      "   avg_delta_hours\n",
      "0        89.687686\n"
     ]
    }
   ],
   "execution_count": 5
  },
  {
   "metadata": {
    "ExecuteTime": {
     "end_time": "2025-07-23T07:48:55.063873Z",
     "start_time": "2025-07-23T07:48:55.034048Z"
    }
   },
   "cell_type": "code",
   "source": [
    "query_correlation = \"\"\"\n",
    "SELECT\n",
    "    t.uid,\n",
    "    AVG((julianday(deadline_dt) - julianday(first_commit_ts)) * 24) as avg_diff,\n",
    "    COUNT(CASE WHEN t.first_view_ts IS NOT NULL THEN 1 END) as pageviews\n",
    "FROM (\n",
    "    SELECT\n",
    "        t.uid,\n",
    "        t.labname,\n",
    "        t.first_commit_ts,\n",
    "        t.first_view_ts,\n",
    "        datetime(d.deadlines, 'unixepoch') as deadline_dt\n",
    "    FROM test t\n",
    "    JOIN deadlines d ON t.labname = d.labs\n",
    "    WHERE t.labname != 'project1'\n",
    ") t\n",
    "GROUP BY t.uid\n",
    "\"\"\"\n",
    "\n",
    "views_diff = pd.read_sql_query(query_correlation, connection)\n",
    "print(f\"\\nviews_diff data:\")\n",
    "print(views_diff.head())\n",
    "print(f\"Shape: {views_diff.shape}\")"
   ],
   "id": "3bca4f6f87ccc7f9",
   "outputs": [
    {
     "name": "stdout",
     "output_type": "stream",
     "text": [
      "\n",
      "views_diff data:\n",
      "       uid    avg_diff  pageviews\n",
      "0   user_1   65.119644          5\n",
      "1  user_10   75.242310          5\n",
      "2  user_14  159.568696          3\n",
      "3  user_17   62.207514          5\n",
      "4  user_18    6.367907          3\n",
      "Shape: (11, 3)\n"
     ]
    }
   ],
   "execution_count": 6
  },
  {
   "metadata": {
    "ExecuteTime": {
     "end_time": "2025-07-23T07:48:55.172951Z",
     "start_time": "2025-07-23T07:48:55.141684Z"
    }
   },
   "cell_type": "code",
   "source": [
    "correlation = views_diff[['pageviews', 'avg_diff']].corr()\n",
    "correlation_coefficient = correlation.loc['pageviews', 'avg_diff']\n",
    "\n",
    "print(f\"\\nCorrelation coefficient between pageviews and avg_diff: {correlation_coefficient:.4f}\")\n",
    "print(f\"\\nFull correlation matrix:\")\n",
    "print(correlation)\n",
    "\n",
    "# Interpretation of the correlation\n",
    "if correlation_coefficient < 0:\n",
    "    print(f\"\\nThere is a negative correlation ({correlation_coefficient:.4f})\")\n",
    "elif correlation_coefficient > 0:\n",
    "    print(f\"\\nThere is a positive correlation ({correlation_coefficient:.4f})\")\n",
    "else:\n",
    "    print(f\"\\nThere is no correlation ({correlation_coefficient:.4f})\")\n",
    "    print(\"This suggests no relationship between pageviews and time differences.\")"
   ],
   "id": "363747e6bf4a7285",
   "outputs": [
    {
     "name": "stdout",
     "output_type": "stream",
     "text": [
      "\n",
      "Correlation coefficient between pageviews and avg_diff: -0.1184\n",
      "\n",
      "Full correlation matrix:\n",
      "           pageviews  avg_diff\n",
      "pageviews   1.000000 -0.118374\n",
      "avg_diff   -0.118374  1.000000\n",
      "\n",
      "There is a negative correlation (-0.1184)\n"
     ]
    }
   ],
   "execution_count": 7
  },
  {
   "metadata": {
    "ExecuteTime": {
     "end_time": "2025-07-23T07:48:55.264249Z",
     "start_time": "2025-07-23T07:48:55.243992Z"
    }
   },
   "cell_type": "code",
   "source": [
    "connection.close()\n",
    "print(f\"Database connection closed successfully\\n\")"
   ],
   "id": "4ffa2ac3299e2480",
   "outputs": [
    {
     "name": "stdout",
     "output_type": "stream",
     "text": [
      "Database connection closed successfully\n",
      "\n"
     ]
    }
   ],
   "execution_count": 8
  }
 ],
 "metadata": {
  "kernelspec": {
   "display_name": "Python 3",
   "language": "python",
   "name": "python3"
  },
  "language_info": {
   "codemirror_mode": {
    "name": "ipython",
    "version": 2
   },
   "file_extension": ".py",
   "mimetype": "text/x-python",
   "name": "python",
   "nbconvert_exporter": "python",
   "pygments_lexer": "ipython2",
   "version": "2.7.6"
  }
 },
 "nbformat": 4,
 "nbformat_minor": 5
}
