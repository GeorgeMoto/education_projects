{
 "cells": [
  {
   "cell_type": "code",
   "id": "initial_id",
   "metadata": {
    "collapsed": true,
    "ExecuteTime": {
     "end_time": "2025-07-23T07:35:43.383954Z",
     "start_time": "2025-07-23T07:35:42.795551Z"
    }
   },
   "source": [
    "import pandas as pd\n",
    "import sqlite3"
   ],
   "outputs": [],
   "execution_count": 1
  },
  {
   "metadata": {
    "ExecuteTime": {
     "end_time": "2025-07-23T07:35:43.832906Z",
     "start_time": "2025-07-23T07:35:43.807132Z"
    }
   },
   "cell_type": "code",
   "source": [
    "try:\n",
    "    connection = sqlite3.connect(\"../data/checking-logs.sqlite\")\n",
    "    df = pd.io.sql.read_sql(\"PRAGMA table_info(checker);\", connection)\n",
    "except FileNotFoundError as e:\n",
    "    print(\"File not found\")\n",
    "    raise e\n",
    "\n",
    "print(\"Scheme table checker\")\n",
    "print(df)"
   ],
   "id": "8401f045688efa51",
   "outputs": [
    {
     "name": "stdout",
     "output_type": "stream",
     "text": [
      "Scheme table checker\n",
      "   cid       name       type  notnull dflt_value  pk\n",
      "0    0      index    INTEGER        0       None   0\n",
      "1    1     status       TEXT        0       None   0\n",
      "2    2    success    INTEGER        0       None   0\n",
      "3    3  timestamp  TIMESTAMP        0       None   0\n",
      "4    4  numTrials    INTEGER        0       None   0\n",
      "5    5    labname       TEXT        0       None   0\n",
      "6    6        uid       TEXT        0       None   0\n"
     ]
    }
   ],
   "execution_count": 2
  },
  {
   "metadata": {
    "ExecuteTime": {
     "end_time": "2025-07-23T07:35:43.964902Z",
     "start_time": "2025-07-23T07:35:43.943766Z"
    }
   },
   "cell_type": "code",
   "source": [
    "users = pd.read_sql(\"select * from checker LIMIT 10\", connection)\n",
    "print(\"10 lines from checker\")\n",
    "# print(users)"
   ],
   "id": "81880d60087dbe9a",
   "outputs": [
    {
     "name": "stdout",
     "output_type": "stream",
     "text": [
      "10 lines from checker\n"
     ]
    }
   ],
   "execution_count": 3
  },
  {
   "metadata": {
    "ExecuteTime": {
     "end_time": "2025-07-23T07:35:44.100248Z",
     "start_time": "2025-07-23T07:35:44.075790Z"
    }
   },
   "cell_type": "code",
   "source": [
    "qwery = \"\"\"\n",
    "    SELECT COUNT(*) as cnt\n",
    "    FROM pageviews\n",
    "    WHERE uid IN (\n",
    "        SELECT uid FROM checker\n",
    "        WHERE status = 'ready'\n",
    "        AND numTrials = 1\n",
    "        AND labname IN ('laba04', 'laba04s', 'laba05', 'laba06', 'laba06s', 'project1')\n",
    "        )\n",
    "        \"\"\"\n",
    "count = pd.read_sql(qwery, connection)\n",
    "\n",
    "print(\"Number of rows that satisfy request\")\n",
    "print(count)"
   ],
   "id": "a3f51a89f8ee8374",
   "outputs": [
    {
     "name": "stdout",
     "output_type": "stream",
     "text": [
      "Number of rows that satisfy request\n",
      "   cnt\n",
      "0  985\n"
     ]
    }
   ],
   "execution_count": 4
  },
  {
   "metadata": {
    "ExecuteTime": {
     "end_time": "2025-07-23T07:35:44.188729Z",
     "start_time": "2025-07-23T07:35:44.168109Z"
    }
   },
   "cell_type": "code",
   "source": [
    "print(\"Close database connection\")\n",
    "connection.close()"
   ],
   "id": "73fbf5a71b6468e3",
   "outputs": [
    {
     "name": "stdout",
     "output_type": "stream",
     "text": [
      "Close database connection\n"
     ]
    }
   ],
   "execution_count": 5
  }
 ],
 "metadata": {
  "kernelspec": {
   "display_name": "Python 3",
   "language": "python",
   "name": "python3"
  },
  "language_info": {
   "codemirror_mode": {
    "name": "ipython",
    "version": 2
   },
   "file_extension": ".py",
   "mimetype": "text/x-python",
   "name": "python",
   "nbconvert_exporter": "python",
   "pygments_lexer": "ipython2",
   "version": "2.7.6"
  }
 },
 "nbformat": 4,
 "nbformat_minor": 5
}
