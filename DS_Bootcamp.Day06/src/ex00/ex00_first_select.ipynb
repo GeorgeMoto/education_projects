{
 "cells": [
  {
   "cell_type": "code",
   "id": "36419ad0ad9a6551",
   "metadata": {
    "ExecuteTime": {
     "end_time": "2025-07-23T07:35:17.105612Z",
     "start_time": "2025-07-23T07:35:16.148498Z"
    }
   },
   "source": [
    "import pandas as pd\n",
    "import sqlite3"
   ],
   "outputs": [],
   "execution_count": 1
  },
  {
   "metadata": {
    "ExecuteTime": {
     "end_time": "2025-07-23T07:35:17.660461Z",
     "start_time": "2025-07-23T07:35:17.618745Z"
    }
   },
   "cell_type": "code",
   "source": [
    "try:\n",
    "    connection = sqlite3.connect(\"../data/checking-logs.sqlite\")\n",
    "    df = pd.io.sql.read_sql(\"PRAGMA table_info(pageviews);\", connection)\n",
    "except FileNotFoundError as e:\n",
    "    print(\"File not found\")\n",
    "    raise e\n",
    "\n",
    "print(\"Scheme table pageviews\")\n",
    "print(df)\n"
   ],
   "id": "initial_id",
   "outputs": [
    {
     "name": "stdout",
     "output_type": "stream",
     "text": [
      "Scheme table pageviews\n",
      "   cid      name       type  notnull dflt_value  pk\n",
      "0    0     index    INTEGER        0       None   0\n",
      "1    1       uid       TEXT        0       None   0\n",
      "2    2  datetime  TIMESTAMP        0       None   0\n"
     ]
    }
   ],
   "execution_count": 2
  },
  {
   "metadata": {
    "ExecuteTime": {
     "end_time": "2025-07-23T07:35:17.752192Z",
     "start_time": "2025-07-23T07:35:17.733804Z"
    }
   },
   "cell_type": "code",
   "source": [
    "users = pd.read_sql(\"select * from pageviews LIMIT 10\", connection)\n",
    "print(\"10 lines from pageviews\")\n",
    "print(users)"
   ],
   "id": "fd929a426fda9b4",
   "outputs": [
    {
     "name": "stdout",
     "output_type": "stream",
     "text": [
      "10 lines from pageviews\n",
      "   index      uid                    datetime\n",
      "0      0  admin_1  2020-04-17 12:01:08.463179\n",
      "1      1  admin_1  2020-04-17 12:01:23.743946\n",
      "2      2  admin_3  2020-04-17 12:17:39.287778\n",
      "3      3  admin_3  2020-04-17 12:17:40.001768\n",
      "4      4  admin_1  2020-04-17 12:27:30.646665\n",
      "5      5  admin_1  2020-04-17 12:35:44.884757\n",
      "6      6  admin_1  2020-04-17 12:35:52.735016\n",
      "7      7  admin_3  2020-04-17 12:36:21.401412\n",
      "8      8  admin_3  2020-04-17 12:36:22.023355\n",
      "9      9  admin_1  2020-04-17 13:55:19.129243\n"
     ]
    }
   ],
   "execution_count": 3
  },
  {
   "metadata": {
    "ExecuteTime": {
     "end_time": "2025-07-23T07:35:17.863953Z",
     "start_time": "2025-07-23T07:35:17.798638Z"
    }
   },
   "cell_type": "code",
   "source": [
    "print(\"Filter tabel pageviews\")\n",
    "pageviews = pd.read_sql(\"select uid, datetime from pageviews WHERE uid LIKE 'user_%' ORDER BY uid ASC\", connection, parse_dates=[\"datetime\"]).set_index('datetime')\n",
    "print(pageviews)\n",
    "print(pageviews.info())"
   ],
   "id": "cc39377dcd283f21",
   "outputs": [
    {
     "name": "stdout",
     "output_type": "stream",
     "text": [
      "Filter tabel pageviews\n",
      "                                uid\n",
      "datetime                           \n",
      "2020-04-26 21:53:59.624136   user_1\n",
      "2020-04-26 22:06:19.478143   user_1\n",
      "2020-04-26 22:12:09.614497   user_1\n",
      "2020-04-30 19:29:01.831635   user_1\n",
      "2020-05-05 20:26:32.894852   user_1\n",
      "...                             ...\n",
      "2020-04-29 16:51:21.877630  user_30\n",
      "2020-05-09 20:30:47.034282  user_30\n",
      "2020-05-22 11:30:18.368990   user_5\n",
      "2020-05-21 16:28:28.217529   user_9\n",
      "2020-05-21 16:36:40.915488   user_9\n",
      "\n",
      "[987 rows x 1 columns]\n",
      "<class 'pandas.core.frame.DataFrame'>\n",
      "DatetimeIndex: 987 entries, 2020-04-26 21:53:59.624136 to 2020-05-21 16:36:40.915488\n",
      "Data columns (total 1 columns):\n",
      " #   Column  Non-Null Count  Dtype \n",
      "---  ------  --------------  ----- \n",
      " 0   uid     987 non-null    object\n",
      "dtypes: object(1)\n",
      "memory usage: 15.4+ KB\n",
      "None\n"
     ]
    }
   ],
   "execution_count": 4
  },
  {
   "metadata": {
    "ExecuteTime": {
     "end_time": "2025-07-23T07:35:17.939095Z",
     "start_time": "2025-07-23T07:35:17.918846Z"
    }
   },
   "cell_type": "code",
   "source": [
    "print(\"Close connection with database\")\n",
    "connection.close()"
   ],
   "id": "1f7ccd5a1b706868",
   "outputs": [
    {
     "name": "stdout",
     "output_type": "stream",
     "text": [
      "Close connection with database\n"
     ]
    }
   ],
   "execution_count": 5
  }
 ],
 "metadata": {
  "kernelspec": {
   "display_name": "Python 3",
   "language": "python",
   "name": "python3"
  },
  "language_info": {
   "codemirror_mode": {
    "name": "ipython",
    "version": 2
   },
   "file_extension": ".py",
   "mimetype": "text/x-python",
   "name": "python",
   "nbconvert_exporter": "python",
   "pygments_lexer": "ipython2",
   "version": "2.7.6"
  }
 },
 "nbformat": 4,
 "nbformat_minor": 5
}
