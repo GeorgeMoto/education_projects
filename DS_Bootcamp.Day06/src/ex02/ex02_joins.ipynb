{
 "cells": [
  {
   "metadata": {
    "ExecuteTime": {
     "end_time": "2025-07-23T07:46:44.020837Z",
     "start_time": "2025-07-23T07:46:42.909138Z"
    }
   },
   "cell_type": "code",
   "source": [
    "import pandas as pd\n",
    "import sqlite3"
   ],
   "id": "44d51a9454199fc5",
   "outputs": [],
   "execution_count": 1
  },
  {
   "metadata": {
    "ExecuteTime": {
     "end_time": "2025-07-23T07:46:44.607139Z",
     "start_time": "2025-07-23T07:46:44.595137Z"
    }
   },
   "cell_type": "code",
   "source": [
    "try:\n",
    "    connection = sqlite3.connect(\"../data/checking-logs.sqlite\")\n",
    "    print(\"Successfully connected to database\")\n",
    "except FileNotFoundError as e:\n",
    "    print(\"File not found\")\n",
    "    raise e"
   ],
   "id": "b1a07b23dd2a82e2",
   "outputs": [
    {
     "name": "stdout",
     "output_type": "stream",
     "text": [
      "Successfully connected to database\n"
     ]
    }
   ],
   "execution_count": 2
  },
  {
   "metadata": {
    "ExecuteTime": {
     "end_time": "2025-07-23T07:46:44.700593Z",
     "start_time": "2025-07-23T07:46:44.659613Z"
    }
   },
   "cell_type": "code",
   "source": [
    "try:\n",
    "    delete_table = \"DROP TABLE datamart\"\n",
    "\n",
    "    create_datamart_query = \"\"\"\n",
    "    CREATE TABLE datamart AS\n",
    "    SELECT\n",
    "        c.uid,\n",
    "        c.labname,\n",
    "        c.timestamp as first_commit_ts,\n",
    "        MIN(p.datetime) as first_view_ts\n",
    "    FROM checker c\n",
    "    LEFT JOIN pageviews p ON c.uid = p.uid\n",
    "    WHERE c.status = 'ready'\n",
    "        AND c.numTrials = 1\n",
    "        AND c.labname IN ('laba04', 'laba04s', 'laba05', 'laba06', 'laba06s', 'project1')\n",
    "        AND c.uid LIKE 'user_%'\n",
    "    GROUP BY c.uid, c.labname, c.timestamp\n",
    "    \"\"\"\n",
    "\n",
    "    connection.execute(delete_table)\n",
    "    connection.execute(create_datamart_query)\n",
    "    connection.commit()\n",
    "    print(\"Creating datamart table\")\n",
    "\n",
    "\n",
    "except sqlite3.OperationalError as e:\n",
    "    print(\"Database error\")\n",
    "    raise e"
   ],
   "id": "7a6878bacd1d3728",
   "outputs": [
    {
     "name": "stdout",
     "output_type": "stream",
     "text": [
      "Creating datamart table\n"
     ]
    }
   ],
   "execution_count": 3
  },
  {
   "metadata": {
    "ExecuteTime": {
     "end_time": "2025-07-23T07:46:44.808108Z",
     "start_time": "2025-07-23T07:46:44.733920Z"
    }
   },
   "cell_type": "code",
   "source": [
    "datamart = pd.read_sql(\"SELECT * FROM datamart\", connection)\n",
    "\n",
    "# Преобразуем timestamp колонки в datetime64[ns]\n",
    "datamart['first_commit_ts'] = pd.to_datetime(datamart['first_commit_ts'])\n",
    "datamart['first_view_ts'] = pd.to_datetime(datamart['first_view_ts'])\n",
    "\n",
    "# Сохраняем обратно в базу с правильными типами данных\n",
    "datamart.to_sql('datamart', connection, if_exists='replace', index=False)\n",
    "\n",
    "print(f\"Lenght of datamart {len(datamart)}\")\n",
    "print(\"\\nFirst rows\")\n",
    "print(datamart.head())\n",
    "print(\"\\nData types:\")\n",
    "print(datamart.dtypes)\n",
    "print(datamart.info())\n"
   ],
   "id": "bc63552290311547",
   "outputs": [
    {
     "name": "stdout",
     "output_type": "stream",
     "text": [
      "Lenght of datamart 140\n",
      "\n",
      "First rows\n",
      "      uid  labname            first_commit_ts              first_view_ts\n",
      "0  user_1   laba04 2020-04-26 17:06:18.462708 2020-04-26 21:53:59.624136\n",
      "1  user_1  laba04s 2020-04-26 17:12:11.843671 2020-04-26 21:53:59.624136\n",
      "2  user_1   laba05 2020-05-02 19:15:18.540185 2020-04-26 21:53:59.624136\n",
      "3  user_1   laba06 2020-05-17 16:26:35.268534 2020-04-26 21:53:59.624136\n",
      "4  user_1  laba06s 2020-05-20 12:23:37.289724 2020-04-26 21:53:59.624136\n",
      "\n",
      "Data types:\n",
      "uid                        object\n",
      "labname                    object\n",
      "first_commit_ts    datetime64[ns]\n",
      "first_view_ts      datetime64[ns]\n",
      "dtype: object\n",
      "<class 'pandas.core.frame.DataFrame'>\n",
      "RangeIndex: 140 entries, 0 to 139\n",
      "Data columns (total 4 columns):\n",
      " #   Column           Non-Null Count  Dtype         \n",
      "---  ------           --------------  -----         \n",
      " 0   uid              140 non-null    object        \n",
      " 1   labname          140 non-null    object        \n",
      " 2   first_commit_ts  140 non-null    datetime64[ns]\n",
      " 3   first_view_ts    59 non-null     datetime64[ns]\n",
      "dtypes: datetime64[ns](2), object(2)\n",
      "memory usage: 4.5+ KB\n",
      "None\n"
     ]
    }
   ],
   "execution_count": 4
  },
  {
   "metadata": {
    "ExecuteTime": {
     "end_time": "2025-07-23T07:46:44.916371Z",
     "start_time": "2025-07-23T07:46:44.860321Z"
    }
   },
   "cell_type": "code",
   "source": [
    "#Создаем test группу (пользователи с first_view_ts)\n",
    "print(\"\\nСоздаем test группу\")\n",
    "test = datamart[datamart['first_view_ts'].notna()].copy()\n",
    "\n",
    "# Создаем control группу (пользователи без first_view_ts)\n",
    "print(\"\\nСоздаем control группу\")\n",
    "control = datamart[datamart['first_view_ts'].isna()].copy()\n",
    "\n",
    "# Вычисляем среднее first_view_ts из test группы\n",
    "avg_first_view_ts = test['first_view_ts'].mean()\n",
    "print(f\"Среднее first_view_ts из test группы: {avg_first_view_ts}\")\n",
    "\n",
    "# Заменяем пропущенные значения в control группе на среднее\n",
    "print(\"\\nЗаполняем пропущенные значения\")\n",
    "control['first_view_ts'] = control['first_view_ts'].fillna(avg_first_view_ts)\n",
    "\n",
    "print(\"\\nTest группа (первые 3 строки):\")\n",
    "print(test.head(3))\n",
    "print(\"\\nControl группа (первые 3 строки):\")\n",
    "print(control.head(3))\n",
    "\n",
    "print(test.info())\n",
    "print(control.info())"
   ],
   "id": "d1f3f64e713ebfc5",
   "outputs": [
    {
     "name": "stdout",
     "output_type": "stream",
     "text": [
      "\n",
      "Создаем test группу\n",
      "\n",
      "Создаем control группу\n",
      "Среднее first_view_ts из test группы: 2020-04-27 00:40:05.761783552\n",
      "\n",
      "Заполняем пропущенные значения\n",
      "\n",
      "Test группа (первые 3 строки):\n",
      "      uid  labname            first_commit_ts              first_view_ts\n",
      "0  user_1   laba04 2020-04-26 17:06:18.462708 2020-04-26 21:53:59.624136\n",
      "1  user_1  laba04s 2020-04-26 17:12:11.843671 2020-04-26 21:53:59.624136\n",
      "2  user_1   laba05 2020-05-02 19:15:18.540185 2020-04-26 21:53:59.624136\n",
      "\n",
      "Control группа (первые 3 строки):\n",
      "        uid   labname            first_commit_ts                 first_view_ts\n",
      "12  user_11    laba05 2020-05-03 21:06:55.970293 2020-04-27 00:40:05.761783552\n",
      "13  user_11  project1 2020-05-03 23:45:33.673409 2020-04-27 00:40:05.761783552\n",
      "14  user_12    laba04 2020-04-18 17:07:51.767358 2020-04-27 00:40:05.761783552\n",
      "<class 'pandas.core.frame.DataFrame'>\n",
      "Index: 59 entries, 0 to 114\n",
      "Data columns (total 4 columns):\n",
      " #   Column           Non-Null Count  Dtype         \n",
      "---  ------           --------------  -----         \n",
      " 0   uid              59 non-null     object        \n",
      " 1   labname          59 non-null     object        \n",
      " 2   first_commit_ts  59 non-null     datetime64[ns]\n",
      " 3   first_view_ts    59 non-null     datetime64[ns]\n",
      "dtypes: datetime64[ns](2), object(2)\n",
      "memory usage: 2.3+ KB\n",
      "None\n",
      "<class 'pandas.core.frame.DataFrame'>\n",
      "Index: 81 entries, 12 to 139\n",
      "Data columns (total 4 columns):\n",
      " #   Column           Non-Null Count  Dtype         \n",
      "---  ------           --------------  -----         \n",
      " 0   uid              81 non-null     object        \n",
      " 1   labname          81 non-null     object        \n",
      " 2   first_commit_ts  81 non-null     datetime64[ns]\n",
      " 3   first_view_ts    81 non-null     datetime64[ns]\n",
      "dtypes: datetime64[ns](2), object(2)\n",
      "memory usage: 3.2+ KB\n",
      "None\n"
     ]
    }
   ],
   "execution_count": 5
  },
  {
   "metadata": {
    "ExecuteTime": {
     "end_time": "2025-07-23T07:46:45.134607Z",
     "start_time": "2025-07-23T07:46:45.015826Z"
    }
   },
   "cell_type": "code",
   "source": [
    "try:\n",
    "    test.to_sql('test', connection, if_exists='replace', index=False)\n",
    "    control.to_sql('control', connection, if_exists='replace', index=False)\n",
    "\n",
    "except sqlite3.OperationalError as e:\n",
    "    print(\"Database error\")\n",
    "    raise e\n",
    "\n",
    "\n",
    "print(\"\\nTables check\")\n",
    "test_check = pd.read_sql(\"SELECT COUNT(*) as count FROM test\", connection)\n",
    "control_check = pd.read_sql(\"SELECT COUNT(*) as count FROM control\", connection)\n",
    "\n",
    "print(f\"Строк в таблице test: {test_check['count'].iloc[0]}\")\n",
    "print(f\"Строк в таблице control: {control_check['count'].iloc[0]}\")\n",
    "\n",
    "\n",
    "connection.close()"
   ],
   "id": "cdcf7bddd83ed8de",
   "outputs": [
    {
     "name": "stdout",
     "output_type": "stream",
     "text": [
      "\n",
      "Tables check\n",
      "Строк в таблице test: 59\n",
      "Строк в таблице control: 81\n"
     ]
    }
   ],
   "execution_count": 6
  }
 ],
 "metadata": {
  "kernelspec": {
   "display_name": "Python 3",
   "language": "python",
   "name": "python3"
  },
  "language_info": {
   "codemirror_mode": {
    "name": "ipython",
    "version": 2
   },
   "file_extension": ".py",
   "mimetype": "text/x-python",
   "name": "python",
   "nbconvert_exporter": "python",
   "pygments_lexer": "ipython2",
   "version": "2.7.6"
  }
 },
 "nbformat": 4,
 "nbformat_minor": 5
}
